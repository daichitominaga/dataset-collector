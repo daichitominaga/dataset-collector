{
  "cells": [
    {
      "cell_type": "code",
      "execution_count": null,
      "metadata": {
        "colab": {
          "base_uri": "https://localhost:8080/"
        },
        "id": "00SGK_aCWwih",
        "outputId": "a26880b8-f905-4212-a9bf-f381a9b23a2c"
      },
      "outputs": [
        {
          "output_type": "stream",
          "name": "stdout",
          "text": [
            "Requirement already satisfied: transformers in /usr/local/lib/python3.10/dist-packages (4.35.2)\n",
            "Requirement already satisfied: filelock in /usr/local/lib/python3.10/dist-packages (from transformers) (3.13.1)\n",
            "Requirement already satisfied: huggingface-hub<1.0,>=0.16.4 in /usr/local/lib/python3.10/dist-packages (from transformers) (0.19.4)\n",
            "Requirement already satisfied: numpy>=1.17 in /usr/local/lib/python3.10/dist-packages (from transformers) (1.23.5)\n",
            "Requirement already satisfied: packaging>=20.0 in /usr/local/lib/python3.10/dist-packages (from transformers) (23.2)\n",
            "Requirement already satisfied: pyyaml>=5.1 in /usr/local/lib/python3.10/dist-packages (from transformers) (6.0.1)\n",
            "Requirement already satisfied: regex!=2019.12.17 in /usr/local/lib/python3.10/dist-packages (from transformers) (2023.6.3)\n",
            "Requirement already satisfied: requests in /usr/local/lib/python3.10/dist-packages (from transformers) (2.31.0)\n",
            "Requirement already satisfied: tokenizers<0.19,>=0.14 in /usr/local/lib/python3.10/dist-packages (from transformers) (0.15.0)\n",
            "Requirement already satisfied: safetensors>=0.3.1 in /usr/local/lib/python3.10/dist-packages (from transformers) (0.4.1)\n",
            "Requirement already satisfied: tqdm>=4.27 in /usr/local/lib/python3.10/dist-packages (from transformers) (4.66.1)\n",
            "Requirement already satisfied: fsspec>=2023.5.0 in /usr/local/lib/python3.10/dist-packages (from huggingface-hub<1.0,>=0.16.4->transformers) (2023.6.0)\n",
            "Requirement already satisfied: typing-extensions>=3.7.4.3 in /usr/local/lib/python3.10/dist-packages (from huggingface-hub<1.0,>=0.16.4->transformers) (4.5.0)\n",
            "Requirement already satisfied: charset-normalizer<4,>=2 in /usr/local/lib/python3.10/dist-packages (from requests->transformers) (3.3.2)\n",
            "Requirement already satisfied: idna<4,>=2.5 in /usr/local/lib/python3.10/dist-packages (from requests->transformers) (3.6)\n",
            "Requirement already satisfied: urllib3<3,>=1.21.1 in /usr/local/lib/python3.10/dist-packages (from requests->transformers) (2.0.7)\n",
            "Requirement already satisfied: certifi>=2017.4.17 in /usr/local/lib/python3.10/dist-packages (from requests->transformers) (2023.11.17)\n",
            "Collecting fugashi\n",
            "  Downloading fugashi-1.3.0-cp310-cp310-manylinux_2_17_x86_64.manylinux2014_x86_64.whl (600 kB)\n",
            "\u001b[2K     \u001b[90m━━━━━━━━━━━━━━━━━━━━━━━━━━━━━━━━━━━━━━━━\u001b[0m \u001b[32m600.9/600.9 kB\u001b[0m \u001b[31m3.5 MB/s\u001b[0m eta \u001b[36m0:00:00\u001b[0m\n",
            "\u001b[?25hInstalling collected packages: fugashi\n",
            "Successfully installed fugashi-1.3.0\n",
            "Collecting ipadic\n",
            "  Downloading ipadic-1.0.0.tar.gz (13.4 MB)\n",
            "\u001b[2K     \u001b[90m━━━━━━━━━━━━━━━━━━━━━━━━━━━━━━━━━━━━━━━━\u001b[0m \u001b[32m13.4/13.4 MB\u001b[0m \u001b[31m59.5 MB/s\u001b[0m eta \u001b[36m0:00:00\u001b[0m\n",
            "\u001b[?25h  Preparing metadata (setup.py) ... \u001b[?25l\u001b[?25hdone\n",
            "Building wheels for collected packages: ipadic\n",
            "  Building wheel for ipadic (setup.py) ... \u001b[?25l\u001b[?25hdone\n",
            "  Created wheel for ipadic: filename=ipadic-1.0.0-py3-none-any.whl size=13556704 sha256=f9a116b96a3789140ee0096b61e880d8dfb2f9505765e1b00fc43c9ab68d8e96\n",
            "  Stored in directory: /root/.cache/pip/wheels/5b/ea/e3/2f6e0860a327daba3b030853fce4483ed37468bbf1101c59c3\n",
            "Successfully built ipadic\n",
            "Installing collected packages: ipadic\n",
            "Successfully installed ipadic-1.0.0\n",
            "Collecting tensorrt\n",
            "  Downloading tensorrt-8.6.1.post1.tar.gz (18 kB)\n",
            "  Preparing metadata (setup.py) ... \u001b[?25l\u001b[?25hdone\n",
            "Building wheels for collected packages: tensorrt\n",
            "  Building wheel for tensorrt (setup.py) ... \u001b[?25l\u001b[?25hdone\n",
            "  Created wheel for tensorrt: filename=tensorrt-8.6.1.post1-py2.py3-none-any.whl size=17283 sha256=2cdfdbbf65a2c05977c341051af89e8685626059d4601d42bac4f611abb68c86\n",
            "  Stored in directory: /root/.cache/pip/wheels/f4/c8/0e/b79b08e45752491b9acfdbd69e8a609e8b2ed7640dda5a3e59\n",
            "Successfully built tensorrt\n",
            "Installing collected packages: tensorrt\n",
            "Successfully installed tensorrt-8.6.1.post1\n"
          ]
        }
      ],
      "source": [
        "!pip install transformers\n",
        "!pip install --force-reinstall fugashi\n",
        "!pip install ipadic\n",
        "!pip install tensorrt"
      ]
    },
    {
      "cell_type": "code",
      "execution_count": null,
      "metadata": {
        "id": "m8ioZRKXYLXx"
      },
      "outputs": [],
      "source": [
        "import numpy as np\n",
        "from sklearn.model_selection import train_test_split\n",
        "from sklearn.svm import SVC\n",
        "from sklearn.metrics import accuracy_score, classification_report\n",
        "from transformers import AutoTokenizer, AutoModel, TFAutoModelForSequenceClassification, AutoTokenizer, BertTokenizer, TFBertModel, TFAutoModel\n",
        "import torch"
      ]
    },
    {
      "cell_type": "markdown",
      "metadata": {
        "id": "N-ahdPEY2AoT"
      },
      "source": []
    },
    {
      "cell_type": "code",
      "execution_count": null,
      "metadata": {
        "id": "T5Ed41--LCWR"
      },
      "outputs": [],
      "source": [
        "import tensorflow as tf\n",
        "import os\n",
        "# TPU\n",
        "# resolver = tf.distribute.cluster_resolver.TPUClusterResolver(tpu='grpc://' + os.environ['COLAB_TPU_ADDR'])\n",
        "# tf.config.experimental_connect_to_cluster(resolver)\n",
        "# tf.tpu.experimental.initialize_tpu_system(resolver)\n",
        "# # strategy = tf.distribute.experimental.TPUStrategy(resolver)\n",
        "# strategy = tf.distribute.TPUStrategy(resolver)\n",
        "\n",
        "# print(\"TPUが利用可能です\")\n",
        "\n",
        "# GPU\n",
        "strategy = tf.distribute.OneDeviceStrategy(device=\"/gpu:0\")"
      ]
    },
    {
      "cell_type": "code",
      "execution_count": null,
      "metadata": {
        "colab": {
          "base_uri": "https://localhost:8080/"
        },
        "id": "KeHa7CvFgQPX",
        "outputId": "aca77e21-e10f-43e9-f09b-3296decf8e4e"
      },
      "outputs": [
        {
          "output_type": "stream",
          "name": "stdout",
          "text": [
            "Physical devices cannot be modified after being initialized\n"
          ]
        }
      ],
      "source": [
        "gpus = tf.config.list_physical_devices('GPU')\n",
        "if gpus:\n",
        "  try:\n",
        "    # Currently, memory growth needs to be the same across GPUs\n",
        "    for gpu in gpus:\n",
        "      tf.config.experimental.set_memory_growth(gpu, True)\n",
        "    logical_gpus = tf.config.list_logical_devices('GPU')\n",
        "    print(len(gpus), \"Physical GPUs,\", len(logical_gpus), \"Logical GPUs\")\n",
        "  except RuntimeError as e:\n",
        "    # Memory growth must be set before GPUs have been initialized\n",
        "    print(e)"
      ]
    },
    {
      "cell_type": "code",
      "execution_count": null,
      "metadata": {
        "colab": {
          "base_uri": "https://localhost:8080/",
          "height": 284,
          "referenced_widgets": [
            "b74024de9beb405a9dcd3e8ce81b04e2",
            "c83051332a3a4b20a98a1c57ab2e7906",
            "b2d8d00053824d83a201a08ac7073c8c",
            "bb53a02b51024e84af575f4a59333aae",
            "85b7b76abb9b466689f9ca6bfe31193e",
            "dced8185f9124e1b8b72ae736d6a3da6",
            "f07502395cba45d2bcb233e606ce317f",
            "50f37ad7663f4572b294e2f3c5c9e5d8",
            "1c1f4c65bd204e71b4d9a0d2ffdf6347",
            "451cd86f9862410b95eb09b25b94d3b4",
            "636baa1ad4524c499ee187c146a2cb28",
            "7dc754e57cc54b08bd4432cc08d2fa94",
            "ec897d89b19645f9ba59246ec1ad2421",
            "e59712d6f2824981bb91cc81df04ce0a",
            "1e267e7be82943baaf1a669cca6fdaf8",
            "f011799ac6a5442fb1ffe132652b09f9",
            "69fd74226a6c4059a7248a9958a6e796",
            "a054cb48302c4e0eb428187723449822",
            "d0dcd102db7349e7bef7c7a166136913",
            "0fa97239ff3749deadcebb4bcaf09d1e",
            "e12f12d55a56429397ebb9a7e36c24cc",
            "4e436a668d5f4b618723db38d7e3e7f2",
            "94660bfdec464904ad9eb1bb910ca2c9",
            "e0214cb541b54321848b3bdc576fa2e6",
            "a2f36b1237f14d4eb77e0c5134ab7449",
            "cb839dcc98dd45aaa045115862e3138b",
            "afc630b7c6d04230a903cb0a397b6fae",
            "602f395ca81b40099a1faaa1ec026a84",
            "f172710b13e14101b89b791be1bb2004",
            "ac2f7a232596468b9c424b28bc239ccc",
            "dd268385bf0e4fc5b0f9a069fdb264f7",
            "b9bf3f59629a4917ac51109eb937c0e2",
            "f604307197d34f548fc32a70609c5766",
            "72b0d9256b5d4779a5dd2875ae34e2bf",
            "8b62abd7c50349bdafde2d4de9cb71a7",
            "01d79ad2e7e943c1a8dd802a5eb79177",
            "ffac12bce7cc41cfa02546187f73a73c",
            "3cfc1327ea8f4ee19d945f1528850e9f",
            "6e23dea8b6cf45aa8bf07ce12873237f",
            "378a4e53bbb74ab092350a81abe96c23",
            "47307b049d2240159429ed99343c286d",
            "d0546f78ef884f19b25b99efcbd430b9",
            "6cc3505eb873481fa7f25b01f1a6bf4a",
            "16b019aa3137461797ae23e3ebfc7291",
            "fe56095baa5a4af59c4aac51ef4907c6",
            "e002f5e4ab624e8892eacd5639fcc21d",
            "859a0c04098f4aceb891c46e3db8aa93",
            "bfaeb25e111240adb4f47a851795f5a7",
            "606475461aac4833a074e29a4b505e2e",
            "da3da4f3c107475f8714d23d51777a9b",
            "16f2736deac446438965225547fbf32d",
            "17d4656a8af340dcb908a285b431bf5a",
            "c82708f75a674cb59f2069492f1137e1",
            "2737c4219c6c47919e4b55711993fd3d",
            "8ea65f995411495eb44aa3db74be2f9a"
          ]
        },
        "id": "Y_T-yCUdy5zB",
        "outputId": "b85ff1b0-a9f3-4a8c-d95a-6669ce88a672"
      },
      "outputs": [
        {
          "output_type": "display_data",
          "data": {
            "text/plain": [
              "tokenizer_config.json:   0%|          | 0.00/28.0 [00:00<?, ?B/s]"
            ],
            "application/vnd.jupyter.widget-view+json": {
              "version_major": 2,
              "version_minor": 0,
              "model_id": "b74024de9beb405a9dcd3e8ce81b04e2"
            }
          },
          "metadata": {}
        },
        {
          "output_type": "display_data",
          "data": {
            "text/plain": [
              "config.json:   0%|          | 0.00/483 [00:00<?, ?B/s]"
            ],
            "application/vnd.jupyter.widget-view+json": {
              "version_major": 2,
              "version_minor": 0,
              "model_id": "7dc754e57cc54b08bd4432cc08d2fa94"
            }
          },
          "metadata": {}
        },
        {
          "output_type": "display_data",
          "data": {
            "text/plain": [
              "vocab.txt:   0%|          | 0.00/232k [00:00<?, ?B/s]"
            ],
            "application/vnd.jupyter.widget-view+json": {
              "version_major": 2,
              "version_minor": 0,
              "model_id": "94660bfdec464904ad9eb1bb910ca2c9"
            }
          },
          "metadata": {}
        },
        {
          "output_type": "display_data",
          "data": {
            "text/plain": [
              "tokenizer.json:   0%|          | 0.00/466k [00:00<?, ?B/s]"
            ],
            "application/vnd.jupyter.widget-view+json": {
              "version_major": 2,
              "version_minor": 0,
              "model_id": "72b0d9256b5d4779a5dd2875ae34e2bf"
            }
          },
          "metadata": {}
        },
        {
          "output_type": "display_data",
          "data": {
            "text/plain": [
              "model.safetensors:   0%|          | 0.00/268M [00:00<?, ?B/s]"
            ],
            "application/vnd.jupyter.widget-view+json": {
              "version_major": 2,
              "version_minor": 0,
              "model_id": "fe56095baa5a4af59c4aac51ef4907c6"
            }
          },
          "metadata": {}
        },
        {
          "output_type": "stream",
          "name": "stderr",
          "text": [
            "Some weights of the PyTorch model were not used when initializing the TF 2.0 model TFDistilBertModel: ['vocab_projector.bias', 'vocab_layer_norm.bias', 'vocab_transform.bias', 'vocab_transform.weight', 'vocab_layer_norm.weight']\n",
            "- This IS expected if you are initializing TFDistilBertModel from a PyTorch model trained on another task or with another architecture (e.g. initializing a TFBertForSequenceClassification model from a BertForPreTraining model).\n",
            "- This IS NOT expected if you are initializing TFDistilBertModel from a PyTorch model that you expect to be exactly identical (e.g. initializing a TFBertForSequenceClassification model from a BertForSequenceClassification model).\n",
            "All the weights of TFDistilBertModel were initialized from the PyTorch model.\n",
            "If your task is similar to the task the model of the checkpoint was trained on, you can already use TFDistilBertModel for predictions without further training.\n"
          ]
        }
      ],
      "source": [
        "MODEL_NAME = \"distilbert-base-uncased\"\n",
        "\n",
        "with strategy.scope():\n",
        "    tokenizer = AutoTokenizer.from_pretrained(MODEL_NAME)\n",
        "    bert_model = TFAutoModel.from_pretrained(MODEL_NAME)"
      ]
    },
    {
      "cell_type": "code",
      "execution_count": null,
      "metadata": {
        "id": "3XsISU3kYTul"
      },
      "outputs": [],
      "source": [
        "def text_to_bert_vector(texts, batch_size=8):\n",
        "    vectors = []\n",
        "    for i in range(0, len(texts), batch_size):\n",
        "        inputs = tokenizer(texts[i:i+batch_size], return_tensors='tf', max_length=512, truncation=True, padding='max_length')\n",
        "        outputs = bert_model(**inputs)\n",
        "        vectors.extend(outputs.last_hidden_state[:, 0, :].numpy())\n",
        "    return np.array(vectors)\n",
        "\n",
        "def texts_to_concat_vectors(texts_list, batch_size=8):\n",
        "    # 最大サイズを取得\n",
        "    # max_size = max([len(texts) for texts in texts_list])\n",
        "    # max_size = 1000\n",
        "    max_size = 500\n",
        "\n",
        "    # ダミーデータを追加\n",
        "    padded_texts_list = []\n",
        "    for texts in texts_list:\n",
        "        padded_texts = texts.copy()\n",
        "        if len(padded_texts) > max_size:\n",
        "          padded_texts = padded_texts[:(max_size-1)]\n",
        "        while len(padded_texts) < max_size:\n",
        "            padded_texts.append(\"dummy\")\n",
        "        padded_texts_list.append(tuple(padded_texts))\n",
        "\n",
        "    # ベクトル化と連結\n",
        "    vectors_list = []\n",
        "    for i, texts in enumerate(padded_texts_list):\n",
        "        if i < 100 and i % 20 == 0:\n",
        "            print(i)\n",
        "        if i % 100 == 0:\n",
        "            print(i)\n",
        "        text_vectors = text_to_bert_vector(texts, batch_size)\n",
        "        concatenated_vector = np.hstack(text_vectors)\n",
        "        vectors_list.append(concatenated_vector)\n",
        "\n",
        "    return np.vstack(vectors_list)\n"
      ]
    },
    {
      "cell_type": "code",
      "execution_count": null,
      "metadata": {
        "colab": {
          "base_uri": "https://localhost:8080/"
        },
        "id": "ABjShfOc7ZrA",
        "outputId": "c4974802-71e2-44cd-ac12-5452344c31ef"
      },
      "outputs": [
        {
          "output_type": "stream",
          "name": "stdout",
          "text": [
            "Mounted at /content/gdrive\n"
          ]
        }
      ],
      "source": [
        "#ドライブ設定\n",
        "PATH_GMOUNT='/content/gdrive'\n",
        "PATH_MYDRIVE=PATH_GMOUNT+'/My Drive'\n",
        "\n",
        "#GDriveマウント\n",
        "from google.colab import drive\n",
        "drive.mount(PATH_GMOUNT)"
      ]
    },
    {
      "cell_type": "code",
      "execution_count": null,
      "metadata": {
        "id": "iL2nOMgV7w06"
      },
      "outputs": [],
      "source": [
        "import pandas as pd\n",
        "import os\n",
        "def load_dataframe(csv_file_name=f'{PATH_MYDRIVE}/dataset/dataset_source_code_learn.csv'):\n",
        "  return pd.read_csv(csv_file_name)"
      ]
    },
    {
      "cell_type": "code",
      "execution_count": null,
      "metadata": {
        "colab": {
          "base_uri": "https://localhost:8080/"
        },
        "id": "cLpS5f983sZZ",
        "outputId": "9db0bd8d-1799-4b94-fd8a-c459e9383c2d"
      },
      "outputs": [
        {
          "output_type": "stream",
          "name": "stdout",
          "text": [
            "Fri Dec 29 02:21:32 2023       \n",
            "+---------------------------------------------------------------------------------------+\n",
            "| NVIDIA-SMI 535.104.05             Driver Version: 535.104.05   CUDA Version: 12.2     |\n",
            "|-----------------------------------------+----------------------+----------------------+\n",
            "| GPU  Name                 Persistence-M | Bus-Id        Disp.A | Volatile Uncorr. ECC |\n",
            "| Fan  Temp   Perf          Pwr:Usage/Cap |         Memory-Usage | GPU-Util  Compute M. |\n",
            "|                                         |                      |               MIG M. |\n",
            "|=========================================+======================+======================|\n",
            "|   0  Tesla V100-SXM2-16GB           Off | 00000000:00:04.0 Off |                    0 |\n",
            "| N/A   34C    P0              42W / 300W |   1346MiB / 16384MiB |      0%      Default |\n",
            "|                                         |                      |                  N/A |\n",
            "+-----------------------------------------+----------------------+----------------------+\n",
            "                                                                                         \n",
            "+---------------------------------------------------------------------------------------+\n",
            "| Processes:                                                                            |\n",
            "|  GPU   GI   CI        PID   Type   Process name                            GPU Memory |\n",
            "|        ID   ID                                                             Usage      |\n",
            "|=======================================================================================|\n",
            "+---------------------------------------------------------------------------------------+\n"
          ]
        }
      ],
      "source": [
        "!nvidia-smi"
      ]
    },
    {
      "cell_type": "code",
      "execution_count": null,
      "metadata": {
        "colab": {
          "base_uri": "https://localhost:8080/"
        },
        "id": "gnAkAj-CEjLg",
        "outputId": "9044cb51-0fab-480b-9878-758b729d3edf"
      },
      "outputs": [
        {
          "output_type": "stream",
          "name": "stdout",
          "text": [
            "0    317\n",
            "1    317\n",
            "Name: label, dtype: int64\n"
          ]
        }
      ],
      "source": [
        "# データセットの数を合わせる\n",
        "dataframe = load_dataframe(f'{PATH_MYDRIVE}/dataset/dataset_source_code_learn.csv')\n",
        "df_majority = dataframe[dataframe.label==0]\n",
        "df_minority = dataframe[dataframe.label==1]\n",
        "from sklearn.utils import resample\n",
        "df_majority_downsampled = resample(df_majority,\n",
        "                                   replace=False,    # sample without replacement\n",
        "                                   n_samples=len(df_minority),     # to match minority class\n",
        "                                   random_state=123) # reproducible results\n",
        "df_downsampled = pd.concat([df_majority_downsampled, df_minority])\n",
        "print(df_downsampled['label'].value_counts())\n",
        "dataframe = df_downsampled"
      ]
    },
    {
      "cell_type": "code",
      "execution_count": null,
      "metadata": {
        "id": "ivHBbnH19NAN"
      },
      "outputs": [],
      "source": [
        "dataframe = load_dataframe(f'{PATH_MYDRIVE}/dataset/dataset_source_code_learn.csv')\n",
        "# dataframe = load_dataframe(f'{PATH_MYDRIVE}/dataset_learn_v2.csv')\n",
        "labels = dataframe[\"label\"].tolist()\n",
        "str_text_list = dataframe[\"code\"].tolist()\n",
        "import ast\n",
        "texts_list = [ast.literal_eval(text) for text in str_text_list]"
      ]
    },
    {
      "cell_type": "code",
      "execution_count": null,
      "metadata": {
        "colab": {
          "base_uri": "https://localhost:8080/"
        },
        "id": "giOH6pEeFT__",
        "outputId": "14d83c45-5703-461e-e44a-18bd0bc3e2d1"
      },
      "outputs": [
        {
          "output_type": "stream",
          "name": "stdout",
          "text": [
            "['rotation_matrix_common.py', 'npysThemes.py', '_atom.py', 'ad_type.py', 'dispatcher.py', 'delete.py', 'filelist.py', 'time.py', 'filenaming.py', 'sentence_gen.py', 'latency.py', 'difference_formatter.py', 'raytrace_memray.py', 'synonymset_service.py', 'KeyCommand.py', 'misc.py', 'service.py', 'commitment_utils.py', 'plan.py', 'configuration_bert.py', 'attention.py', 'run.py', 'registory.py', 'poll_twitter.py', 'mem_eff_attention.py', 'instrumentation.py', 'server.py', 'campaign_customizer.py', 'menunewchar.py', 'SVM_scikit-learn.py', 'pass.py', 'streams.py', 'color.py', 'tutorial003.py', 'command.py', 'etcd_pillar.py', 'instance_actions.py', 'conversion_action.py', 'config.py', 'jumpcutter.py', 'monitor.py', 'loaderbase.py', 'theme_menu.py', 'linux_service.py', 'variants.py', 'academy_counterattack_hard.py', 'wordpress.py', 'humanoid.py', 'models.py', 'nbnsspoof.py', 'creation.py', 'language_request.py', 'print_to_stdout_and_stderr.py', 'frame_tools.py', 'header.py', 'firewall.py', 'mixin.py', 'PkgResourcesPlugin.py', 'area_callback_look_both_ways.py', 'convert_clip_original_pytorch_to_hf.py', 'net_utils.py', 'restore_data.py', 'slurm.py', 'decoders.py', 'credentials.py', 'speaker_image_sizes.py', 'get_active_activity_groups.py', 'post_check.py', 'setup5.py', 'Organization.py', 'timestamps.py', 'game.py', 'my2sql.py', 'decorator.py', 'koAsyncOperationUtils.py', 'trpo.py', 'notification.py', 'coriant_ssh.py', 'timer.py', 'gpu_monitor.py', 'or_gate.py', 'subproc.py', 'NULL.py', 'telegram.py', 'validators.py', 'chose_instances.py', 'numpy_client.py', 'quickvariations.py', 'conf.py', 'club_wrong.py', 'client.py', 'hf_utils.py', 'revisions.py', 'Download.py', 'labels_response.py', 'tools.py', 'asyncio.py', 'setup1.py', 'this.py', 'alarmclock.py', 'constants.py', 'multi.py', 'subsection_grade.py', 'rosen.py', 'configuration_reformer.py', 'route53_service.py', 'lead_form_desired_intent.py', 'REINFORCE.py', 'watchdog_1.py', 'extension_type.py', 'Textable.py', '__init__1.py', 'about_true_and_false.py', 'kwallet.py', 'workflow_job_template_node.py', '__init__.py', 'gh_dark.py', 'textfile.py', 'fm.py', 'smart_campaign_status.py', 'inception.py', 'core.py', '026_Remove_Duplicates_from_Sorted_Array.py', 'template_summary_summary.py', 'get_shared_file.py', 'long_video_demo.py', 'tsm_r50_cutmix_1x1x8_50e_sthv1_rgb.py', 'owtf.py', 'about.py', 'setup4.py', 'run_pplm.py', 'tokenization_lxmert_fast.py', 'example_discrete_mnl.py', 'clawback_result_code.py', 'api_urls.py', 'mainwindow.py', 'modeling_roberta_prelayernorm.py', 'column_pair_values_greater.py', 'matchsticks-to-square.py', '02_dqn_pong.py', 'mlp.py', 'sdef.py', 'caffepb.py', 'agents.py', 'q_RNN.py', 'facebook.py', '485_Max_Consecutive_Ones.py', 'bareasc.py', 'builder.py', 'animation.py', 'tokenization_fnet.py', 'outputcapture.py', 'parser.py', 'neural_render.py', 'setup3.py', 'url.py', 'lcm.py', 'pad.py', 'slowonly_r50_video_8x8x1_256e_kinetics600_rgb.py', 'ReformulationComparisonExpressions.py', 'short_url.py', 'customizer_value_status.py', 'win_lgpo_reg.py', 'networks.py', 'customer_service.py', 'verify_phone.py', 'time_table_generater.py', 'setup.py', 'pkgin.py', '680_Valid_Palindrome_II.py', 'cpu_adam.py', 'xgettext.py', 'launch.py', 'admin.py', 'common.py', 'redis.py', 'is_power_of_two.py', 'cache_utils.py', 'example.py', 'a2c_config.py', 'utils.py', 'wrappers.py', 'settings_metadata.py', 'libtorrent_endpoint.py', 'column_values_match_strftime_format.py', 'paddle_parser.py', 'Transformer.py', 'examples.py', 'http.py', 'mini_config.py', 'Label.py', 'scenario.py', 'ensemble.py', 'v1_limit_range_item.py', 'vec_check_nan.py', 'ddpg.py', 'runners.py', 'principal_info.py', 'shapekey.py', 'repo.py', 'custom_detection_array_input_output.py', 'rewrite_typing.py', 'train.py', 'convert_pl_checkpoint_to_hf.py', 'stata_dark.py', 'update_proposal_line_items.py', 'connector.py', 'mimishell.py', 'emby.py', 'settings.py', 'app.py', 'smtp.py', 'plugin.py', 'opml.py', 'setup2.py', 'args.py', 'customizer_attribute.py', 'gclient.py', 'user_info.py', 'exceptions.py', 'defaults.py', 'pickle.py', 'replace_nsi.py', 'design-compressed-string-iterator.py', '01-inflect.py', 'v1_deployment_list.py', 'license.py', 'posix.py', 'evaluate.py', 'CTypeNuitkaBooleans.py', 'data_upload.py', 'dataloader.py', 'fannkuch_memray.py', 'statistics.py', 'demo_audio.py', 'grabCut.py', 'validate_config.py', 'sitelink_placeholder_field.py', 'database_error.py', 'c2.py', 'module.py', 'gpu.py', 'tokenization_tapex.py', 'watcher.py', 'visualdl.py', 'windows_tz.py', 'access_code_format.py', 'eval.py', 'google_voice_call_status.py', 'request-reboot.py', 'deltablue_base.py', 'asset_set_asset_status.py', 'modeling_tf_albert.py', 'ana_eval_sparse.py', 'benchmark_utils.py', 'imagenet_dataset.py', 'gam_penalties.py', 'file_picker_options.py', 'main.py', 'currency.py', 'metric_sample.py', '_build_image_api.py', 'ParameterSpecs.py', 'cells.py', 'validate_solutions.py', 'video_recordings.py', 'panel.py', 'modeling.py', 'urls.py', 'ped_det_server.py', '1.汽车之家.py', 'main1.py', 'iscsi.py', 'emitter.py', 'flex.py', '10_evoked_overview.py', 'course_tools.py', 'object_detection.py', 'koESLintLinter.py', 'get_orders_starting_soon.py', 'imports-aliases.py', 'xgb.py', 'drive.py', 'ad_manager.py', 'identity.py', 'bot_commands.py', 'dummy.py', 'vector2d_v2_fmt_snippet.py', 'ad_customizer_error.py', 'coinchooser.py', 'nnet_mlp.py', 'realesrgan_paired_dataset.py', '__main__.py', 'base.py', 'ga3c_config.py', 'private.py', 'training.py', 'queue_pipeline.py', 'QtMultimedia.py', 'views.py', 'winterm.py', 'domainlib.py', 'helm.py', 'draft_group.py', 'spmm.py', 'stop_words.py', 'cursor.py', 'bag-of-words.py', 'networks_associate.py', 'KeyValuePairNodes.py', 'synchronizable_deserializer.py', 'initialise.py', 'yougov_composite.py', 'wsgi.py', 'push.py', '_data_passing_using_volume.py', 'meta.py', 'keras-team-autokeras-image_test.py', 'qiyuangong-leetcode-760_Find_Anagram_Mappings.py', 'PaddlePaddle-PARL-agent.py', 'paramiko-paramiko-kex_ecdh_nist.py', 'readthedocs-readthedocs.org-test_faceted_search.py', 'chainer-chainer-test_einsum.py', 'googleads-google-ads-python.git-geo_targeting_type.py', 'facebookresearch-ParlAI-bb3_3B.py', 'mesonbuild-meson-replacer.py', 'DagsHub-client.git-setup.py', 'skulpt-skulpt-t78.py', 'jmcnamara-XlsxWriter-test_escapes05.py', 'StackStorm-st2-test_logger.py', 'apache-tvm-__init__7.py', 'saltstack-salt-logstash_engine.py', 'keras-team-autokeras-layer_utils.py', 'apache-tvm-deploy_model_on_adreno.py', 'viewfinderco-viewfinder.git-find_user_id.py', 'skulpt-skulpt-test_ordereddict.py', 'aws-serverless-application-model-resources.py', 'Nuitka-Nuitka-__init__2.py', 'viewfinderco-viewfinder.git-parse_cases.py', 'autogluon-autogluon-_utils.py', 'vgrem-Office365-REST-Python-Client.git-type.py', 'TJU-DRL-LAB-AI-Optimizer-main_ppo.py', 'cobrateam-splinter-test_request_handler.py', 'viewfinderco-viewfinder.git-curl_httpclient0.py', 'metabrainz-picard-ui_options.py', 'PacktPublishing-Deep-Reinforcement-Learning-Hands-On-play.py', 'saltstack-salt-beacons.py', 'saltstack-salt-win_path.py', 'aws-serverless-application-model-test_api_v2.py', 'neptune-ai-neptune-client.git-integer.py', 'Kozea-WeasyPrint-__init__.py', 'apache-tvm-runtime.py', 'derv82-wifite-wifite.py', 'a10networks-acos-client.git-vrid.py', 'dmlc-dgl-__init__1.py', 'StackStorm-st2-paramiko_ssh.py', 'achael-eht-imaging-obs_helpers.py', 'sunscrapers-djoser-jwt.py', 'buildbot-buildbot-test_transfer.py', 'openedx-edx-platform-ics.py', 'viewfinderco-viewfinder.git-clean_index_table0.py', 'great-expectations-great_expectations-test_azure_blob_storage_data_connector.py', 'great-expectations-great_expectations-test_utils.py', 'snare-voltron-version.py', 'readthedocs-readthedocs.org-test_build_notifications.py', 'influxdata-influxdb-client-python.git-query_response_to_json.py', 'influxdata-influxdb-client-python.git-variables_service.py', 'PaddlePaddle-PaddleDetection-kalman_filter.py', 'googleads-google-ads-python.git-__init__7.py', 'cloudmesh-client.git-vm.py', 'openedx-edx-platform-test_context.py', 'openstack-nova-neutron.py', 'viewfinderco-viewfinder.git-viewpoint_lock_tracker1.py', 'jmcnamara-XlsxWriter-test_write_header_footer.py', 'rytilahti-python-miio-__init__.py', 'openstack-nova-console.py', 'benoitc-gunicorn.git-statsd.py', 'PaddlePaddle-PaddleDetection-es_pan.py', 'prkumar-uplink-test__extras.py', 'aaugustin-websockets-headers.py', 'open-mmlab-mmaction2-slowfast_r50.py', 'viewfinderco-viewfinder.git-link_identity_op.py', 'Drakkar-Software-OctoBot-community_manager.py', 'viewfinderco-viewfinder.git-log.py', 'dmlc-gluon-cv-export_directpose_tvm.py', 'smallcorgi-Faster-RCNN_TF-nms.py', 'FMInference-FlexGen-test_tokenization_luke.py', 'deepmind-dm_control-thread_safety_test.py', 'cobrateam-splinter-manage.py', 'viewfinderco-viewfinder.git-locale.py', 'crossbario-autobahn-python-backend.py', 'jaegertracing-jaeger-client-python.git-constants.py', 'open-mmlab-mmaction2-audio_dataset.py', 'dmlc-dgl-train_dist_unsupervised_transductive.py', 'Drakkar-Software-OctoBot-octobot.py', 'speechbrain-speechbrain-example_asr_alignment_viterbi_experiment.py', 'viewfinderco-viewfinder.git-hash_base0.py', 'FMInference-FlexGen-load_checkpoint.py', 'googleads-google-ads-python.git-keyword_plan_ad_group_keyword_service.py', 'aio-libs-aiokafka.git-consumer.py', 'viewfinderco-viewfinder.git-merge_accounts_op.py', 'aws-chalice-db.py', 'ansible-awx-0178_instance_group_admin_migration.py', 'docusign-docusign-esign-python-client.git-email_archive_api.py', 'apache-tvm-conv2d_nhwc.py', 'pypi-warehouse-test_http.py', 'docusign-docusign-esign-python-client.git-composite_template.py', 'dmlc-dgl-test_subgraph.py', 'okfn-brasil-serenata-de-amor-0002_remove_django_simple_history.py', 'jumpserver-jumpserver-install_builtin_applets.py', 'hhyo-Archery-asgi.py', 'fluentpython-example-code-2e-primes.py', 'readthedocs-readthedocs.org-0011_delete-url.py', 'viewfinderco-viewfinder.git-op_context1.py', 'readthedocs-readthedocs.org-0015_add_project_allow_promos.py', 'vaexio-vaex-cache_test.py', 'viewfinderco-viewfinder.git-gcm_utils.py', 'janeczku-calibre-web-epub.py', 'openapi-generators-openapi-python-client.git-operation.py', 'googleads-google-ads-python.git-client2.py', 'edgedb-edgedb-test_edgeql_ir_volatility_inference.py', 'apache-tvm-test_te_group.py', 'okfn-brasil-serenata-de-amor-0018_make_issue_date_required.py', 'Tribler-tribler.git-downloadwidgetitem.py', 'TheAlgorithms-Python-area.py', 'nltk-nltk-test_counter.py', 'bentoml-BentoML-generate.py', 'explosion-spaCy-lex_attrs.py', 'buildbot-buildbot-setup.py', 'confluentinc-confluent-kafka-python.git-verifiable_consumer.py', 'googleads-google-ads-python.git-ad_group_ad_error.py', 'absolute-quantum-cats-blender-plugin-display_item.py', 'viewfinderco-viewfinder.git-share_existing_op.py', 'PaddlePaddle-PaddleGAN-model.py', 'Nuitka-Nuitka-MultiprocessingUsingMain.py', 'skulpt-skulpt-t494.py', 'tensorflow-graphics-quaternion.py', 'cloudmesh-client.git-example_cloudmeshdb.py', 'pybrain-pybrain-sarsa.py', 'speechbrain-speechbrain-example_asr_ctc_experiment_quaternion_net.py', 'Komodo-KomodoEdit-koXSLTLanguage.py', 'csujedihy-lc-all-solutions-add-binary.py', 'Tribler-tribler.git-downloads_endpoint.py', 'great-expectations-great_expectations-util.py', 'python-pillow-Pillow-__main__.py', 'viewfinderco-viewfinder.git-op_mgr_db_client.py', 'apache-tvm-transform.py', 'mwaskom-seaborn-_compat.py', 'viewfinderco-viewfinder.git-fetch_logs_test.py', 'viewfinderco-viewfinder.git-apns.py', 'viewfinderco-viewfinder.git-unshare_op.py', 'EssayKillerBrain-WriteGPT-modeling.py', 'viewfinderco-viewfinder.git-iostream0.py', 'aerospike-aerospike-client-python.git-test_query_partition.py', 'momosecurity-aswan-settings.py', 'autogluon-autogluon-tab_transformer_encoder.py', 'HazyResearch-flash-attention-gpu_affinity.py', 'microsoft-DeepSpeed-__init__0.py', 'jpadilla-pyjwt-utils.py', 'docusign-docusign-esign-python-client.git-saml_assertion_attribute.py', 'googleads-googleads-python-lib.git-get_licas_for_line_item.py', 'AirtestProject-Airtest-recorder.py', 'FMInference-FlexGen-__init__10.py', 'shapely-shapely-test_operators.py', 'jmcnamara-XlsxWriter-test_sparkline03.py', 'PaddlePaddle-PARL-gen_cartpole_init_model.py', 'chainer-chainer-svhn.py', 'googleads-google-ads-python.git-extension_feed_item_service.py', 'facebookincubator-AITemplate-test_split.py', 'viewfinderco-viewfinder.git-statistics_test0.py', 'viewfinderco-viewfinder.git-update_photo_test.py', 'openedx-edx-platform-tabs.py', 'Komodo-KomodoEdit-koREBOLLanguage.py', 'mne-tools-mne-python-__init__0.py', 'openedx-edx-platform-test_api.py', 'matrix-org-synapse-v1.py', 'FMInference-FlexGen-conftest.py', 'viewfinderco-viewfinder.git-ami_metadata.py', 'googleads-google-ads-python.git-reach_plan_service.py', 'jmcnamara-XlsxWriter-test_chart_scatter13.py', 'Nuitka-Nuitka-ExtremeClosureTest.py', 'Bitmessage-PyBitmessage.git-network.py', 'viewfinderco-viewfinder.git-device_test.py', 'PaddlePaddle-PARL-continuous_wrappers_test.py', 'robotframework-robotframework-totalstatistics.py', 'pypi-warehouse-test_csp.py', 'huggingface-transformers-dependency_versions_table.py', 'ohld-igbot-unfollow_non_followers.py', 'mne-tools-mne-python-55_setting_eeg_reference.py', 'httpie-httpie-fetch.py', 'QQuick-Transcrypt-unicode_literals.py', 'openedx-edx-platform-models.py', 'TheAlgorithms-Python-binary_tree_node_sum.py', 'pypi-warehouse-forms.py', 'crossbario-autobahn-python-test_newapi13.py', 'bentoml-BentoML-service.py', 'viewfinderco-viewfinder.git-health_report_test.py', 'spotify-luigi-pig.py', 'aio-libs-aiohttp.git-web_urldispatcher.py', 'googleads-googleads-python-lib.git-update_custom_fields.py', 'openedx-edx-platform-permissions.py', 'openedx-edx-platform-access_utils.py', 'LonamiWebs-Telethon-tcpfull.py', 'StellarCN-py-stellar-base.git-base_trades_aggregation_call_builder.py', 'viewfinderco-viewfinder.git-httpclient_test1.py', 'PyCQA-isort-output.py', 'StackStorm-st2-version_file.py', 'apache-tvm-__init__3.py', 'statsmodels-statsmodels-test_weightstats.py', 'python-pillow-Pillow-ImageStat.py', 'aws-serverless-application-model-sam_resources.py', 'mher-flower-tasks.py', 'viewfinderco-viewfinder.git-merge_tool.py', 'nsarrazin-serge-convert.py', 'deepmind-dm_control-cheetah.py', 'saltstack-salt-locale.py', 'simonw-datasette-setup.py', 'bbfamily-abu-ABuDataParser.py', 'jaegertracing-jaeger-client-python.git-test_reporter.py', 'posativ-isso-remove_heading.py', 'openshift-openshift-ansible-test_oc_csr_approve.py', 'viewfinderco-viewfinder.git-new_client_log_url_test0.py', 'iperov-DeepFaceLive-binary_dilate_circle.py', 'openedx-edx-platform-signals.py', 'rlabbe-filterpy-test_stats.py', 'ploomber-ploomber-test_hooks.py', 'viewfinderco-viewfinder.git-clean_index_table.py', 'vgrem-Office365-REST-Python-Client.git-xmlSchemaFieldCreationInformation.py', 'Komodo-KomodoEdit-test_pass3.py', 'DEAP-deap-speciation.py', 'kubeflow-pipelines-pipeline_with_ontology.py', 'strawberry-graphql-strawberry-test_apollo.py', 'microsoft-DeepSpeed-test_cpu_adagrad.py', 'jumpserver-jumpserver-0001_initial.py', 'viewfinderco-viewfinder.git-subscription.py', 'googleads-google-ads-python.git-conversion_lag_bucket0.py', 'NordicSemiconductor-pc-nrfutil.git-unix_lister.py', 'zhzyker-vulmap-cookies.py', 'buckyroberts-Source-Code-from-Tutorials-main.py', 'vgrem-Office365-REST-Python-Client.git-export_tenant_settings.py', 'ansible-awx-signals.py', 'RasaHQ-rasa_core-train.py', 'spyder-ide-spyder-combobox.py', 'huggingface-transformers-__init__11.py', 'googleads-google-ads-python.git-__init__3.py', 'Bitmessage-PyBitmessage.git-chat.py', 'docusign-docusign-esign-python-client.git-bulk_sending_copy_recipient.py', 'PacktPublishing-Deep-Reinforcement-Learning-Hands-On-01_dqn_basic.py', 'mikedh-trimesh-inertia.py', 'appium-python-client.git-applications_tests.py', 'RasaHQ-rasa-test_local_model_storage.py', 'tensorflow-tensor2tensor-snli.py', 'DEAP-deap-conf.py', 'NordicSemiconductor-pc-nrfutil.git-test_cli.py', 'viewfinderco-viewfinder.git-password_util.py', 'ifzhang-ByteTrack-track_half.py', 'grafana-oncall-signals.py', 'biicode-client.git-biiapi_proxy_test.py', 'great-expectations-great_expectations-__init__3.py', 'robotframework-robotframework-test_statements_in_invalid_position.py', 'shhivv-radial-test_sync.py', 'crossbario-autobahn-python-backend0.py', 'facebookresearch-VideoPose3D-arguments.py', 'n1nj4sec-pupy-text_to_speach.py', 'lanpa-tensorboardX-visdom_writer.py', 'googleads-google-ads-python.git-ad_network_type.py', 'pennersr-django-allauth-models0.py', 'alicevision-Meshroom-CameraRigLocalization.py', 'TheAlgorithms-Python-reddit.py', 'flipkart-incubator-Astra-fastcgi.py', 'saltstack-salt-test_boto_cloudwatch_event.py', 'saltstack-salt-_overrides.py', 'skulpt-skulpt-t463.py', 'kubeflow-pipelines-__init__0.py', 'speechbrain-speechbrain-check_yaml.py', 'django-oscar-django-oscar-0012_auto_20170609_1902.py', 'Nuitka-Nuitka-_tqdm_notebook.py', 'kubeflow-pipelines-fail_parameter_value_missing.py', 'readthedocs-readthedocs.org-permission_checks.py', 'Nuitka-Nuitka-LoopSmallXrange.py', 'openstack-nova-test_volume_usage.py', 'LonamiWebs-Telethon.git-__init__.py', 'wnma3mz-wechat_articles_spider-proxy.py', 'googleads-google-ads-python.git-operation_access_denied_error.py', 'kubernetes-client-python.git-v1_pod_template_spec.py', 'viewfinderco-viewfinder.git-lock.py', 'basho-riak-python-client.git-test_feature_detection.py', 'openstack-nova-test_api.py', 'trustedsec-ptf-fuzzbunch.py', 'skulpt-skulpt-t546.py', 'aws-aws-sam-cli-test_local_lambda_invoke_service.py', 'ConsenSys-mythril-version_test.py', 'openedx-edx-platform-docker_lms_gunicorn.py', 'matrix-org-synapse-test_logcontext.py', 'borgbackup-borg-base.py', 'skulpt-skulpt-t457.py', 'UKPLab-sentence-transformers-WhitespaceTokenizer.py', 'viewfinderco-viewfinder.git-thrift_transport.py', 'Nuitka-Nuitka-ZipImporterMain.py', 'microsoft-DeepSpeed-ds_mlp.py', 'chainer-chainer-test_sigmoid.py', 'viewfinderco-viewfinder.git-unsubscribe_test.py', 'viewfinderco-viewfinder.git-share_new_test1.py', 'kubeflow-pipelines-tensorboard_experiment_creator.py', 'nltk-nltk-panlex_swadesh.py', 'pynecone-io-pynecone-test_base.py', 'statsmodels-statsmodels-res_R_var_weight.py', 'aws-aws-sam-cli-image_repository_validation.py', 'viewfinderco-viewfinder.git-gen_test.py', 'microsoft-qlib-double_ensemble.py', 'viewfinderco-viewfinder.git-web_test.py', 'PaddlePaddle-PaddleGAN-id_loss.py', 'jumpserver-jumpserver-operate_log.py', 'saltstack-salt-test_salt.py', 'joxeankoret-diaphora-devicetree.py', 'PaddlePaddle-PaddleGAN-remaster.py', 'fail2ban-fail2ban-failmanagertestcase.py', 'LibrePhotos-librephotos-retrieval_index.py', 'AXErunners-electrum-axe.git-password_dialog.py', 'saltstack-salt-openstack.py', 'ansible-awx-0181_hostmetricsummarymonthly.py', 'ansible-awx-jobs.py', 'spyder-ide-spyder-dafsa.py', 'autorope-donkeycar-test_circular_buffer.py', 'readthedocs-readthedocs.org-urls.py', 'Flagsmith-flagsmith-models.py', 'python-ldap-python-ldap.git-simplebrowse.py', 'apache-tvm-analysis.py', 'httpie-httpie-config.py', 'chainer-chainer-test_tensordot.py', 'PaddlePaddle-PaddleDetection-op_helper.py', 'ncclient-ncclient.git-get-xnm-information.py', 'googleads-google-ads-python.git-criterion_system_serving_status.py', 'Miserlou-Zappa-tests_async.py', 'aerospike-aerospike-client-python.git-test_remove_bin.py', 'prometheus-client_python.git-exposition.py', 'DLR-RM-stable-baselines3-__init__.py', 'openstack-nova-test_io_ops_filters.py', 'skulpt-skulpt-t09.py', 'alicevision-Meshroom-fetch_md.py', 'ludwig-ai-ludwig-test_profiling_type_inference.py', 'neptune-ai-neptune-client.git-test_artifacts.py', 'google-clusterfuzz-process_state_pb2.py', 'chainer-chainer-pseudo_connect.py', 'django-oscar-django-oscar-test_widgets.py', 'rembo10-headphones-x029.py', 'viewfinderco-viewfinder.git-indexing_test.py', 'StellarCN-py-stellar-base.git-__init__.py', 'fossasia-open-event-server-event_sub_topic.py', 'tensorforce-tensorforce-global_optimizer.py', 'RasaHQ-rasa_core-restore.py', 'fossasia-open-event-server-40709a13f64d_.py', 'PaddlePaddle-PARL-train.py', 'huggingface-transformers-tokenization_auto.py', 'ifduyue-urlfetch-pub2fanfou.py', 'saltstack-salt-zabbix_return.py', 'confluentinc-confluent-kafka-python-cluster_fixture.py', 'spotify-luigi-rpc.py', 'marticliment-WingetUI-globals.py', 'quatanium-python-onvif.git-test.py', 'jupyter-jupyter_client.git-restarter.py', 'huggingface-transformers-__init__.py', 'yaml-pyyaml-emitter.py', 'cuemacro-finmarketpy-learn_network_structure.py', 'readthedocs-readthedocs.org-permissions.py', 'git-cola-git-cola-log.py', 'prestodb-presto-python-client.git-test_client.py', 'viewfinderco-viewfinder.git-httputil.py', 'qiyuangong-leetcode-437_Path_Sum_III.py', 'great-expectations-great_expectations-how_to_create_a_batch_of_data_from_an_in_memory_pandas_dataframe.py', 'viewfinderco-viewfinder.git-unlink_identity_test.py', 'viewfinderco-viewfinder.git-query_viewpoints_test.py', 'skulpt-skulpt-t18.py', 'lutris-lutris.git-settings.py', 'docusign-docusign-esign-python-client.git-recipient_signature_provider_options.py', 'scikit-learn-contrib-category_encoders-m_estimate.py', 'huggingface-transformers-test_logging.py', 'OpenCTI-Platform-client-python.git-cmd_line_tag_latest_indicators_of_threat.py', 'viewfinderco-viewfinder.git-notification_manager.py', 'saltstack-salt-test_core.py', 'StellarCN-py-stellar-base.git-transaction.py', 'viewfinderco-viewfinder.git-view.py', 'tryton-tryton-client.git-selection.py', 'pycrypto-pycrypto-test_XOR.py', 'viewfinderco-viewfinder.git-httpclient_test0.py', 'mne-tools-mne-python-config.py', 'apache-tvm-__init__2.py', 'psf-requests-hooks.py', 'doccano-doccano-client.git-label_type.py', 'marticliment-WingetUI-uiSections.py', 'StackStorm-st2-fixture0.py', 'jupyter-jupyter_client.git-test_client.py', 'Bitmessage-PyBitmessage.git-test_identicon.py', 'TheAlgorithms-Python-sol1.py', 'jmcnamara-XlsxWriter-test_chart_gradient04.py', 'psf-requests.git-test_structures.py', 'microsoft-hummingbird-test_sklearn_clustering.py', 'buildbot-buildbot-indent.py', 'doccano-doccano-0003_fill_task_type.py', 'great-expectations-great_expectations-test_usage_stats_common_messages_are_sent_v3api.py', 'viewfinderco-viewfinder.git-new_client_log_url_test1.py', 'Nuitka-Nuitka-nasm.py', 'fossasia-open-event-server-users_groups_roles0.py', 'mikedh-trimesh-test_smoothing.py', 'dbcli-mycli.git-test_completion_refresher.py', 'asyml-texar-seq2seq_attn_pg.py', 'openstack-nova-test_pause_server.py', 'openedx-edx-platform-0003_coursepersistentgradesflag_persistentgradesenabledflag.py', 'tartley-colorama-isatty_test.py', 'thumbor-thumbor-test_base_handler_with_auto_webp.py', 'saltstack-salt-boto_efs.py', 'viewfinderco-viewfinder.git-query_contacts_test.py', 'prowler-cloud-prowler-sagemaker_notebook_instance_root_access_disabled.py', 'dmlc-gluon-cv-detection.py', 'pynecone-io-pynecone-build.py', 'FMInference-FlexGen-modeling_tf_distilbert.py', 'great-expectations-great_expectations-expect_column_values_bitcoin_tx_is_confirmed.py', 'ncclient-ncclient.git-get-configuration-matching.py', 'skulpt-skulpt-t446.py', 'paperless-ngx-paperless-ngx-1017_alter_savedviewfilterrule_rule_type.py', 'holoviz-panel-test_text_to_speech.py', 'huggingface-transformers-__init__10.py', 'marcusmoller-pyorpg-client.git-hexvid.py', 'googleads-google-ads-python.git-__init__2.py', 'viewfinderco-viewfinder.git-web.py', 'google-research-scenic-imagenet_uvit_config.py', 'rytilahti-python-miio-test_airhumidifier_mjjsq.py', 'apache-tvm-generic.py', 'googleads-google-ads-python.git-display_upload_product_type.py', 'Komodo-KomodoEdit-langinfo_template.py', 'google-research-scenic-base_clip_mlp_bert_trf.py', 'momosecurity-aswan-utils.py', 'googleads-googleads-python-lib.git-get_orders_starting_soon.py', 'huggingface-transformers-run_common_voice.py', 'careercup-CtCI-6th-Edition-Python-p16_the_masseuse.py', 'RasaHQ-rasa_core-model.py', 'aws-serverless-application-model-artifact_exporter.py', 'apache-tvm-test_tir_transform_narrow_datatype.py', 'pybrain-pybrain-td.py', 'facebookresearch-pifuhd-recon.py', 'LAION-AI-Open-Assistant-2023_02_07_1922-caee1e8ee0bc_added_new_table_for_flagged_messages.py', 'deepmind-dnc-access_test.py', 'n1nj4sec-pupy-utils.py', 'dbcli-mycli-test_main.py', 'lutris-lutris.git-errors.py', 'jumpserver-jumpserver-tree.py', 'viewfinderco-viewfinder.git-base64hex_test0.py', 'dabeaz-course-practical-python-portfolio.py', 'rembo10-headphones-sources.py', 'explosion-spaCy-test_text0.py', 'openstack-nova-test_request_spec.py', 'robotframework-robotframework-StandardGenerics.py', 'apache-tvm-mobilenet.py', 'viewfinderco-viewfinder.git-update_episode_test0.py', 'careercup-CtCI-6th-Edition-Python-p03_urlify.py', 'ezhov-evgeny-webdav-client-python-3.git-test_client_unit.py', 'crossbario-autobahn-python-backend_selfsigned0.py', 'ChenglongChen-tensorflow-DeepFM-metrics.py', 'activeloopai-deeplake-htype.py', 'googleads-google-ads-python.git-feed_item_validation_status.py', 'ansible-ansible-container-conf.py', 'owid-covid-19-data-process.py', 'pypi-warehouse-cors.py', 'huggingface-transformers-print_env.py', 'aim-uofa-AdelaiDet-dynamic_mask_head.py', 'Nuitka-Nuitka-MacOSApp.py', 'apache-tvm-conftest.py', 'viewfinderco-viewfinder.git-www_main0.py', 'MVIG-SJTU-AlphaPose-criterion.py', 'janeczku-calibre-web-render_template.py', 'prompt-toolkit-ptpython-setup.py', 'googleads-google-ads-python.git-logging_interceptor_test.py', 'openapi-generators-openapi-python-client.git-another_all_of_sub_model.py', 'munki-munki-pkginfolib.py', 'stephenmcd-mezzanine-__init__.py', 'viewfinderco-viewfinder.git-share_new_test0.py', 'jumpserver-jumpserver-user.py', 'facebook-chisel-fbchisellldbviewhelpers.py', 'viewfinderco-viewfinder.git-server_log_test.py', 'saltstack-salt-consul.py', 'borgbase-vorta.git-qt_single_application.py', 'autogluon-autogluon-setup.py', 'grafana-oncall-test_notify_user.py', 'viewfinderco-viewfinder.git-process_util.py', 'hazelcast-hazelcast-python-client.git-writer.py', 'speechbrain-speechbrain-train.py', 'jmcnamara-XlsxWriter-test_chart_crossing01.py', 'mne-tools-mne-python-test_utils.py', 'DataDog-dd-trace-py.git-web.py', 'robotframework-robotframework-test_metadata.py', 'tensorflow-tensor2tensor-transformer_glow_layers.py', 'dpkp-kafka-python-message.py', 'clips-pattern-test_search.py', 'facebookresearch-ParlAI-build.py', 'googleapis-google-cloud-python.git-docs_addon_manifest.py', 'jumpserver-jumpserver-__init__0.py', 'n1nj4sec-pupy-cat.py', 'huggingface-transformers-modeling_convnext.py', 'mailpile-Mailpile.git-urlmap.py', 'Flagsmith-flagsmith-decorators.py', 'saltstack-salt-carbon_return.py', 'rfancn-aliyun-ddns-client.git-config.py', 'pyodide-pyodide-build.py', 'readthedocs-readthedocs.org-0006_set-default-value-provider-data.py', 'FMInference-FlexGen-convert_resnet_to_pytorch.py', 'pycrypto-pycrypto-AllOrNothing.py', 'aaugustin-websockets.git-shutdown_client.py', 'MTrajK-coding-problems-find_first_missing_positive.py', 'viewfinderco-viewfinder.git-watchdog_test.py', 'googleads-googleads-python-lib.git-get_current_network.py', 'viewfinderco-viewfinder.git-update_follower_test.py', 'robotframework-robotframework-blockparsers.py', 'fossasia-open-event-server-generate_session_tweet_csv.py', 'MyDuerOS-DuerOS-Python-Client.git-demo2.py', 'scrapinghub-shub.git-test_end_to_end.py', 'gregmalcolm-python_koans-about_triangle_project2.py', 'matrix-org-synapse-thirdparty.py', 'gevent-gevent-test_threading.py', 'apache-tvm-test_topi_group_norm.py', 'StellarCN-py-stellar-base.git-test_account_merge.py', 'hhyo-Archery-serializers.py', 'bentoml-BentoML-serve.py', 'TheAlgorithms-Python-primelib.py', 'googleads-googleads-python-lib.git-get_cms_metadata_values_for_key.py', 'Visualize-ML-Book3_Elements-of-Mathematics-Bk3_Ch6_04.py', 'viewfinderco-viewfinder.git-dynamodb_client_test0.py', 'rlcode-reinforcement-learning-cartpole_ddqn.py', 'dmlc-dgl-entity_sample_multi_gpu.py', 'speechbrain-speechbrain-wham_room.py', 'python-attrs-attrs-test_pyright.py', 'Tribler-tribler.git-operations_requests.py', 'grafana-oncall-models.py', 'mvt-project-mvt-test_webkit_resource_load_statistics.py', 'dmlc-dgl-load_dataset.py', 'googleads-google-ads-python.git-custom_audience_status.py', 'viewfinderco-viewfinder.git-find_near_dupes.py', 'openedx-edx-platform-comments.py', 'googleads-google-ads-python.git-distance_view.py', 'rushter-MLAlgorithms-convnet.py', 'saltstack-salt-win_dsc.py', 'viewfinderco-viewfinder.git-subscription_test.py', 'FMInference-FlexGen-processing_speech_to_text_2.py', 'autorope-donkeycar-imu.py', 'nltk-nltk-mapping.py', 'saltstack-salt-test_vault.py', 'Kaggle-docker-python-test_bayes_opt.py', 'viewfinderco-viewfinder.git-otp0.py', 'facebookincubator-AITemplate-test_gemm_bias_permute.py', 'viewfinderco-viewfinder.git-health_report.py', 'viewfinderco-viewfinder.git-hide_photos_op.py', 'catalyst-team-catalyst-test_dataset.py', 'ConsenSys-mythril-util_tests.py', 'viewfinderco-viewfinder.git-new_client_log_url_test.py', 'apache-tvm-__init__6.py', 'buildbot-buildbot-test_util_queue.py', 'luispedro-BuildingMachineLearningSystemsWithPython-plot_kmeans_example.py', 'guelfoweb-knock-api_censys.py', 'spotify-snakebite.git-namenode.py', 'fmfn-BayesianOptimization-test_util.py', 'vgrem-Office365-REST-Python-Client.git-related_field.py', 'django-oscar-django-oscar-testcases.py', 'viewfinderco-viewfinder.git-__init__18.py', 'deepmind-dm_control-environment_test.py', 'apache-tvm-test_conv2d_NCHWc.py', 'momosecurity-aswan-forms.py', 'XPixelGroup-BasicSR-paired_image_dataset.py', 'n1nj4sec-pupy-mkdir.py', 'AXErunners-electrum-axe.git-ecc_fast.py', 'dmlc-dgl-__init__0.py', 'matrix-org-synapse-federation_reader.py', 'open-mmlab-mmaction2-x3d.py', 'explosion-spaCy-test_exception.py', 'zhanghang1989-ResNeSt-resnest.py', 'ros2-rclpy.git-executors.py', 'aaugustin-websockets-client.py', 'prkumar-uplink-standard.py', 'vgrem-Office365-REST-Python-Client.git-file_picker_options.py', 'kubernetes-client-python.git-v1_scale_spec.py', 'Nuitka-Nuitka-YieldNodes.py', 'tableau-server-client-python.git-views_endpoint.py', 'googleads-google-ads-python.git-__init__6.py', 'pre-commit-pre-commit-identity_test.py', 'nameko-nameko-test_waiting.py', 'viewfinderco-viewfinder.git-viewpoint_lock_tracker0.py', 'hazelcast-hazelcast-python-client.git-paging_predicate_holder_codec.py', 'viewfinderco-viewfinder.git-service.py', 'Komodo-KomodoEdit-__init__.py', 'Flagsmith-flagsmith-0010_remove_identity_hash.py', 'alpacahq-alpaca-trade-api-python.git-overnight_hold.py', 'viewfinderco-viewfinder.git-profile0.py', 'FMInference-FlexGen-tokenization_layoutlm.py', 'a10networks-acos-client.git-test_vlan.py', 'autogluon-autogluon-test_hpo.py', 'AirtestProject-Airtest-__init__.py', 'viewfinderco-viewfinder.git-photo_store_test.py', 'mesonbuild-meson-cython.py', 'pypi-warehouse-bc8f7b526961_text.py', 'viewfinderco-viewfinder.git-sms_manager_test.py', 'apache-tvm-pass_config.py', 'encode-httpx.git-_multipart.py', 'activeloopai-deeplake-test_meta.py', 'viewfinderco-viewfinder.git-stopwords.py', 'LibrePhotos-librephotos-album_auto.py', 'TheAlgorithms-Python-addition_without_arithmetic.py', 'googleads-google-ads-python.git-client.py', 'saltstack-salt-flat.py', 'buildbot-buildbot-secret.py', 'viewfinderco-viewfinder.git-metrics.py', 'docusign-docusign-esign-python-client.git-bulk_sending_copy.py', 'mesonbuild-meson-universal.py', 'StellarCN-py-stellar-base.git-manage_offer_success_result.py', 'facebookresearch-ParlAI-TeacherTest.py', 'python-ldap-python-ldap.git-sss.py', 'holoviz-panel-comm_manager.py', 'aws-serverless-application-model-test_validator.py', 'corpnewt-gibMacOS-BuildmacOSInstallApp.py', 'kubernetes-client-python.git-v1_se_linux_options.py', 'ohld-igbot-download_photos_by_hashtag.py', 'apache-tvm-test_select_implementation.py', 'googleapis-google-cloud-python.git-vmwareengine_v1_generated_vmware_engine_list_network_policies_async.py', 'janeczku-calibre-web-cli.py', 'pimutils-khal-colors.py', 'viewfinderco-viewfinder.git-op_context0.py', 'chainer-chainer-test_swish.py', 'PyGithub-PyGithub-CodeScanTool.py', 'nltk-nltk-treebank.py', 'tensorflow-graphics-losses.py', 'MasoniteFramework-masonite-CanBroadcast.py', 'marcosschroh-python-schema-registry-client.git-client.py', 'nameko-nameko-entrypoint_waiter_test.py', 'googleads-google-ads-python.git-client3.py', 'googleapis-google-cloud-python.git-client.py', 'yanx27-Pointnet_Pointnet2_pytorch-test_partseg.py', 'pyodide-pyodide-buildall.py', 'viewfinderco-viewfinder.git-activity.py', 'matrix-org-synapse-test_descriptors.py', 'FMInference-FlexGen-module_quantize.py', 'huggingface-transformers-alignment.py', 'viewfinderco-viewfinder.git-metric.py', 'strawberry-graphql-strawberry-test_optionals.py', 'zju3dv-EasyMocap-mirror.py', 'viewfinderco-viewfinder.git-post_comment_op.py', 'apache-tvm-test_pass_combine_parallel_batch_matmul.py', 'facebookincubator-AITemplate-permute210.py', 'prestodb-presto-python-client.git-redirect.py', 'its-a-feature-Mythic-operations_routes.py', 'apache-tvm-github_commenter.py', 'viewfinderco-viewfinder.git-auth_test0.py', 'Flagsmith-flagsmith-mixins.py', 'csujedihy-lc-all-solutions-lfu-cache.py', 'great-expectations-great_expectations-trace_docs_deps.py', 'nvbn-everpad.git-TBase.py', 'openapi-generators-openapi-python-client.git-false_.py', 'StackStorm-st2-test_inquiries.py', 'openedx-edx-platform-assigngroups.py', 'viewfinderco-viewfinder.git-index.py', 'rootm0s-WinPwnage-persistMethod8.py', 'aws-chalice-app.py', 'vgrem-Office365-REST-Python-Client.git-get_file_version.py', 'StackStorm-st2-test_v35_migrate_db_dict_field_values.py', 'sdispater-pendulum-datetime.py', 'mdbloice-Augmentor-ImageSource.py', 'google-clusterfuzz-__init__0.py', 'google-research-albert-modeling_test.py', 'statsmodels-statsmodels-graphics-mean_diff_plot.py', 'huggingface-transformers-run_seq2seq_qa.py', 'pypi-warehouse-stamp.py', 'StackStorm-st2-test_workflow.py', 'boston-dynamics-spot-sdk-lights_helper.py', 'saltstack-salt-test_debconfmod.py', 'rootm0s-WinPwnage-elevateMethod7.py', 'viewfinderco-viewfinder.git-rate_limiter0.py', 'PaddlePaddle-PARL-gridworld.py', 'PacktPublishing-Deep-Reinforcement-Learning-Hands-On-game.py', 'facebookresearch-ParlAI-generate_task_READMEs.py', 'Kaggle-docker-python-test_natural_language.py', 'boston-dynamics-spot-sdk-lease_validator.py', 'google-research-scenic-svhn_dataset.py', 'doccano-doccano-test_comment.py', 'facebookresearch-pycls-imagenet.py', 'thu-ml-zhusuan-iwae.py', 'deepmind-dm_control-control.py', 'viewfinderco-viewfinder.git-mdetect.py', 'n1nj4sec-pupy-pyuvproxy.py', 'kubernetes-client-python.git-v1_persistent_volume_claim_condition.py', 'mesonbuild-meson-dirchanger.py', 'microsoft-DeepSpeed-__init__.py', 'docusign-docusign-esign-python-client.git-test_oauth.py', 'aio-libs-aiohttp-test_loop.py', 'Komodo-KomodoEdit-koFileNotificationService.py', 'saltstack-salt-xmpp_return.py', 'microsoft-DeepSpeed-__init__1.py', 'vaexio-vaex-dropna_test.py', 'viewfinderco-viewfinder.git-metrics0.py', 'thumbor-thumbor-extract_focal.py', 'kubeflow-pipelines-exit_handler.py', 'achael-eht-imaging-example_stochastic_optics.py', 'openedx-edx-platform-0006_courseoverviewimageset.py', 'viewfinderco-viewfinder.git-stack_context_orig.py', 'gevent-gevent-test__os.py', 'google-tangent-test_cfg.py', 'graphql-python-gql.git-requests.py', 'owid-covid-19-data-download.py', 'ploomber-ploomber-test_metadata_pass.py', 'crossbario-autobahn-python-echows_plugin.py', 'viewfinderco-viewfinder.git-curl_httpclient.py', 'rembo10-headphones-md.py', 'git-cola-git-cola-dag.py', 'viewfinderco-viewfinder.git-rate_limiter.py', 'openstack-nova-console_auth_token.py', 'viewfinderco-viewfinder.git-share_new_test.py', 'encode-django-rest-framework-reverse.py', 'viewfinderco-viewfinder.git-add_followers_test.py', 'open-mmlab-mmaction2-tanet_r50.py', 'persepolisdm-persepolis-update.py', 'great-expectations-great_expectations-yaml_handler.py', 'dmlc-dgl-object.py', 'saltstack-salt-test_boto3_elasticsearch.py', 'zju3dv-EasyMocap-geometry.py', 'Tramac-awesome-semantic-segmentation-pytorch-__init__.py', 'DataDog-dd-trace-py.git-__init__3.py', 'ourownstory-neural_prophet-hdays_utils.py', 'Visualize-ML-Book3_Elements-of-Mathematics-Streamlit_Bk3_Ch12_02.py', 'jmcnamara-XlsxWriter-test_chart_chartarea06.py', 'StackStorm-st2-test_triggerinstances.py', 'django-webpack-django-webpack-loader-asgi.py', 'influxdata-influxdb-client-python.git-template_export_by_id_resources.py', 'viewfinderco-viewfinder.git-update_follower_test0.py', 'polakowo-vectorbt-checks.py', 'saltstack-salt-test_supervisord.py', 'microsoft-DeepSpeed-test_cpu_adam.py', 'statsmodels-statsmodels-tools.py', 'viewfinderco-viewfinder.git-resolve_contacts_test.py', 'asyml-texar-seq2seq_attn.py', 'Komodo-KomodoEdit-__init__1.py', 'bentoml-BentoML-opentelemetry.py', 'vipstone-faceai-faceRecognitionOutline.py', 'viewfinderco-viewfinder.git-auth_viewfinder.py', 'spotify-luigi-ecs.py', 'autogluon-autogluon-environment.py', 'openedx-edx-platform-0002_delete_trackinglog.py', 'crossbario-autobahn-python-_userkey.py', 'viewfinderco-viewfinder.git-remove_contacts_test0.py', 'dpkp-kafka-python.git-test_metrics.py', 'jmcnamara-XlsxWriter-test_styles05.py', 'FMInference-FlexGen-__init__1.py', 'facebookresearch-fairscale-test_wrap.py', 'dmlc-dgl-sddmm.py', 'google-clusterfuzz-crash_stats.py', 'Komodo-KomodoEdit-config.py', 'microsoft-qlib-test_special_ops.py', 'scikit-learn-contrib-category_encoders-basen.py', 'PyGithub-PyGithub-GitCommit.py', 'gd3kr-BlenderGPT-pytest_plugin.py', 'jumpserver-jumpserver-tasks.py', 'fossasia-open-event-server-ChargesLayer.py', 'jmcnamara-XlsxWriter-test_initialisation.py', 'saltstack-salt-process_test.py', 'FMInference-FlexGen-scheduler0.py', 'aerospike-aerospike-client-python.git-touch.py', 'viewfinderco-viewfinder.git-__init__13.py', 'huggingface-transformers-test_image_processing_conditional_detr.py', 'PyCQA-isort-pylama_isort.py', 'lanpa-tensorboardX-beholder.py', 'viewfinderco-viewfinder.git-server_log_metrics1.py', 'fluentpython-example-code-2e-strategy_best4.py', 'kubernetes-client-python.git-v1_ingress_tls.py', 'alpacahq-alpaca-trade-api-python.git-v2_example.py', 'viewfinderco-viewfinder.git-admin_permissions.py', 'openstenoproject-plover-add_translation_widget.py', 'facebookresearch-XLM-__init__0.py', 'microsoft-MMdnn-darknet_graph.py', 'vgrem-Office365-REST-Python-Client.git-data_overlay.py', 'aws-chalice-conftest.py', 'jmcnamara-XlsxWriter-test_chart_size02.py', 'microsoft-hummingbird-_scaler_implementations.py', 'openedx-edx-platform-0005_applicationaccess_type.py', 'viewfinderco-viewfinder.git-list_client_logs_test.py', 'PyQt5-PyQtClient.git-TestSetting.py', 'aws-chalice-invoke.py', 'StackStorm-st2-fixture.py', 'rembo10-headphones-x0d7.py', 'googleads-google-ads-python.git-conversion_adjustment_upload_error.py', 'boston-dynamics-spot-sdk-spot_detect_and_follow.py', 'googleads-google-ads-python.git-keyword_plan_campaign.py', 'iperov-DeepFaceLive-QBCMergedFrameViewer.py', 'basho-riak-python-client.git-security.py', 'googleads-google-ads-python.git-campaign_bid_modifier.py', 'trinodb-trino-python-client.git-dialect.py', 'viewfinderco-viewfinder.git-refresh_contacts.py', 'prowler-cloud-prowler-trustedadvisor_service.py', 'joestump-python-oauth2.git-__init__.py', 'aws-aws-sam-cli-test_installed_metric.py', 'spyder-ide-spyder-__init__2.py', 'spyder-ide-spyder-frontend_widget.py', 'mne-tools-mne-python-plot_stc_metrics.py', 'fossasia-open-event-server-e267d3b2a8f6_.py', 'robotframework-robotframework-blocks.py', 'jumpserver-jumpserver-0018_auto_20190107_1912.py', 'mne-tools-mne-python-circle.py', 'PyGithub-PyGithub-BadAttributes.py', 'facebookresearch-fairscale-test_sharded_ddp_pytorch_parity.py', 'saltstack-salt-run.py', 'jumpserver-jumpserver-0072_historicalauthbook.py', 'thumbor-thumbor-frame.py', 'AXErunners-electrum-axe.git-qt.py', 'saltstack-salt-disks.py', 'StackStorm-st2-test_pack_management.py', 'borgbase-vorta.git-test_utils.py', 'fossasia-open-event-server-rev-2020-09-21-08:08:50-3fe3442b7a13_.py', 'facebookresearch-ParlAI-test1.py', 'ansible-awx-organizations.py', 'google-encrypted-bigquery-client.git-ebq.py', 'mhallsmoore-qstrader-backtest_data_handler.py', 'googleads-google-ads-python.git-__init__15.py', 'pynecone-io-pynecone-conftest.py', 'kubernetes-client-python.git-v1_lease.py', 'sdispater-pendulum-locale.py', 'boston-dynamics-spot-sdk-image.py', 'viewfinderco-viewfinder.git-user_test1.py', 'python-pillow-Pillow-test_file_gd.py', 'microsoft-playwright-python-__init__.py', 'vgrem-Office365-REST-Python-Client.git-condition_set.py', 'gevent-gevent-testcase.py', 'archlinux-archinstall-cutefish.py', 'Flagsmith-flagsmith-0028_add_use_mv_v2_evaluation.py', 'googleads-googleads-python-lib.git-get_all_cms_metadata_values.py', 'nate-parrott-Flashlight-request_validator.py', 'Nuitka-Nuitka-irix.py', 'googleads-google-ads-python.git-grpc2.py', 'openedx-edx-platform-factories.py', 'biicode-client.git-serial_monitor.py', 'openstack-nova-test_provider_tree.py', 'dialogflow-dialogflow-python-client.git-request.py', 'aws-aws-sam-cli-test_integration_uri.py', 'hazelcast-hazelcast-python-client.git-set_add_listener_codec.py', 'saltstack-salt-test_saltutil.py', 'openedx-edx-platform-apps.py', 'googleads-google-ads-python.git-base1.py', 'pynecone-io-pynecone-textarea.py', 'viewfinderco-viewfinder.git-xsrf_test0.py', 'autogluon-autogluon-__init__1.py', 'ifzhang-ByteTrack-convert_cityperson_to_coco.py', 'Bitmessage-PyBitmessage.git-checkdeps.py', 'facebookincubator-AITemplate-gemm_rcr_permute.py', 'andelf-tronpy.git-tron.py', 'nate-parrott-Flashlight-defaults.py', 'zhzyker-vulmap-__init__0.py', 'StackStorm-st2-test_command_actionrun.py', 'saltstack-salt-genshi.py', 'mesonbuild-meson-mpi.py', 'dmlc-gluon-cv-cam_demo.py', 'facebookresearch-ParlAI-alice.py', 'mikedh-trimesh-test_render.py', 'open-mmlab-mmaction2-omnisource_runner.py', 'FAForever-client.git-player.py', 'Zulko-moviepy-freeze.py', 'google-research-scenic-__init__0.py', 'saltstack-salt-conftest.py', 'prowler-cloud-prowler-eks_cluster_kms_cmk_encryption_in_secrets_enabled.py', 'Nuitka-Nuitka-icc.py', 'robotframework-robotframework-CollectionsHelperLibrary.py', 'PaddlePaddle-PaddleDetection-test_rbox_iou.py', 'mdbloice-Augmentor-test_custom_operations.py', 'asyml-texar-__init__1.py', 'Bitmessage-PyBitmessage.git-advanceddispatcher.py', 'technige-httpstream-numbers.py', 'tensorflow-graphics-mesh_segmentation_dataio.py', 'iperov-DeepFaceLive-DeepFaceLiveApp.py', 'confluentinc-confluent-kafka-python-test_proto.py', 'huggingface-transformers-test_modeling_flax_gpt2.py', 'biicode-client.git-cmaketool.py', 'buckyroberts-Source-Code-from-Tutorials-main_menu.py', 'bentoml-BentoML-__init__.py', 'facebookresearch-mmf-frcnn.py', 'googleapis-google-cloud-python.git-contentwarehouse_v1_generated_synonym_set_service_create_synonym_set_sync.py', 'miguelgrinberg-Flask-SocketIO-test_socketio.py', 'aws-aws-sam-cli-test_cdk_support_decorators.py', 'tensorflow-tensor2tensor-common_voice_test.py', 'jmcnamara-XlsxWriter-test_chart_data_labels13.py', 'chainer-chainer-train_mnist_custom_loop.py', 'dmlc-dgl-train.py', 'jina-ai-clip-as-service-conftest.py', 'boston-dynamics-spot-sdk-animation_recorder.py', 'viewfinderco-viewfinder.git-upload_episode_op0.py', 'facebookresearch-ParlAI-constants.py', 'googleads-google-ads-python.git-__init__9.py', 'viewfinderco-viewfinder.git-analyze_dynamodb.py', 'n1nj4sec-pupy-PupyVersion.py', 'viewfinderco-viewfinder.git-data_table1.py', 'lcdevelop-ChatBotCourse-mv_sup.py', 'vgrem-Office365-REST-Python-Client.git-group.py', 'core-api-python-client.git-text.py', 'Kanaries-pygwalker-__init__.py', 'apache-tvm-loss.py', 'gd3kr-BlenderGPT-error_object.py', 'saltstack-salt-test_tidied.py', 'Komodo-KomodoEdit-nosy.py', 'matrix-org-synapse-deviceinbox.py', 'hhyo-Archery-global_info.py', 'aerospike-aerospike-client-python.git-get_cdtctx_base64.py', 'dmlc-gluon-cv-__init__1.py', 'FreeOpcUa-python-opcua.git-event_objects.py', 'ktbyers-netmiko-__init__.py', 'prowler-cloud-prowler-shield_advanced_protection_in_global_accelerators.py', 'kubeflow-pipelines-remote_runner.py', 'jumpserver-jumpserver-api_urls0.py', 'openstack-nova-084_placeholder.py', 'explosion-spaCy-tokenizer_exceptions.py', 'saltstack-salt-nexus.py', 'prometheus-client_python.git-platform_collector.py', 'junyanz-interactive-deep-colorization-gui_vis.py', 'encode-httpx.git-wsgi.py', 'buildbot-buildbot-querylog.py', 'thumbor-thumbor-test_face_detector.py', 'reportportal-client-Python.git-__init__.py', 'Nuitka-Nuitka-applelink.py', 'statsmodels-statsmodels-graphics_functional_hdrboxplot.py', 'simonw-datasette-test_filters.py', 'bbfamily-abu-ABuUmpEdgePrice.py', 'Flagsmith-flagsmith-test_unit_google.py', 'fluentpython-example-code-2e-checkedlib_test.py', 'thonny-thonny-base_ui_themes.py', 'apache-tvm-__init__.py', 'FMInference-FlexGen-__init__5.py', 'joerick-pyinstrument-test_custom_timer.py', 'viewfinderco-viewfinder.git-statistics.py', 'viewfinderco-viewfinder.git-testing_test0.py', 'Komodo-KomodoEdit-test_csslint.py', 'jumpserver-jumpserver-managers.py', 'scrapinghub-portia-conf.py', 'jmcnamara-XlsxWriter-test_table30.py', 'alicevision-Meshroom-simpleFarmSubmitter.py', 'googleads-google-ads-python.git-listing_group_filter_product_type_level.py', 'PaddlePaddle-PaddleGAN-photopen_predictor.py', 'orenault-TestLink-API-Python-client.git-TestLinkExampleGenericApi.py', 'great-expectations-great_expectations-expect_column_values_to_be_decreasing.py', 'thumbor-thumbor-queued_complete_detector.py', 'jeffknupp-sandman-models.py', 'viewfinderco-viewfinder.git-auth_facebook.py', 'facebookincubator-AITemplate-test_gemm_bias_hardswish.py', 'hazelcast-hazelcast-python-client.git-cp.py', 'microsoft-qlib-callbacks.py', 'borgbase-vorta.git-test_network_manager.py', 'viewfinderco-viewfinder.git-statistics_test.py', 'yaml-pyyaml-parser.py', 'binux-pyspider-__init__.py', 'DataDog-dd-trace-py.git-metrics.py', 'bottlesdevs-Bottles-bottle_versioning.py', 'googleads-google-ads-python.git-customer_user_access_invitation.py', 'keras-team-autokeras-input_analysers_test.py', 'viewfinderco-viewfinder.git-autoreload.py', 'viewfinderco-viewfinder.git-escape_test.py', 'statsmodels-statsmodels-var_model.py', 'readthedocs-readthedocs.org-test_gold.py', 'pypi-warehouse-__init__.py', 'Nuitka-Nuitka-ClassCodes.py', 'apache-tvm-generic0.py', 'asottile-pyupgrade-oserror_aliases.py', 'Drakkar-Software-OctoBot-startup_info.py', 'googleads-google-ads-python.git-google_ads_field_data_type.py', 'apache-tvm-packed_func.py', 'infobloxopen-infoblox-client.git-utils.py', 'openstack-nova-guest.py', 'viewfinderco-viewfinder.git-apns_test.py', 'saltstack-salt-test_domain.py', 'openedx-edx-platform-serializers0.py', 'gd3kr-BlenderGPT-structures.py', 'fossasia-open-event-server-cb8e1f876bc3_.py', 'microsoft-qlib-group.py', 'tweepy-tweepy-setup.py', 'ourownstory-neural_prophet-forecaster.py', 'cemoody-lda2vec-lda_run.py', 'docusign-docusign-esign-python-client.git-folder_item_v2.py', 'viewfinderco-viewfinder.git-id_allocator.py', 'yutiansut-QUANTAXIS-user.py', 'openedx-edx-platform-openstack.py', 'viewfinderco-viewfinder.git-netutil.py', 'viewfinderco-viewfinder.git-s3util.py', 'Komodo-KomodoEdit-header.py', 'sweetice-Deep-reinforcement-learning-with-pytorch-naiveDQN.py', 'ourownstory-neural_prophet-__init__.py', 'docusign-docusign-esign-python-client.git-full_name.py', 'statsmodels-statsmodels-data1.py', 'django-oscar-django-oscar-formsets.py', 'django-oscar-django-oscar-0003_update_email_length.py', 'pennersr-django-allauth-views3.py', 'great-expectations-great_expectations-configured_asset_filesystem_data_connector.py', 'replicate-replicate-python.git-test_client.py', 'kubernetes-client-python.git-test_client.py', 'facebookincubator-AITemplate-test_fuse_bmm_permute.py', 'ncclient-ncclient.git-_version.py', 'jumpserver-jumpserver-0001_initial0.py', 'QQuick-Transcrypt-mod3.py', 'googleapis-google-cloud-python.git-rest0.py', 'man-group-arctic-incremental.py', 'lutris-lutris.git-api.py', 'facebookresearch-ParlAI-build0.py', 'saltstack-salt-boto_elb.py', 'viewfinderco-viewfinder.git-data_table.py', 'kitao-pyxel-cli.py', 'Flagsmith-flagsmith-0003_dynatraceconfiguration_deleted_at.py', 'mailpile-Mailpile.git-datadig.py', 'hazelcast-hazelcast-python-client.git-set_is_empty_codec.py', 'holoviz-panel-__init__0.py', 'viewfinderco-viewfinder.git-util_test1.py', 'ZQPei-deep_sort_pytorch-log.py', 'LiuXingMing-SinaSpider-user_agents.py', 'tumblr-pytumblr.git-setup.py', 'fluentpython-example-code-2e-sentence_iter.py', 'mesonbuild-meson-require_pkgconfig.py', 'neptune-ai-neptune-client.git-sync_offset_file.py', 'owid-covid-19-data-azerbaijan.py', 'tartley-colorama-initialise.py', 'fizyr-keras-retinanet-csv_generator.py', 'apache-tvm-bnns.py', 'hvac-hvac.git-mock_okta_request_handler.py', 'lutris-lutris.git-grid.py', 'tensorflow-graphics-chamfer_distance.py', 'viewfinderco-viewfinder.git-counters.py', 'viewfinderco-viewfinder.git-keyczar_dict.py', 'DataDog-dd-trace-py.git-provider.py', 'viewfinderco-viewfinder.git-base.py', 'googleads-google-ads-python.git-__init__11.py', 'viewfinderco-viewfinder.git-find_old_clients.py', 'viewfinderco-viewfinder.git-remove_viewpoint_test.py', 'thu-ml-zhusuan-wasserstein_gan.py', 'viewfinderco-viewfinder.git-gen_test0.py', 'rytilahti-python-miio-__init__3.py', 'spyder-ide-spyder-inprocess.py', 'viewfinderco-viewfinder.git-get_table_sizes.py', 'facebookincubator-AITemplate-test_ait_chunk_aten.py', 'docusign-docusign-esign-python-client.git-envelope_attachments_result.py', 'lbryio-lbry-sdk-test_blob_file.py', 'chainer-chainer-test_rnn.py', 'boston-dynamics-spot-sdk-announce_client.py', 'google-seq2seq-inference_task.py', 'spyder-ide-spyder-script_outline_2.py', 'huggingface-transformers-feature_extraction_markuplm.py', 'NVlabs-stylegan2-pretrained_networks.py', 'dmlc-dgl-model.py', 'Nuitka-Nuitka-BuiltinDecodingNodes.py', 'microsoft-qlib-poet.py', 'bottlesdevs-Bottles-importer.py', 'apache-tvm-test_topi_dilate.py', 'StackStorm-st2-register.py', 'spyder-ide-spyder-palette.py', 'viewfinderco-viewfinder.git-epoll.py', 'appium-python-client.git-errorhandler.py', 'jumpserver-jumpserver-ws_urls.py', 'viewfinderco-viewfinder.git-stack_context_new.py', 'dataabc-weibo-crawler-dateutil.py', 'robotframework-robotframework-test_using_libraries.py', 'vtr0n-TelegramTUI.git-wgmonthbox.py', 'edgedb-edgedb-rewrites.py', 'dmlc-gluon-cv-demo_cycle_gan.py', 'matrix-org-synapse-__init__0.py', 'alpa-projects-alpa-trainer.py', 'JoinMarket-Org-joinmarket-clientserver.git-__init__.py', 'gaogaotiantian-viztracer-report_builder.py', 'open-mmlab-mmaction2-__init__.py', 'adap-flower-fleet_pb2.py', 'tensorflow-tensor2tensor-wsj_parsing.py', 'readthedocs-readthedocs.org-0005_migrate-old-passwords.py', 'technige-httpstream-percent_decode_test.py', 'viewfinderco-viewfinder.git-iostream.py', 'huggingface-peft-test_gpu_examples.py', 'FAForever-client.git-__init__.py', 'mwouts-jupytext-jupyter_again0.py', 'apache-tvm-avg_pool2d.py', 'viewfinderco-viewfinder.git-upload_episode_op1.py', 'aws-serverless-application-model-test_plugins.py', 'huggingface-transformers-__init__1.py', 'viewfinderco-viewfinder.git-main.py', 'Nuitka-Nuitka-Dict.py', 'googleads-google-ads-python.git-__init__8.py', 'viewfinderco-viewfinder.git-ping_test.py', 'viewfinderco-viewfinder.git-data_table0.py', 'pypi-warehouse-fdf9e337538a_add_user_is_frozen.py', 'boston-dynamics-spot-sdk-image_viewer.py', 'dreamquark-ai-tabnet-multiclass_utils.py', 'posativ-isso-__init__.py', 'paperless-ngx-paperless-ngx-0004_auto_20160114_1844.py', 'FMInference-FlexGen-test_modeling_wav2vec2_conformer.py', 'Tramac-awesome-semantic-segmentation-pytorch-pspnet.py', 'viewfinderco-viewfinder.git-fogbugz_export.py', 'achael-eht-imaging-comparisons.py', 'smart-on-fhir-client-py.git-structuredefinition.py', 'ohld-igbot-like_and_follow_last_user_media_likers.py', 'robotframework-robotframework-DupeDynamicKeywords.py', 'saltstack-salt-mysql_database.py', 'FMInference-FlexGen-configuration_yolos.py', 'jumpserver-jumpserver-0025_auto_20220817_1346.py', 'openstack-nova-rbd_utils.py', 'apache-tvm-download.py', 'django-oscar-django-oscar-image_tags.py', 'Flagsmith-flagsmith-0003_merge_20220131_1532.py', 'DataDog-dd-trace-py.git-patch.py', 'matrix-org-synapse-presence.py', 'benoitc-gunicorn.git-base_async.py', 'readthedocs-readthedocs.org-test_proxied_api.py', 'docusign-docusign-esign-python-client.git-report_in_product_sent_by_details.py', 'tensorforce-tensorforce-unittest_base.py', 'viewfinderco-viewfinder.git-itunes_trends_codes.py', 'viewfinderco-viewfinder.git-auth_messages.py', 'kserve-kserve-v1beta1_inference_service.py', 'FMInference-FlexGen-test_modeling_tf_vit_mae.py', 'viewfinderco-viewfinder.git-testing_test1.py', 'dmontagu-fastapi_client.git-api_client.py', 'FMInference-FlexGen-__init__4.py', 'viewfinderco-viewfinder.git-push_notify.py', 'great-expectations-great_expectations-expect_table_column_count_to_be_between.py', 'jumpserver-jumpserver-0005_auto_20180122_1154.py', 'alpa-projects-alpa-serialization.py', 'facebookresearch-ParlAI-agents0.py', 'thonny-thonny-shell_config_page.py', 'spotify-luigi-db_task_history_test.py', 'CamDavidsonPilon-lifelines-lowess.py', 'microsoft-DeepSpeed-checkpointing.py', 'Nuitka-Nuitka-Subst.py', 'great-expectations-great_expectations-pandas_batch_data.py', 'schematics-schematics-exception_logger.py', 'facebookresearch-ParlAI-blender_9B.py', 'kubernetes-client-python.git-v1_api_resource_list.py', 'python-pillow-Pillow-MpegImagePlugin.py', 'ros2-rclpy.git-test_callback_group.py', 'viewfinderco-viewfinder.git-websocket_test.py', 'rembo10-headphones-x057.py', 'google-research-scenic-models_test.py', 'encode-httpcore-mock.py', 'statsmodels-statsmodels-glm_test_resids.py', 'viewfinderco-viewfinder.git-xsrf_test.py', 'confluentinc-confluent-kafka-python-asyncio_example.py', 'google-timesketch-utils_test.py', 'viewfinderco-viewfinder.git-unshare_test.py', 'mne-tools-mne-python-test_csd.py', 'tensorflow-tensor2tensor-diet.py', 'okfn-brasil-serenata-de-amor-0012_make_party_field_longer.py', 'hvac-hvac.git-test_transform.py', 'skulpt-skulpt-t192.py', 'snare-voltron-registers.py', 'lutris-lutris.git-retroarch.py', 'vgrem-Office365-REST-Python-Client.git-whoami.py', 'grafana-oncall-manual.py', 'dmlc-gluon-cv-xception.py', 'jumpserver-jumpserver-0012_auto_20220816_1629.py', 'kootenpv-whereami-local_main_test.py', 'openedx-edx-platform-graders.py', 'scrapinghub-portia-exporter.py', 'VingtCinq-python-mailchimp.git-test.py', 'corpnewt-gibMacOS-diskwin.py', 'jumpserver-jumpserver-0069_change_node_key0_to_key1.py', 'PaddlePaddle-PARL-utils_test.py', 'ethereon-caffe-tensorflow-errors.py', 'pre-commit-pre-commit-hook_impl.py', 'aws-aws-sam-cli-lib.py', 'autorope-donkeycar-serial_port.py', 'mikf-gallery-dl-piczel.py', 'aws-aws-sam-cli-exceptions.py', 'apache-tvm-doc_core.py', 'statsmodels-statsmodels-data0.py', 'spyder-ide-spyder-conf.py', 'pennersr-django-allauth-views2.py', 'viewfinderco-viewfinder.git-symbolicate_user_crashes.py', 'vgrem-Office365-REST-Python-Client.git-collection0.py', 'mhallsmoore-qstrader-zero_fee_model.py', 'LonamiWebs-Telethon.git-test_rsa.py', 'tensorflow-graphics-pose_feature_test.py', 'DEAP-deap-basic.py', 'facebookincubator-AITemplate-test_transform_utils.py', 'skulpt-skulpt-t384.py', 'googleads-google-ads-python.git-listing_group_filter_type_enum.py', 'googleapis-google-cloud-python.git-discoveryengine_v1beta_generated_document_service_update_document_async.py', 'spyder-ide-spyder-api.py', 'tableau-server-client-python.git-databases_endpoint.py', 'PaddlePaddle-PaddleGAN-wav2lip_predictor.py', 'viewfinderco-viewfinder.git-remove_viewpoint_op.py', 'microsoft-playwright-python-_writable_stream.py', 'LibrePhotos-librephotos-0012_add_favorite_min_rating.py', 'polygon-io-client-python.git-financials.py', 'facebookresearch-ParlAI-build1.py', 'OpenCTI-Platform-client-python.git-create_campaign_attributed-to_intrusion_set.py', 'openedx-edx-platform-test_views2.py', 'adap-flower-cluster.py', 'openedx-edx-platform-0009_suggested_prices_to_charfield.py', 'viewfinderco-viewfinder.git-watchdog.py', 'viewfinderco-viewfinder.git-util_test0.py', 'discogs-discogs_client.git-test_core.py', 'viewfinderco-viewfinder.git-notification.py', 'robotframework-robotframework-Deprecation.py', 'viewfinderco-viewfinder.git-otp.py', 'viewfinderco-viewfinder.git-push_notification0.py', 'facebookresearch-ParlAI-test_hred.py', 'jmcnamara-XlsxWriter-test_hyperlink20.py', 'rytilahti-python-miio-roidmivacuum_miot.py', 'rembo10-headphones-x0fa.py', 'googleads-google-ads-python.git-__init__10.py', 'tryton-tryton-client.git-note.py', 'Nuitka-Nuitka-_compat.py', 'Nixtla-statsforecast-test_dask.py', 'viewfinderco-viewfinder.git-gen_test1.py', 'FMInference-FlexGen-modeling_flax_bart.py', 'flipkart-incubator-Astra-csrf.py', 'dmlc-dgl-densechebconv.py', 'the-paperless-project-paperless-checks.py', 'statsmodels-statsmodels-cross_validators.py', 'ansible-awx-test_signals.py', 'bentoml-BentoML-__init__2.py', 'alpa-projects-alpa-step_2_consolidate_992_shards_to_singleton.py', 'insanum-gcalcli-test_gcalcli.py', 'python-ldap-python-ldap.git-__init__.py', 'buildbot-buildbot-mercurial.py', 'MasoniteFramework-masonite-Validator.py', 'Flagsmith-flagsmith-0005_add_view_identity_permissions.py', 'nameko-nameko-event_broadcast.py', 'Nuitka-Nuitka-main.py', 'viewfinderco-viewfinder.git-summary_layout0.py', 'saltstack-salt-test_win_groupadd.py', 'openedx-edx-platform-apps2.py', 'kubernetes-client-python.git-v1alpha1_resource_class.py', 'googleads-google-ads-python.git-__init__.py', 'Komodo-KomodoEdit-koApacheLanguage.py', 'PaddlePaddle-PARL-qmix_config.py', 'edgedb-edgedb-view_patterns.py', 'matrix-org-synapse-handlers.py', 'StackStorm-st2-setup.py', 'viewfinderco-viewfinder.git-profile.py', 'StackStorm-st2-pack_config_schemas.py', 'huggingface-transformers-__init__5.py', 'mvt-project-mvt-net_netusage.py', 'viewfinderco-viewfinder.git-dynamodb_client_test.py', 'nltk-nltk-bleu_score.py', 'DataDog-dd-trace-py.git-lock.py', 'dmlc-dgl-heterograph_index.py', 'django-oscar-django-oscar-applicator.py', 'amueller-word_cloud-wordcloud.py', 'luispedro-BuildingMachineLearningSystemsWithPython-seeds_knn_increasing_k.py', 'openstack-nova-utils.py', 'spyder-ide-spyder-client.py', 'flipkart-incubator-Astra-dbconnection.py', 'jumpserver-jumpserver-0077_auto_20211012_1642.py', 'jmcnamara-XlsxWriter-doc_properties.py', 'PaddlePaddle-PaddleGAN-wing.py', 'docusign-docusign-esign-python-client.git-first_name.py', 'LAION-AI-Open-Assistant-test_utils.py', 'mailpile-Mailpile.git-Tester.py', 'asyml-texar-gpt2.py', 'benoitc-gunicorn.git-settings.py', 'jmcnamara-XlsxWriter-test_textbox12.py', 'alicevision-Meshroom-LdrToHdrCalibration.py', 'saltstack-salt-test_ini_manage.py', 'dtmilano-AndroidViewClient.git-browser-open-url.py', 'viewfinderco-viewfinder.git-tcpserver.py', 'robotframework-robotframework-loggerhelper.py', 'vgrem-Office365-REST-Python-Client.git-entity_data.py', 'pynecone-io-pynecone-test_cond.py', 'googleapis-google-cloud-python.git-__init__.py', 'thu-ml-tianshou-atari_qrdqn.py', 'Komodo-KomodoEdit-__init__0.py', 'EssayKillerBrain-WriteGPT-utils.py', 'kmadac-bitstamp-python-client.git-setup.py', 'openedx-edx-platform-management.py', 'openedx-edx-platform-test_integration.py', 'robotframework-robotframework-FailUntilSucceeds.py', 'saltstack-salt-test_rbenv.py', 'statsmodels-statsmodels-stattools.py', 'buildbot-buildbot-lineboundaries.py', 'paramiko-paramiko-test_ssh_gss.py', 'googleads-google-ads-python.git-base.py', 'readthedocs-readthedocs.org-forms0.py', 'tableau-server-client-python.git-auth_endpoint.py', 'prowler-cloud-prowler-outputs.py', 'Flagsmith-flagsmith-helpers.py', 'StellarCN-py-stellar-base.git-inner_transaction_result_ext.py', 'google-research-scenic-plainvit.py', 'Bitmessage-PyBitmessage.git-https.py', 'PaddlePaddle-PARL-actor_status_wait_mode_test.py', 'openedx-edx-platform-xblock_counts.py', 'StackStorm-st2-filter.py', 'viewfinderco-viewfinder.git-message_test.py', 'lucc-khard.git-test_carddav_object.py', 'chainer-chainer-array.py', 'httpie-http-prompt-execution.py', 'viewfinderco-viewfinder.git-id_allocator_test.py', 'adap-flower-dataset.py', 'rembo10-headphones-base.py', 'django-oscar-django-oscar-0001_initial.py', 'catalyst-team-catalyst-test_cmc_metric.py', 'viewfinderco-viewfinder.git-server_log_metrics0.py', 'pennersr-django-allauth-client.py', 'viewfinderco-viewfinder.git-staging_redirect_test.py', 'Kozea-WeasyPrint-test_units.py', 'appium-python-client.git-build_tools_version_option.py', 'redis-redis-py.git-cluster.py', 'django-oscar-django-oscar-customisation.py', 'TJU-DRL-LAB-AI-Optimizer-ant.py', 'skulpt-skulpt-t363.py', 'facebookresearch-mmf-vocab.py', 'explosion-spaCy-test_noun_chunks.py', 'gaogaotiantian-viztracer-dummy_vizplugin.py', 'fossasia-open-event-server-2339564f5dc7_.py', 'csujedihy-lc-all-solutions-design-excel-sum-formula.py', 'jmcnamara-XlsxWriter-test_chart_bar01.py', 'FAForever-client.git-chat_widget.py', 'viewfinderco-viewfinder.git-apns_test0.py', 'googleads-google-ads-python.git-customer_customizer.py', 'ecederstrand-exchangelib.git-collections.py', 'StellarCN-py-stellar-base.git-set_trust_line_flags_result_code.py', 'kubeflow-pipelines-component_factory.py', 'nate-parrott-Flashlight-pyopenssl.py', 'kubeflow-pipelines-remote_runner0.py', 'aaugustin-websockets-echo.py', 'FMInference-FlexGen-test_modeling_m2m_100.py', 'PyJun-Mooc_Downloader-Mooc_Interface.py', 'Drakkar-Software-OctoBot-community_user_account.py', 'smart-on-fhir-client-py.git-familymemberhistory.py', 'viewfinderco-viewfinder.git-update_viewpoint_op.py', 'viewfinderco-viewfinder.git-base0.py', 'RobertCraigie-prisma-client-py.git-validator.py', 'aio-libs-aiohttp-web_srv_route_table.py', 'mapillary-OpenSfM-synthetic_metrics.py', 'googleads-google-ads-python.git-experiment_status.py', 'ethereon-caffe-tensorflow-layers.py', 'skulpt-skulpt-t233.py', 'TJU-DRL-LAB-AI-Optimizer-setup.py', 'rushter-MLAlgorithms-t-sne.py', 'viewfinderco-viewfinder.git-mdetect0.py', 'chainer-chainer-average.py', 'smallcorgi-Faster-RCNN_TF-setup.py', 'TJU-DRL-LAB-AI-Optimizer-simple.py', 'viewfinderco-viewfinder.git-stack_context_test.py', 'kubeflow-pipelines-test_delete_model_launcher.py', 'activeloopai-deeplake-merge.py', 'MasoniteFramework-masonite-test_async_driver.py', 'facebookresearch-ParlAI-flask.py', 'Komodo-KomodoEdit-etree.py', 'Tribler-tribler.git-setup.py', 'huggingface-transformers-modeling_visual_bert.py', 'aws-aws-sam-cli-preview_runtimes.py', 'spyder-ide-spyder-__init__3.py', 'boston-dynamics-spot-sdk-arm_door.py', 'shapely-shapely-collection.py', 'openedx-edx-platform-tasks.py', 'explosion-spaCy-stop_words.py', 'falconry-falcon-errors.py', 'Kaggle-docker-python-test_kmapper.py', 'dmlc-gluon-cv-data_parallel.py', 'microsoft-qlib-rolling_online_management.py', 'FMInference-FlexGen-run_tf_ner.py', 'facebookresearch-ParlAI-test0.py', 'aws-aws-sam-cli-test_path_converter.py', 'tableau-server-client-python.git-data_acceleration_report_item.py', 'LAION-AI-Open-Assistant-worker_utils.py', 'smart-on-fhir-client-py.git-servicerequest_tests.py', 'prowler-cloud-prowler-ec2_networkacl_allow_ingress_tcp_port_3389_test.py', 'Nixtla-statsforecast-evaluation.py', 'saltstack-salt-win_chcp.py', 'robotframework-robotframework-__init__1.py', 'viewfinderco-viewfinder.git-counters0.py', 'googleads-google-ads-python.git-__init__14.py', 'HazyResearch-flash-attention-perplexity.py', 'Chaosthebot-Chaos-settings.py', 'viewfinderco-viewfinder.git-user_test0.py', 'openedx-edx-platform-docker-production.py', 'LonamiWebs-Telethon.git-string.py', 'open-mmlab-mmaction2-bsn_pem_400x100_1x16_20e_activitynet_feature.py', 'csujedihy-lc-all-solutions-target-sum.py', 'ponyorm-pony-test_crud.py', 'prowler-cloud-prowler-shield_advanced_protection_in_route53_hosted_zones.py', 'statsmodels-statsmodels-bayesprior.py', 'rembo10-headphones-client_credentials.py', 'openedx-edx-platform-test_wiki_app.py', 'googleads-google-ads-python.git-grpc3.py', 'Nuitka-Nuitka-Taskmaster.py', 'googleapis-google-cloud-python.git-base.py', 'catalyst-team-catalyst-project_embeddings.py', 'tensorflow-tensor2tensor-desc2code_test.py', 'viewfinderco-viewfinder.git-select.py', 'spotify-luigi-target.py', 'bbfamily-abu-c4.py', 'vgrem-Office365-REST-Python-Client.git-key_credential.py', 'jmcnamara-XlsxWriter-test_textbox36.py', 'trustedsec-ptf-scancannon.py', 'robotframework-robotframework-test_logreportwriters.py', 'googleads-google-ads-python.git-base0.py', 'viewfinderco-viewfinder.git-xsrf_test1.py', 'jpush-jpush-api-python-client.git-__init__.py', 'saltstack-salt-runtests_decorators.py', 'aio-libs-aiohttp.git-web_app.py', 'qiyuangong-leetcode-654_Maximum_Binary_Tree.py', 'lawlite19-MachineLearning_Python-LogisticRegression_OneVsAll.py', 'docusign-docusign-esign-python-client.git-billing_invoices_response.py', 'ludwig-ai-ludwig-train_twitter_bots.py', 'holoviz-panel-urls.py', 'googleads-google-ads-python.git-conversion_action_status.py', 'holoviz-panel-settings.py', 'skulpt-skulpt-robotparser.py', 'microsoft-qlib-score_ic.py', 'lbryio-lbry-sdk-url.py', 'doccano-doccano-permissions.py', 'googleads-googleads-python-lib.git-update_custom_targeting_keys.py', 'rembo10-headphones-x09c.py', 'googleads-google-ads-python.git-account_budget_proposal_error.py', 'viewfinderco-viewfinder.git-viewpoint_lock_tracker.py', 'dmlc-dgl-utils.py', 'appium-python-client.git-app_wait_for_launch_option.py', 'Azure-azure-kusto-python.git-ingestion_blob_info.py', 'viewfinderco-viewfinder.git-find_unused_provisioned_devices.py', 'chainer-chainer-distribution_test.py', 'smart-on-fhir-client-py.git-claim.py', 'viewfinderco-viewfinder.git-metric_test.py', 'TJU-DRL-LAB-AI-Optimizer-discrete_magym_IPPO.py', 'FMInference-FlexGen-tiling.py', 'QQuick-Transcrypt-__init__1.py', 'apache-tvm-clang.py', 'openstack-nova-test_bug_1764883.py', 'hynek-structlog-_base.py', 'viewfinderco-viewfinder.git-create_prospective_op.py', 'rembo10-headphones-__init__1.py', 'viewfinderco-viewfinder.git-op_context.py', 'basho-riak-python-client.git-connection.py', 'owid-covid-19-data-__main__.py', 'Komodo-KomodoEdit-test_rhtml.py', 'viewfinderco-viewfinder.git-apns0.py', 'facebookincubator-AITemplate-test_ait_batch_norm.py', 'viewfinderco-viewfinder.git-template_test.py', 'prometheus-client_python.git-parser.py', 'buildbot-buildbot-workers.py', 'viewfinderco-viewfinder.git-options_test.py', 'DataDog-dd-trace-py.git-test_executor_decorator.py', 'spyder-ide-spyder-start.py', 'saltstack-salt-archive.py', 'huggingface-transformers-configuration_chinese_clip.py', 'viewfinderco-viewfinder.git-metric_test0.py', 'speechbrain-speechbrain-common_language_prepare.py', 'huggingface-transformers-configuration_ibert.py', 'openedx-edx-platform-0008_role_user_index.py', 'viewfinderco-viewfinder.git-remove_followers_test.py', 'huggingface-transformers-__init__2.py', 'aio-libs-aiohttp-test_pytest_plugin.py', 'speechbrain-speechbrain-__init__.py', 'fossasia-open-event-server-custom_forms.py', 'vgrem-Office365-REST-Python-Client.git-item.py', 'buildbot-buildbot-test_local.py', 'viewfinderco-viewfinder.git-user_op_manager.py', 'spyder-ide-spyder-example.py', 'huggingface-transformers-modeling_blenderbot_small.py', 'aio-libs-aiohttp-test_web_sendfile_functional.py', 'scrapinghub-portia-deletion.py', 'buildbot-buildbot-test_trycmd.py', 'huashengdun-webssh.git-test_handler.py', 'spotify-snakebite.git-client_test.py', 'redis-redis-py.git-setup.py', 'viewfinderco-viewfinder.git-upload_episode_op2.py', 'Tribler-tribler.git-tag_rules_processor.py', 'dbcli-mycli-delimitercommand.py', 'tartley-colorama-demo02.py', 'statsmodels-statsmodels-statespace_local_linear_trend.py', 'microsoft-playwright-python-test_counter.py', 'fossasia-open-event-server-users_groups_roles.py', 'elastic-elasticsearch-py.git-__init__.py', 'spotify-luigi-test_sigpipe.py', 'django-oscar-django-oscar-0020_auto_20200801_0817.py', 'Diaoul-subliminal-conftest.py', 'saltstack-salt-debian_ip.py', 'jmcnamara-XlsxWriter-test_chart_bar06.py', 'celery-celery-test_term.py', 'skulpt-skulpt-t335.py', 'google-research-football-replay.py', 'explosion-spaCy-punctuation.py', 'httplib2-httplib2-certs.py', 'viewfinderco-viewfinder.git-old_remove_photos_test.py', 'avgupta456-github-trends-decorators.py', 'speechbrain-speechbrain-test_augment.py', 'LonamiWebs-Telethon.git-custom.py', 'viewfinderco-viewfinder.git-__init__15.py', 'ploomber-ploomber-test_client.py', 'fluentpython-example-code-2e-strategy_best2.py', 'flipkart-incubator-Astra-portscan.py', 'RasaHQ-rasa-test_keyword_classifier.py', 'fossasia-open-event-server-6581466d21c9_.py', 'aws-aws-sam-cli-mylayer.py', 'absolute-quantum-cats-blender-plugin-__init__.py', 'mailpile-Mailpile.git-experiments.py', 'appium-python-client.git-enable_async_execute_from_https_option.py', 'viewfinderco-viewfinder.git-metric1.py', 'saltstack-salt-kubernetesmod.py', 'googlemaps-google-maps-services-python.git-test_directions.py', 'chainer-chainer-test_ctc.py', 'ansible-awx-user.py', 'google-clusterfuzz-bots_test.py', 'ktbyers-netmiko-cisco_ftd_ssh.py', 'OpenCTI-Platform-client-python.git-get_entity_by_name_or_alias.py', 'fastnlp-fastNLP-test_dist_utils.py', 'openai-gpt-2-sample.py', 'openstack-nova-instance_actions.py', 'openedx-edx-platform-special_exams.py', 'ConsenSys-mythril-berlin_fork_opcodes_test.py', 'ploomber-ploomber-_upstream.py', 'python-ldap-python-ldap.git-filter.py', 'buildbot-buildbot-compat.py', 'viewfinderco-viewfinder.git-schema_test.py', 'viewfinderco-viewfinder.git-notification_test.py', 'showlab-Tune-A-Video-resnet.py', 'dmlc-dgl-internal.py', 'viewfinderco-viewfinder.git-id_test.py', 'AirtestProject-Airtest-retry.py', 'facebookresearch-maskrcnn-benchmark-test_metric_logger.py', 'PaddlePaddle-PaddleGAN-trainer.py', 'confluentinc-confluent-kafka-python.git-producer.py', 'git-cola-git-cola-cli.py', 'google-timesketch-sigma_test.py', 'facebookresearch-ParlAI-profile_expanded_attention_128.py', 'statsmodels-statsmodels-sarimax.py', 'Kaggle-docker-python-test_h2o.py', 'boston-dynamics-spot-sdk-recording_command_line.py', 'bentoml-BentoML-locustfile.py', 'FMInference-FlexGen-__init__7.py', 'Tribler-tribler.git-timeseriesplot.py', 'awesto-django-shop-order.py', 'thu-ml-zhusuan-test_monte_carlo.py', 'algolia-algoliasearch-client-python.git-personalization_client.py', 'Nuitka-Nuitka-GlobalForParameter.py', 'FMInference-FlexGen-kb_encode_utils.py', 'Flagsmith-flagsmith-views.py', 'vaexio-vaex-convert.py', 'python-pillow-Pillow-test_file_webp_lossless.py', 'jmcnamara-XlsxWriter-test_defined_name01.py', 'great-expectations-great_expectations-__init__.py', 'hazelcast-hazelcast-python-client.git-count_down_latch_get_round_codec.py', 'ansible-awx-test_common.py', 'viewfinderco-viewfinder.git-s3_object_store_test.py', 'viewfinderco-viewfinder.git-parse_cases0.py', 'nltk-nltk-__init__.py', 'mwaskom-seaborn-radial_facets.py', 'StackStorm-st2-rules.py', 'viewfinderco-viewfinder.git-testing_test.py', 'viewfinderco-viewfinder.git-dotdict.py', 'ifzhang-ByteTrack-byte_tracker.py', 'FMInference-FlexGen-test_modeling_esmfold.py', 'praw-dev-praw-test_poll.py', 'TJU-DRL-LAB-AI-Optimizer-kernel.py', 'pennersr-django-allauth-views1.py', 'mikedh-trimesh-test_loaded.py', 'docusign-docusign-esign-python-client.git-document_html_definitions.py', 'openstack-nova-test_floating_ip_pools.py', 'vgrem-Office365-REST-Python-Client.git-site_state_properties.py', 'encode-django-rest-framework-drf_create_token.py', 'martomo-SublimeTextXdebug.git-unittesting.py', 'huggingface-transformers-test_modeling_visual_bert.py', 'viewfinderco-viewfinder.git-raw_dba0.py', 'google-research-scenic-tokenizer.py', 'viewfinderco-viewfinder.git-push_notify1.py', 'MasoniteFramework-masonite-ScheduleRunCommand.py', 'google-timesketch-__init__.py', 'googleads-google-ads-python.git-conversion_action.py', 'spyder-ide-spyder-__init__4.py', 'facebookincubator-AITemplate-fused_elementwise.py', 'FMInference-FlexGen-modeling_flax_big_bird.py', 'aim-uofa-AdelaiDet-visualize_data.py', 'thu-ml-zhusuan-hmc.py', 'microsoft-playwright-python-_network.py', 'prowler-cloud-prowler-elbv2_internet_facing.py', 'facebookresearch-ParlAI-cross_model_huge_reddit.py', 'BayesWitnesses-m2cgen-code_generator.py', 'LAION-AI-Open-Assistant-loading_script.py', 'microsoft-qlib-base.py', 'RasaHQ-rasa-finetuning_validator.py', 'facebookresearch-ParlAI-test_import.py', 'openstack-nova-test_session.py', 'doccano-doccano-utils.py', 'mikf-gallery-dl-komikcast.py', 'StellarCN-py-stellar-base.git-account_entry_extension_v1_ext.py', 'metabrainz-picard-tagsfromfilenames.py', 'ludwig-ai-ludwig-test_metrics.py', 'tschellenbach-Stream-Framework-__init__.py', 'speechbrain-speechbrain-aishell_prepare.py', 'openedx-edx-platform-test_views1.py', 'viewfinderco-viewfinder.git-retry.py', 'Nuitka-Nuitka-__init__.py', 'mwouts-jupytext-jupyter_again.py', 'skulpt-skulpt-textwrap.py', 'edgedb-edgedb-test_lru.py', 'trustedsec-ptf-rpivot.py', 'facebookresearch-pycls-samplers.py', 'FMInference-FlexGen-generation_beam_search.py', 'nltk-nltk-plaintext.py', 'sdispater-pendulum-helpers.py', 'google-timesketch-definitions.py', 'facebookresearch-ParlAI-build2.py', 'viewfinderco-viewfinder.git-op_mgr_db_client0.py', 'explosion-spaCy-lex_attrs0.py', 'adap-flower-main.py', 'pybrain-pybrain-objects3d.py', 'globocom-tornado-stale-client-__init__.py', 'schematics-schematics-admin.py', 'pyodide-pyodide-reverse_cumsum.py', 'TheAlgorithms-Python-2_hidden_layers_neural_network.py', 'viewfinderco-viewfinder.git-auth_google_test.py', 'smallcorgi-Faster-RCNN_TF-anchor_target_layer.py', 'googleads-google-ads-python.git-grpc4.py', 'open-mmlab-mmaction2-misc_head.py', 'openedx-edx-platform-test_signals.py', 'rytilahti-python-miio-__init__1.py', 'achael-eht-imaging-summary_plots.py', 'huggingface-transformers-convert_deit_timm_to_pytorch.py', 'googleads-google-ads-python.git-__init__13.py', 'tensorflow-graphics-centernet_utils.py', 'docusign-docusign-esign-python-client.git-folder_item_response.py', 'LonamiWebs-Telethon.git-chats.py', 'googleads-google-ads-python.git-value_rule_geo_location_match_type.py', 'apache-tvm-test_runtime.py', 'docusign-docusign-esign-python-client.git-group.py', 'saltstack-salt-test_cloud.py', 'minio-minio-py.git-sseconfig.py', 'openedx-edx-platform-apps1.py', 'open-mmlab-mmaction2-resize_videos.py', 'DataDog-dd-trace-py.git-__init__1.py', 'openedx-edx-platform-test_lti_stub.py', 'persepolisdm-persepolis-osCommands.py', 'buildbot-buildbot-steps.py', 'smart-on-fhir-client-py.git-graphdefinition_tests.py', 'bentoml-BentoML-__init__1.py', 'zhzyker-vulmap-packager.py', 'facebookresearch-ParlAI-test.py', 'huggingface-transformers-test_modeling_whisper.py', 'QQuick-Transcrypt-test.py', 'viewfinderco-viewfinder.git-hide_photos_test.py', 'facebookresearch-maskrcnn-benchmark-webcam.py', 'ponyorm-pony-test_frames.py', 'cloudmesh-client.git-PyCommand.py', 'viewfinderco-viewfinder.git-remove_follower.py', 'viewfinderco-viewfinder.git-httpclient_test.py', 'viewfinderco-viewfinder.git-remove_contacts_test.py', 'jumpserver-jumpserver-terminal.py', 'spyder-ide-spyder-text.py', 'vgrem-Office365-REST-Python-Client.git-checklist_item.py', 'fastnlp-fastNLP-__init__.py', 'StellarCN-py-stellar-base.git-__init__0.py', 'neptune-ai-neptune-client.git-test_model.py', 'pennersr-django-allauth-views.py', 'microsoft-qlib-test_get_multi_proc.py', 'chainer-chainer-log_report.py', 'gpodder-gpodder.git-registry.py', 'viewfinderco-viewfinder.git-keyczar_dict1.py', 'nate-parrott-Flashlight-__init__.py', 'dmlc-gluon-cv-ssd.py', 'kubeflow-pipelines-component.py', 'spotify-luigi-execution_summary_test.py', 'robotframework-robotframework-__init__.py', 'HazyResearch-flash-attention-benchmark.py', 'googleads-google-ads-python.git-negative_geo_target_type.py', 'Nuitka-Nuitka-sgilink.py', 'dpkp-kafka-python.git-heartbeat.py', 'skulpt-skulpt-t305.py', 'viewfinderco-viewfinder.git-base64hex_test.py', 'insanum-gcalcli-details.py', 'django-oscar-django-oscar-0009_slugfield_noop.py', 'ansible-awx-export_custom_scripts.py', 'great-expectations-great_expectations-sparkdf_batch_data.py', 'lanpa-tensorboardX-demo_openvino.py', 'spikeekips-serf-python-test_command_join.py', 'gevent-gevent-test__fileobject.py', 'dmlc-gluon-cv-finetune_custom.py', 'prowler-cloud-prowler-ecr_repositories_scan_vulnerabilities_in_latest_image.py', 'graphql-python-gql.git-test_subscription.py', 'sonic182-aiosonic-setup.py', 'saltstack-salt-ssh.py', 'django-oscar-django-oscar-test_utils.py', 'mikf-gallery-dl-job.py', 'awesto-django-shop-0004_auto_20170411_1733.py', 'aws-aws-sam-cli-test_browser_configuration.py', 'benoitc-gunicorn.git-flask_sendfile.py', 'googleads-google-ads-python.git-grpc.py', 'prkumar-uplink-schemas.py', 'ifzhang-ByteTrack-track.py', 'wee-slack-wee-slack-test_processteamjoin.py', 'great-expectations-great_expectations-test_runtime_data_connector.py', 'viewfinderco-viewfinder.git-user_photo_test0.py', 'jumpserver-jumpserver-manage.py', 'influxdata-influxdb-client-python.git-task_create_request.py', 'pypi-warehouse-590c513f1c74_new_psf_staff_boolean_flag.py', 'viewfinderco-viewfinder.git-alert_manager.py', 'jfzhang95-pytorch-deeplab-xception-__init__.py', 'facebookresearch-ParlAI-funpedia.py', 'PaddlePaddle-PaddleGAN-stylegan2_clean_arch.py', 'avgupta456-github-trends-style.py', 'LibrePhotos-librephotos-places365.py', 'viewfinderco-viewfinder.git-admin.py', 'Komodo-KomodoEdit-entities.py', 'viewfinderco-viewfinder.git-options_test0.py', 'tensorflow-tensor2tensor-gym_spaces_utils.py', 'neptune-ai-neptune-client.git-run0.py', 'MVIG-SJTU-AlphaPose-env.py', 'elastic-elasticsearch-py.git-ssl.py', 'vgrem-Office365-REST-Python-Client.git-version.py', 'thumbor-thumbor-test_logger_metrics.py', 'archlinux-archinstall-filesystem.py', 'explosion-spaCy-examples.py', 'viewfinderco-viewfinder.git-interface.py', 'jaebradley-draftkings_client.git-draftables.py', 'simon-weber-gmusicapi-shared.py', 'openapi-generators-openapi-python-client.git-tag.py', 'viewfinderco-viewfinder.git-store_utils0.py', 'viewfinderco-viewfinder.git-admin_permissions0.py', 'ludwig-ai-ludwig-augmentation_utils.py', 'openedx-edx-platform-__init__7.py', 'saltstack-salt-alternatives.py', 'nltk-nltk-scikitlearn.py', 'googleads-google-ads-python.git-asset_group_asset_service.py', 'viewfinderco-viewfinder.git-calendar_test.py', 'n1nj4sec-pupy-error.py', 'fossasia-open-event-server-notification_setting.py', 'spyder-ide-spyder-widgets.py', 'edgedb-edgedb-sql_introspection.py', 'apache-tvm-bifrost.py', 'saltstack-salt-test_load.py', 'rytilahti-python-miio-test_fan_miot.py', 'DataDog-dd-trace-py.git-metric_collectors.py', 'matrix-org-synapse-report_event.py', 'TheAlgorithms-Python-sol10.py', 'viewfinderco-viewfinder.git-user_photo.py', 'aws-serverless-application-model-parser.py', 'encode-django-rest-framework-settings.py', 'nate-parrott-Flashlight-plugin.py', 'grafana-oncall-test_sync.py', 'huggingface-transformers-convert_t5x_checkpoint_to_pytorch.py', 'fossasia-open-event-server-rev-2020-06-20-20:02:33-abc8b96ce72c_.py', 'saltstack-salt-mysql_query.py', 'googleads-google-ads-python.git-grpc0.py', 'viewfinderco-viewfinder.git-setup.py', 'viewfinderco-viewfinder.git-db.py', 'charlesq34-pointnet2-tf_grouping.py', 'apache-tvm-test_type_solver.py', 'seemethere-nba_py.git-conf.py', 'autogluon-autogluon-test_dummy.py', 'openstack-nova-test_host_api.py', 'great-expectations-great_expectations-expect_column_parameterized_distribution_ks_test_p_value_to_be_greater_than.py', 'jumpserver-jumpserver-storage.py', 'apache-tvm-utils1.py', 'docusign-docusign-esign-python-client.git-workspace_user_authorization.py', 'viewfinderco-viewfinder.git-stack_context_test0.py', 'microsoft-DeepSpeed-comms_logging.py', 'PaddlePaddle-PaddleDetection-gen_semi_coco.py', 'nryoung-algorithms-fermat.py', 'facebookresearch-pifuhd-EvalDataset.py', 'facebookincubator-AITemplate-test_correctness.py', 'googleads-googleads-python-lib.git-get_all_cms_metadata_keys.py', 'aws-aws-sam-cli-nested_stack.py', 'jupyter-docker-stacks-manifests.py', 'ohld-igbot-get_hashtags_from_keywords.py', 'mesonbuild-meson-python.py', 'chipsec-chipsec-hypercall.py', 'docusign-docusign-esign-python-client.git-permission_profile.py', 'alicevision-Meshroom-csvData.py', 'buildbot-buildbot-test_service.py', 'statsmodels-statsmodels-gam_penalties.py', 'MasoniteFramework-masonite-__init__.py', 'joxeankoret-diaphora-scdoc.py', 'viewfinderco-viewfinder.git-constants.py', 'saltstack-salt-test_top_file_merge.py', 'viewfinderco-viewfinder.git-app-tool.py', 'MTrajK-coding-problems-perfect_rectangle.py', 'RasaHQ-rasa_core-test_visualization.py', 'encode-django-rest-framework-checks.py', 'encode-django-rest-framework-field_mapping.py', 'django-oscar-django-oscar-test_product_attributes.py', 'viewfinderco-viewfinder.git-app-tool0.py', 'huggingface-transformers-__init__7.py', 'facebookincubator-AITemplate-conv2d_bias_sigmoid.py', 'google-seq2seq-attention_test.py', 'googleads-google-ads-python.git-third_party_app_analytics_link_error.py', 'microsoft-playwright-python-test_mark_all_as_completed.py', 'jofpin-trape-utils.py', 'openedx-edx-platform-apps0.py', 'viewfinderco-viewfinder.git-generate-manifest0.py', 'owid-covid-19-data-latvia.py', 'viewfinderco-viewfinder.git-update_follower_op.py', 'jceb-vim-orgmode-test_liborgdate_parsing.py', 'readthedocs-readthedocs.org-test_search_tasks.py', 'yaml-pyyaml-tokens.py', 'apache-tvm-trailing_newlines.py', 'chainer-chainer-test_det.py', 'MasoniteFramework-masonite-test_location.py', 'iperov-DeepFaceLive-Tensor.py', 'viewfinderco-viewfinder.git-push_notification.py', 'speechbrain-speechbrain-train_hf_wav2vec.py', 'DataDog-dd-trace-py.git-utils0.py', 'shelhamer-fcn.berkeleyvision.org-net.py', 'iperov-DeepFaceLive-EMaskType.py', 'aws-aws-sam-cli-main0.py', 'viewfinderco-viewfinder.git-wsgi_test.py', 'tableau-server-client-python.git-tables_endpoint.py', 'saltstack-salt-gentoolkitmod.py', 'zhzyker-vulmap-sbcsgroupprober.py', 'huggingface-transformers-train.py', 'matrix-org-synapse-test_itertools.py', 'kubeflow-pipelines-test_api_report_run_metrics_request.py', 'ludwig-ai-ludwig-assess_model_performance.py', 'dmlc-dgl-bench_add_self_loop.py', 'crossbario-autobahn-python-backend_selfsigned.py', 'apache-tvm-from_paddle.py', 'statsmodels-statsmodels-test_var_jmulti.py', 'google-research-text-to-text-transfer-transformer-tasks.py', 'kubeflow-pipelines-api_pipeline.py', 'ludwig-ai-ludwig-set_feature.py', 'dmlc-gluon-cv-tensor_transforms.py', 'celery-celery-__init__0.py', 'FMInference-FlexGen-test_file_utils.py', 'viewfinderco-viewfinder.git-keyczar_dict0.py', 'google-research-football-academy_run_pass_and_shoot_with_keeper.py', 'Nixtla-statsforecast-experiment.py', 'openedx-edx-platform-tasks0.py', 'statsmodels-statsmodels-oneway.py', 'googleapis-google-cloud-python.git-discoveryengine_v1beta_generated_user_event_service_import_user_events_async.py', 'tiangolo-sqlmodel-test_tutorial001.py', 'viewfinderco-viewfinder.git-upload_episode_op.py', 'careercup-CtCI-6th-Edition-Python-p07_permutations_without_dups.py', 'googleads-google-ads-python.git-conversion_lag_bucket.py', 'explosion-spaCy-test_tokenizer.py', 'dmlc-dgl-provider.py', 'shinnytech-tqsdk-python-t94.py', 'jmcnamara-XlsxWriter-test_styles06.py', 'pyodide-pyodide-read_csv.py', 'python-pillow-Pillow-test_image_resample.py', 'trustedsec-ptf-winshock-test.py', 'kserve-kserve-v1alpha1_inference_target.py', 'activeloopai-deeplake-constants.py', 'ludwig-ai-ludwig-test_cache_util.py', 'PyCQA-isort-test_setuptools_command.py', 'openstack-nova-security_groups.py', 'viewfinderco-viewfinder.git-unshare_test0.py', 'cemoody-lda2vec-topics.py', 'HazyResearch-flash-attention-test_opt.py', 'joxeankoret-diaphora-configs.py', 'ansible-awx-0154_set_default_uuid.py', 'python-attrs-attrs-test_abc.py', 'Nuitka-Nuitka-ListCreation.py', 'googleads-google-ads-python.git-manager_link_status.py', 'StackStorm-st2-sensor_wrapper.py', 'jmcnamara-XlsxWriter-test_encode_password.py', 'nate-parrott-Flashlight-invoke_plugin.py', 'readthedocs-readthedocs.org-0004_make_total_results_not_null.py', 'careercup-CtCI-6th-Edition-Python-p17_multi_search.py', 'appium-python-client.git-test_helper.py', 'great-expectations-great_expectations-test_configs.py', 'Kaggle-docker-python-test_flask.py', 'pycrypto-pycrypto-test_number.py', 'viewfinderco-viewfinder.git-counters_test.py', 'facebookresearch-ParlAI-util.py', 'metabrainz-picard-test_acoustidmanager.py', 'WithSecureLabs-drozer-installer_test.py', 'polakowo-vectorbt-_typing.py', 'mravanelli-pytorch-kaldi-make_blstm_proto.py', 'TJU-DRL-LAB-AI-Optimizer-mopo_modTH.py', 'spyder-ide-spyder-__init__1.py', 'readthedocs-readthedocs.org-test_build_forms.py', 'openedx-edx-platform-views.py', 'FMInference-FlexGen-test_modeling_vit_msn.py', 'fastnlp-fastNLP-utils.py', 'saltstack-salt-diskusage.py', 'aws-serverless-application-model-globals.py', 'googleapis-google-cloud-python.git-mapsplatformdatasets_v1alpha_generated_maps_platform_datasets_v1_alpha_list_dataset_versions_sync.py', 'holoviz-panel-reactive.py', 'trustedsec-ptf-crackmapexec.py', 'viewfinderco-viewfinder.git-client_version.py', 'google-clusterfuzz-batch_fuzzer_jobs.py', 'FMInference-FlexGen-test_pipelines_object_detection.py', 'viewfinderco-viewfinder.git-server_log.py', 'kserve-kserve-test_xgboost.py', 'gevent-gevent-_threading.py', 'PaddlePaddle-PARL-qmixer_model.py', 'influxdata-influxdb-client-python.git-query_from_file.py', 'borgbase-vorta.git-extract_dialog.py', 'docusign-docusign-esign-python-client.git-envelope_template.py', 'TheAlgorithms-Python-a_star.py', 'saltstack-salt-test_module.py', 'spotify-luigi-redis_test.py', 'dnanexus-dx-toolkit.git-executable_unbuilder.py', 'mne-tools-mne-python-__init__.py', 'openedx-edx-platform-api_urls.py', 'luyishisi-Anti-Anti-Spider-get_url.py', 'keras-team-autokeras-base_block.py', 'skulpt-skulpt-t205.py', 'DataDog-dd-trace-py.git-test.py', 'alicevision-Meshroom-PanoramaInit.py', 'googleads-google-ads-python.git-grpc1.py', 'viewfinderco-viewfinder.git-server.py', 'viewfinderco-viewfinder.git-user_post.py', 'googleads-google-ads-python.git-age_range_type.py', 'scrapinghub-shub.git-test_migrate_eggs.py', 'DataDog-dd-trace-py.git-test_flask_snapshot.py', 'Tribler-tribler.git-test_create_torrent_endpoint.py', 'influxdata-influxdb-client-python.git-member_assignment.py', 'rushter-MLAlgorithms-__init__.py', 'Visualize-ML-Book3_Elements-of-Mathematics-Bk3_Ch10_02.py', 'confluentinc-confluent-kafka-python.git-avro.py', 'googleads-google-ads-python.git-ad_parameter_service.py', 'zju3dv-EasyMocap-mocap.py', 'fossasia-open-event-server-ticket_tags.py', 'viewfinderco-viewfinder.git-debug.py', 'rembo10-headphones-nzbget.py', 'pybrain-pybrain-benchmarkplots.py', 'apache-tvm-utils0.py', 'aerospike-aerospike-client-python.git-append.py', 'LAION-AI-Open-Assistant-2023_01_14_1509-619255ae9076_add_rank_to_message_table.py', 'viewfinderco-viewfinder.git-escape.py', 'smart-on-fhir-client-py.git-parameterdefinition.py', 'googleads-google-ads-python.git-__init__16.py', 'Komodo-KomodoEdit-multiple_inheritance.py', 'Flagsmith-flagsmith-test_unit_import_export_import.py', 'RasaHQ-rasa-conftest.py', 'vgrem-Office365-REST-Python-Client.git-info.py', 'ansible-awx-test_credential_input_sources.py', 'Nuitka-Nuitka-linkloc.py', 'Miserlou-Zappa-tests_async_old.py', 'spotify-luigi-salesforce.py', 'google-timesketch-fc7bc5c66c63_.py', 'MasoniteFramework-masonite-MessageBag.py', 'jazzband-django-model-utils-fields.py', 'Flagsmith-flagsmith-tests.py', 'seemoo-lab-opendrop-config.py', 'DataDog-dd-trace-py.git-constants.py', 'pydantic-pydantic-make_history.py', 'aio-libs-aiohttp-client_ws.py', 'saltstack-salt-win_timezone.py', 'home-assistant-libs-pychromecast-homeassistant.py', 'googleads-google-ads-python.git-ad_group_bid_modifier_service.py', 'Flagsmith-flagsmith-test_views.py', 'StackStorm-st2-access.py', 'openstack-nova-test_bug_1797580.py', 'Peter-Slump-python-keycloak-client.git-well_known.py', 'Sanster-lama-cleaner-interactive_seg.py', 'pybrain-pybrain-example_rnn.py', 'huggingface-transformers-test_tokenization_bert.py', 'QQuick-Transcrypt-__init__0.py', 'WithSecureLabs-drozer-__init__0.py', 'spyder-ide-spyder-test_definitions.py', 'mailpile-Mailpile.git-streamer.py', 'apache-tvm-code_hash.py', 'aws-aws-sam-cli-test_delete_command.py', 'rembo10-headphones-__init__0.py', 'saltstack-salt-win_system.py', 'google-clusterfuzz-external_update_test.py', 'zju3dv-EasyMocap-base.py', 'okfn-brasil-serenata-de-amor-test_same_day_view.py', 'googleads-google-ads-python.git-keyword_plan_aggregate_metric_type.py', 'googleads-google-ads-python.git-user_list_string_rule_item_operator.py', 'nltk-nltk-featstruct.py', 'Zulko-moviepy-masked_credits.py', 'polygon-io-client-python.git-dividends.py', 'aws-serverless-application-model-test_api_resource.py', 'Nixtla-statsforecast-_modidx.py', 'great-expectations-great_expectations-expect_column_values_to_be_valid_kansas_zip.py', 'viewfinderco-viewfinder.git-__init__5.py', 'google-research-scenic-trainer.py', 'ponyorm-pony-test_int_converter.py', 'viewfinderco-viewfinder.git-service_base_test.py', 'readthedocs-readthedocs.org-0020_migrate_null_hidden_field.py', 'nameko-nameko-test_service_runner.py', 'open-mmlab-mmaction2-tsm_r50_dense_1x1x8_50e_kinetics400_rgb.py', 'algolia-algoliasearch-client-python.git-hosts.py', 'alpa-projects-alpa-build.py', 'vgrem-Office365-REST-Python-Client.git-contract.py', 'PacktPublishing-Deep-Reinforcement-Learning-Hands-On-telegram-bot.py', 'snare-voltron-styles.py', 'mikedh-trimesh-test_meta.py', 'chainer-chainer-train_mnist_data_parallel.py', 'cobrateam-splinter-__init__.py', 'pyodide-pyodide-canvas_text_rotated.py', 'EpistasisLab-tpot-classifier_sparse.py', 'Komodo-KomodoEdit-test_transport.py', 'mwaskom-seaborn-test_regression.py', 'yutiansut-QUANTAXIS-QAIndicatorStruct.py', 'viewfinderco-viewfinder.git-dba.py', 'viewfinderco-viewfinder.git-raw_dba.py', 'viewfinderco-viewfinder.git-netutil_test.py', 'prowler-cloud-prowler-awslambda_function_url_public_test.py', 'wnma3mz-wechat_articles_spider-url2pdf.py', 'benoitc-gunicorn.git-flaskapp_aiohttp_wsgi.py', 'pennersr-django-allauth-tests.py', 'fossasia-open-event-server-da47a767f2ef_.py', 'mikf-gallery-dl-3dbooru.py', 'django-oscar-django-oscar-test_wishlist.py', 'jmcnamara-XlsxWriter-test_chart_errorbars09.py', 'dmlc-dgl-transr.py', 'DEAP-deap-griewank.py', 'rfancn-aliyun-ddns-client.git-record.py', 'lutris-lutris.git-files_box.py', 'viewfinderco-viewfinder.git-metric0.py', 'matrix-org-synapse-test_upgrade_room.py', 'grafana-oncall-test_reset_slack.py', 'buckyroberts-Source-Code-from-Tutorials-test.py', 'mne-tools-mne-python-utils.py', 'apache-tvm-vm.py', 'vgrem-Office365-REST-Python-Client.git-collection.py', 'viewfinderco-viewfinder.git-assets-tool.py', 'googleads-google-ads-python.git-experiment_arm_service.py', 'thonny-thonny-thre.py', 'viewfinderco-viewfinder.git-post_comment_test.py', 'aerospike-aerospike-client-python.git-test_list_pop.py', 'joxeankoret-diaphora-tnt.py', 'RobertCraigie-prisma-client-py.git-typesafety.nox.py', 'DataDog-dd-trace-py.git-profiler.py', 'google-timesketch-domain.py', 'nate-parrott-Flashlight-chardistribution.py', 'googleads-googleads-python-lib.git-update_companies.py', 'apache-tvm-test_topi_einsum.py', 'ecederstrand-exchangelib.git-indexed_properties.py', 'viewfinderco-viewfinder.git-accounting.py', 'dmlc-dgl-tools.py', 'viewfinderco-viewfinder.git-summary_layout.py', 'tschellenbach-Stream-Framework-cassandra.py', 'google-clusterfuzz-variant_task.py', 'viewfinderco-viewfinder.git-vf_schema.py', 'buckyroberts-Source-Code-from-Tutorials-32_PythonGameDevelopment.py', 'kubeflow-pipelines-placeholder_concat.py', 'dnanexus-dx-toolkit.git-exec_utils.py', 'activeloopai-deeplake-tensor_meta.py', 'ludwig-ai-ludwig-set_encoders.py', 'wangzheng0822-algo-ac_automata_.py', 'readthedocs-readthedocs.org-apps.py', 'BayesWitnesses-m2cgen-interpreter.py', 'aploium-zmirror-_Beep.py', 'pybrain-pybrain-example_tools.py', 'googleapis-google-cloud-python.git-discoveryengine_v1beta_generated_document_service_import_documents_async.py', 'nltk-nltk-test_bleu.py', 'viewfinderco-viewfinder.git-util_test.py', 'googleapis-oauth2client.git-test_keyring_storage.py', 'Komodo-KomodoEdit-bklocal.py', 'googleads-google-ads-python.git-user_location_view.py', 'statsmodels-statsmodels-test_chandrasekhar.py', 'viewfinderco-viewfinder.git-photo.py', 'tensorflow-tensor2tensor-tic_tac_toe_env_problem_test.py', 'princeton-nlp-SimCSE-ranking.py', 'pennersr-django-allauth-views0.py', 'googleads-google-ads-python.git-data_driven_model_status.py', 'invisibleroads-socketIO-client.git-heartbeats.py', 'bottlesdevs-Bottles-drives.py', 'RasaHQ-rasa-test_exporter.py', 'Komodo-KomodoEdit-frep.py', 'openstack-nova-fibrechannel.py', 'cobrateam-splinter-meta.py', 'dabeaz-course-practical-python-tableformat.py', 'activeloopai-deeplake-test_cli.py', 'viewfinderco-viewfinder.git-push_notify0.py', 'kuangliu-pytorch-cifar-regnet.py', 'spyder-ide-spyder-__init__5.py', 'tensorflow-tensor2tensor-translate_ende_test.py', 'StackStorm-st2-test_pack_configs.py', 'mravanelli-pytorch-kaldi-make_lstm_proto.py', 'google-clusterfuzz-schedule_corpus_pruning_test.py', 'praw-dev-praw-set_version.py', 'openedx-edx-platform-test_views.py', 'readthedocs-readthedocs.org-0072_remove_md5_field.py', 'skulpt-skulpt-poplib.py', 'falconry-falcon-responders.py', 'achael-eht-imaging-imgsum.py', 'vgrem-Office365-REST-Python-Client.git-auto_completion_results.py', 'rembo10-headphones-_util.py', 'dmlc-dgl-base.py', 'django-oscar-django-oscar-test_communication.py', 'huggingface-transformers-run_image_classification.py', 'openedx-edx-platform-test_views0.py', 'great-expectations-great_expectations-test_data_context_variables.py', 'Nuitka-Nuitka-PostProcessing.py', 'okfn-brasil-serenata-de-amor-fetch_congressperson_details.py', 'facebookincubator-AITemplate-gemm_rcr_bias_softmax.py', 'dpkp-kafka-python.git-record_batch_read.py', 'QQuick-Transcrypt-hello.py', 'NCI-GDC-gdc-client.git-utils.py', 'fossasia-open-event-server-afa76758760e_.py', 'bloomberg-memray-test_allocation_lifetime_aggregator.py', 'fluentpython-example-code-2e-messages.py', 'activeloopai-deeplake-test_mesh.py', 'mne-tools-mne-python-test_parametric.py', 'terminusdb-terminusdb-client-python.git-schema_template.py', 'rytilahti-python-miio-test_philips_eyecare.py', 'laixintao-iredis-test_utils.py', 'openedx-edx-platform-views0.py', 'dmlc-dgl-_sparse_ops.py', 'microsoft-qlib-highfreq_processor.py', 'OpenCTI-Platform-client-python.git-opencti_report.py', 'DataDog-dd-trace-py.git-function_str.py', 'mher-tornado-celery.git-tornado_ioloop.py', 'spyder-ide-spyder-definition.py', 'autogluon-autogluon-test_scheduler.py', 'viewfinderco-viewfinder.git-fetch_contacts_op0.py', 'vgrem-Office365-REST-Python-Client.git-test_site.py', 'googleads-google-ads-python.git-grpc5.py', 'rytilahti-python-miio-__init__0.py', 'insanum-gcalcli-gcal.py', 'googleads-google-ads-python.git-__init__12.py', 'fluentpython-example-code-2e-typevar_bounded.py', 'googleads-google-ads-python.git-customer_feed_error.py', 'chainer-chainer-test_caffe.py', 'chipsec-chipsec-module.py', 'saltstack-salt-jinja.py', 'django-oscar-django-oscar-views.py', 'great-expectations-great_expectations-warnings.py', 'tensorflow-tensor2tensor-video_generated.py', 'viewfinderco-viewfinder.git-auth_google.py', 'fossasia-open-event-server-command.py', 'huggingface-transformers-modeling_tf_transfo_xl_utilities.py', 'fluentpython-example-code-2e-clockdeco_demo.py', 'openedx-edx-platform-models0.py', 'viewfinderco-viewfinder.git-test.py', 'googleads-googleads-python-lib.git-get_all_custom_fields.py', 'lutris-lutris.git-easyrpg.py', 'statsmodels-statsmodels-test_theta.py', 'fastnlp-fastNLP-seq2seq_generator.py', 'polygon-io-client-python.git-stocks-ws.py', 'alpa-projects-alpa-benchmark_step_func.py', 'tensorforce-tensorforce-custom_env.py', 'hynek-structlog-conf.py', 'pyodide-pyodide-pystone.py', 'viewfinderco-viewfinder.git-update_user_test.py', 'bbfamily-abu-__init__0.py', 'rushter-MLAlgorithms-random_forest.py', 'huggingface-transformers-finetune_trainer.py', 'django-oscar-django-oscar-test_custom_range.py', 'saltstack-salt-test_context.py', 'openedx-edx-platform-utils.py', 'prowler-cloud-prowler-acm_certificates_expiration_check_test.py', 'openedx-edx-platform-segment.py', 'the0demiurge-ShadowSocksShare-parse.py', 'ansible-awx-0031_v330_encrypt_oauth2_secret.py', 'apache-tvm-__init__1.py', 'Supervisor-supervisor-options.py', 'tensorflow-graphics-visual_hull_test.py', 'qiyuangong-leetcode-954_Array_of_Doubled_Pairs.py', 'aws-aws-sam-cli-function.py', 'viewfinderco-viewfinder.git-service0.py', 'Nuitka-Nuitka-LoopSmallRange.py', 'spyder-ide-spyder-test_autopep8_format.py', 'PaddlePaddle-PaddleGAN-builder.py', 'robotframework-robotframework-DynamicKwOnlyArgsWithoutKwargs.py', 'jumpserver-jumpserver-0003_auto_20191210_1659.py', 'mininet-mininet-test_controllers.py', 'bbfamily-abu-ABuWGBSymbol.py', 'viewfinderco-viewfinder.git-concurrent_test.py', 'viewfinderco-viewfinder.git-db_validator.py', 'TheAlgorithms-Python-vigenere_cipher.py', 'edgedb-edgedb-test_constraints.py', 'huggingface-transformers-run_benchmark_tf.py', 'Nuitka-Nuitka-CTypeModuleDictVariables.py', 'mvt-project-mvt-indicators.py', 'jaebradley-draftkings_client.git-fields.py', 'Komodo-KomodoEdit-winapi_common.py', 'ansible-awx-execution_environments.py', 'Nuitka-Nuitka-GettextCommon.py', 'facebookresearch-ParlAI-agents.py', 'Zulko-moviepy-__init__.py', 'googleads-google-ads-python.git-real_time_bidding_setting.py', 'Komodo-KomodoEdit-_base.py', 'great-expectations-great_expectations-in_memory_store_backend.py', 'boston-dynamics-spot-sdk-auth.py', 'facebookresearch-fairscale-sync_batchnorm.py', 'bentoml-BentoML-service_local_runner.py', 'googleapis-google-cloud-python.git-rest.py', 'huggingface-transformers-modeling_roberta_prelayernorm.py', 'aerospike-aerospike-client-python.git-test_batch_operate.py', 'googleapis-google-cloud-python.git-setup.py', 'facebookincubator-AITemplate-compile_vae.py', 'skulpt-skulpt-t471.py', 'viewfinderco-viewfinder.git-base_test.py', 'n1nj4sec-pupy-win32.py', 'metabrainz-picard-genres.py', 'saltstack-salt-test_ssh.py', 'Komodo-KomodoEdit-koAsmLanguage.py', 'saltstack-salt-test_cluster.py', 'django-oscar-django-oscar-0007_conditionaloffer_exclusive.py', 'kubeflow-pipelines-get_proxy_url_test.py', 'aim-uofa-AdelaiDet-setup.py', 'holoviz-panel-layout.py', 'Kaggle-docker-python-test_torchtext.py', 'ridha-soaplib.client-test_client_zeromq.py', 'StackStorm-st2-test_winrm_command_runner.py', 'Tramac-awesome-semantic-segmentation-pytorch-test_model.py', 'jmcnamara-XlsxWriter-test_chart_axis24.py', 'huggingface-transformers-__init__8.py', 'googleads-google-ads-python.git-__init__1.py', 'holoviz-panel-test_reactive.py', 'adap-flower-settings.py', 'jmcnamara-XlsxWriter-workbook.py', 'StackStorm-st2-test_data_flow.py', 'autogluon-autogluon-problem_types.py', 'shapely-shapely-strtree.py', 'speechbrain-speechbrain-bleu.py', 'apache-tvm-model_library_format.py', 'saltstack-salt-sqlcipher.py', 'PaddlePaddle-PaddleDetection-vgg.py', 'joxeankoret-diaphora-webmisc.py', 'kubeflow-pipelines-__init__2.py', 'googleapis-google-cloud-python.git-contentwarehouse_v1_generated_synonym_set_service_update_synonym_set_async.py', 'jumpserver-jumpserver-__init__.py', 'facebookresearch-ParlAI-logging.py', 'googleads-google-ads-python.git-add_app_campaign.py', 'openedx-edx-platform-test_migrate_saml_uids.py', 'skulpt-skulpt-t461.py', 'tensorflow-tensor2tensor-savp_test.py', 'tensorflow-tensor2tensor-hparams_lib.py', 'nats-io-nats.py.git-__main__.py', 'a10networks-acos-client.git-t.py', 'StackStorm-st2-test_paramiko_script_action_model.py', 'googleads-google-ads-python.git-client4.py', 'ansible-awx-roles.py', 'Sage-Bionetworks-synapsePythonClient.git-unit_test_synapseutils_copy.py', 'statsmodels-statsmodels-ex_extras.py', 'FMInference-FlexGen-dummy_sentencepiece_and_speech_objects.py', 'chainer-chainer-test_optimizers_by_linear_model.py', 'holoviz-panel-speech_to_text.py', 'statsmodels-statsmodels-data.py', 'googleapis-google-cloud-python.git-vmwareengine_v1_generated_vmware_engine_list_private_clouds_async.py', 'nv-tlabs-GET3D-grid_sample_gradfix.py', 'hazelcast-hazelcast-python-client.git-map_remove_codec.py', 'jmcnamara-XlsxWriter-test_autofilter00.py', 'viewfinderco-viewfinder.git-user_post0.py', 'FMInference-FlexGen-convert_gpt_neo_mesh_tf_to_pytorch.py', 'rootm0s-WinPwnage-scanner.py', 'vgrem-Office365-REST-Python-Client.git-bucket.py', 'strawberry-graphql-strawberry-mutation.py', 'tamarott-SinGAN-editing.py', 'tableau-server-client-python.git-fileuploads_endpoint.py', 'facebookresearch-fairscale-pygit.py', 'apache-tvm-test_external_codegen.py', 'ifzhang-ByteTrack-transforms.py', 'googleads-google-ads-python.git-update_ad_group.py', 'jmcnamara-XlsxWriter-chart_stock.py', 'picklepete-pyicloud-__init__.py', 'pennersr-django-allauth-urls.py', 'gd3kr-BlenderGPT-validators.py', 'RobertCraigie-prisma-client-py.git-test_string.py', 'jmcnamara-XlsxWriter-test_data_bar10.py', 'google-research-scenic-bert_wnli_config.py', 'ploomber-ploomber-pythoncallablesource.py', 'dpkp-kafka-python-selectors34.py', 'openedx-edx-platform-duedate.py', 'ludwig-ai-ludwig-test_topk.py', 'viewfinderco-viewfinder.git-remove_photos_test0.py', 'adap-flower-server.py', 'saltstack-salt-__init__3.py', 'dabeaz-course-practical-python-fileparse.py', 'facebookincubator-AITemplate-slice_reshape_scatter.py', 'viewfinderco-viewfinder.git-analyze_merged_logs.py', 'apache-tvm-test_partition.py', 'viewfinderco-viewfinder.git-template0.py', 'saltstack-salt-sodium_grabber_installer.py', 'a10networks-acos-client.git-port.py', 'kootenpv-whereami-__init__.py', 'microsoft-MMdnn-tensorflow_parser.py', 'viewfinderco-viewfinder.git-versioning_test.py', 'python-trio-hip-test_no_ssl.py', 'huggingface-transformers-configuration_maskformer.py', 'Bitmessage-PyBitmessage.git-test_arithmetic.py', 'viewfinderco-viewfinder.git-id_allocator0.py', 'skulpt-skulpt-__init__.py', 'viewfinderco-viewfinder.git-posix.py', 'ansible-awx-check_migrations.py', 'rlcode-reinforcement-learning-cartpole_a3c.py', 'apache-tvm-__init__5.py', 'LAION-AI-Open-Assistant-2023_02_15_1754-8cd0c34d0c3c_message_review_result_nullable.py', 'joxeankoret-diaphora-yang.py', 'tianzhi0549-FCOS-bbox_aug.py', 'robotframework-robotframework-original_and_resolved_name_v2.py', 'vgrem-Office365-REST-Python-Client.git-hash_tag.py', 'MTrajK-coding-problems-longest_common_substring.py', 'confluentinc-confluent-kafka-python-cached_schema_registry_client.py', 'FMInference-FlexGen-image_segmentation.py', 'jumpserver-jumpserver-0015_auto_20221011_1745.py', 'matrix-org-synapse-test_endpoint.py', 'Komodo-KomodoEdit-set-curr-python.py', 'iperov-DeepFaceLive-QButtonCSWDynamicSingleSwitch.py', 'VitaliyRodnenko-geeknote.git-geeknote.py', 'aim-uofa-AdelaiDet-basis_module.py', 'nltk-nltk-prettyprinter.py', 'openedx-edx-platform-mixed.py', 'matrix-org-synapse-test_well_known.py', 'viewfinderco-viewfinder.git-contact_test.py', 'robotframework-robotframework-variables_in_pythonpath_2.py', 'ocrmypdf-OCRmyPDF-test_page_numbers.py', 'smart-on-fhir-client-py.git-marketingstatus.py', 'aws-aws-sam-cli-utils.py', 'aio-libs-aiohttp.git-http_writer.py', 'gd3kr-BlenderGPT-__init__.py', 'ansible-awx-test_host_filter.py', 'openstack-nova-test_vzstorage.py', 'viewfinderco-viewfinder.git-service_handler_test.py', 'Katello-katello-client-bootstrap.git-setup.py', 'FMInference-FlexGen-inject.py', 'kserve-kserve-test_autoscaling.py', 'docusign-docusign-esign-python-client.git-template_notification_request.py', 'Visualize-ML-Book3_Elements-of-Mathematics-Bk3_Ch4_07.py', 'googleads-google-ads-python.git-change_status_operation.py', 'ansible-awx-tasks.py', 'QQuick-Transcrypt-test_return_with_arguments_inside_generator.py', 'jumpserver-jumpserver-base.py', 'saltstack-salt-guestfs.py', 'Komodo-KomodoEdit-packet.py', 'great-expectations-great_expectations-expect_column_values_url_has_got_valid_cert.py', 'martomo-SublimeTextXdebug.git-session.py', 'saltstack-salt-sdb.py', 'Nuitka-Nuitka-__init__0.py', 'cuemacro-finmarketpy-fx_forwards_pricing_examples.py', 'django-oscar-django-oscar-admin.py', 'geventhttpclient-geventhttpclient-test_network_failures.py', 'ZiniuLu-Python-100-Days-tests.py', 'googleapis-google-cloud-python.git-user_event.py', 'PyGithub-PyGithub-CheckRun.py', 'kubernetes-client-python.git-v1_grpc_action.py', 'FMInference-FlexGen-modeling_tf_transfo_xl_utilities.py', 'openedx-edx-platform-forms.py', 'PyMySQL-PyMySQL.git-protocol.py', 'zhzyker-vulmap-enums.py', 'vgrem-Office365-REST-Python-Client.git-subweb_query.py', 'ncclient-ncclient.git-test_utils.py', 'Komodo-KomodoEdit-selftest.py', 'FMInference-FlexGen-test_tokenization_wav2vec2_phoneme.py', 'StellarCN-py-stellar-base.git-auth.py', 'explosion-spaCy-test_entity_linker.py', 'facebookincubator-AITemplate-test_strided_split_group_gemm.py', 'googleads-google-ads-python.git-__init__5.py', 'influxdata-influxdb-client-python.git-extras.py', 'statsmodels-statsmodels-results_var_data.py', 'aosp-mirror-platform_development-chewie.py', 'saltstack-salt-zfs.py', 'viewfinderco-viewfinder.git-indexers.py', 'viewfinderco-viewfinder.git-friend_test0.py', 'jumpserver-jumpserver-manager0.py', 'WithSecureLabs-drozer-sequencer.py', 'rembo10-headphones-covercp.py', 'viewfinderco-viewfinder.git-build_archive_test.py', 'viewfinderco-viewfinder.git-user_test.py', 'jmcnamara-XlsxWriter-test_format13.py', 'skulpt-skulpt-sanangeles.py', 'benoitc-gunicorn.git-011.py', 'viewfinderco-viewfinder.git-setup0.py', 'hazelcast-hazelcast-python-client.git-map_portable_query_example.py', 'mikedh-trimesh-lighting.py', 'viewfinderco-viewfinder.git-notification1.py', 'facebookresearch-mmf-test_lr_schedule.py', 'django-oscar-django-oscar-utils.py', 'iperov-DeepFaceLive-QXScrollArea.py', 'prowler-cloud-prowler-rds_instance_no_public_access.py', 'sdispater-pendulum-test_fr.py', 'joxeankoret-diaphora-haxe.py', 'fluentpython-example-code-2e-vector2d_v5_test.py', 'SpiderClub-weibospider-login.py', 'ansible-awx-dag_workflow.py', 'django-webpack-django-webpack-loader-loader.py', 'NAStool-nas-tools-media.py', 'deepmind-dm_control-rewards.py', 'appium-python-client.git-touch_action_tests.py', 'nate-parrott-Flashlight-jpcntx.py', 'tamarott-SinGAN-SR.py', 'googleads-google-ads-python.git-campaign_shared_set.py', 'facebookresearch-XLM-loader.py', 'TheAlgorithms-Python-scoring_functions.py', 'websocket-client-websocket-client-echoapp_client.py', 'trinodb-trino-python-client.git-compiler.py', 'MTrajK-coding-problems-populating_next_pointers_tree.py', 'jumpserver-jumpserver-api_urls.py', 'googleads-google-ads-python.git-client0.py', 'chainer-chainer-test_local_response_normalization.py', 'prowler-cloud-prowler-ec2_ebs_public_snapshot.py', 'lutris-lutris.git-update_cache.py', 'django-oscar-django-oscar-__init__0.py', 'Komodo-KomodoEdit-test_nt.py', 'spotify-luigi-external_daily_snapshot.py', 'viewfinderco-viewfinder.git-auth_test.py', 'nate-parrott-Flashlight-compiler.py', 'aerospike-aerospike-client-python.git-put.py', 'bentoml-BentoML-utils.py', 'googleapis-google-cloud-python.git-contentwarehouse_v1_generated_rule_set_service_delete_rule_set_sync.py', 'viewfinderco-viewfinder.git-user_photo_test.py', 'apache-tvm-test_pass_dead_code_elimination.py', 'nate-parrott-Flashlight-plugin0.py', 'andelf-tronpy.git-async_http.py', 'UKPLab-sentence-transformers-train_cross-encoder_scratch.py', 'microsoft-DeepSpeed-basic_layer.py', 'apache-tvm-test_tir_texture_scope.py', 'rembo10-headphones-request.py', 'TheAlgorithms-Python-local_weighted_learning.py', 'jumpserver-jumpserver-manager.py', 'saltstack-salt-test_boto_vpc.py', 'nvbn-everpad.git-tools.py', 'matrix-org-synapse-03bg_populate_events_columns.py', 'explosion-spaCy-test_text.py', 'mwouts-jupytext-test_pre_commit_0_ipynb_to_py.py', 'Nuitka-Nuitka-_identifier.py', 'hvac-hvac.git-kv.py', 'jumpserver-jumpserver-0033_auto_20221220_1956.py', 'yihong0618-bilingual_book_maker-base_loader.py', 'ConsenSys-mythril-asm.py', 'fossasia-open-event-server-rev-2019-08-17-16:59:44-90d62fe3b5e3_change_pending_invoices.py', 'AirtestProject-Airtest-screen.py', 'apache-tvm-github_skipped_tests_comment.py', 'okfn-brasil-serenata-de-amor-adapter.py', 'tensorflow-graphics-trilinear_test.py', 'skulpt-skulpt-posixpath.py', 'aws-aws-sam-cli-main.py', 'viewfinderco-viewfinder.git-remove_photos_test.py', 'robotframework-robotframework-test_logger.py', 'viewfinderco-viewfinder.git-local_client0.py', 'zulip-zulip-terminal.git-lister.py', 'viewfinderco-viewfinder.git-get_calendar_test.py', 'FMInference-FlexGen-pt_to_tf.py', 'viewfinderco-viewfinder.git-web_test0.py', 'Nuitka-Nuitka-pystone3.py', 'saltstack-salt-test_hg.py', 'PyGithub-PyGithub-CommitCombinedStatus.py', 'googleapis-google-cloud-python.git-__init__0.py', 'viewfinderco-viewfinder.git-server0.py', 'openedx-edx-platform-base.py', 'viewfinderco-viewfinder.git-fetch_contacts_op.py', 'FMInference-FlexGen-csv_monitor.py', 'matrix-org-synapse-test_user_directory.py', 'yutiansut-QUANTAXIS-trans_ss.py', 'viewfinderco-viewfinder.git-rename_photo_assets.py', 'buckyroberts-Source-Code-from-Tutorials-12_python.py', 'alpa-projects-alpa-benchmark_gpt_bert.py', 'ConsenSys-mythril-shr_test.py', 'viewfinderco-viewfinder.git-remove_followers_test0.py', 'csujedihy-lc-all-solutions-the-skyline-problem.py', 'n1nj4sec-pupy-lsadump.py', 'deepmind-dm_control-datasets.py', 'vgrem-Office365-REST-Python-Client.git-user_posts.py', 'activeloopai-deeplake-partial_reader.py', 'grafana-oncall-phone_call_templater.py', 'StackStorm-st2-api.py', 'FMInference-FlexGen-__init__12.py', 'taxigps-xbmc-addons-chinese-data_collector.py', 'StellarCN-py-stellar-base.git-liquidity_pool_deposit_result.py', 'apache-tvm-__init__4.py', 'viewfinderco-viewfinder.git-assets-tool0.py', 'pypi-warehouse-fncache.py', 'zhzyker-vulmap-Ecology.py', 'googleads-google-ads-python.git-budget_period.py', 'viewfinderco-viewfinder.git-server_log_test0.py', 'chainer-chainer-pure_nccl_communicator.py', 'PyCQA-bandit-mark_safe_secure.py', 'FMInference-FlexGen-__init__8.py', 'huggingface-transformers-test_modeling_tf_mobilebert.py', 'explosion-spaCy-examples0.py', 'neptune-ai-neptune-client.git-utils.py', 'spotify-luigi-terasort.py', 'openedx-edx-platform-0004_add_email_targets.py', 'openapi-generators-openapi-python-client.git-http_validation_error.py', 'apache-tvm-test_meta_schedule_postproc_rewrite_reduction_block.py', 'chainer-chainer-timer.py', 'Flagsmith-flagsmith-serializers.py', 'mvt-project-mvt-dumpsys_activities.py', 'viewfinderco-viewfinder.git-terminate_tool_test.py', 'openstack-nova-test_policy.py', 'viewfinderco-viewfinder.git-local_client.py', 'rlcode-reinforcement-learning-mountaincar_dqn.py', 'psf-requests-auth.py', 'celery-celery-beat.py', 'pyodide-pyodide-test_yarl.py', 'aws-aws-sam-cli-app.py', 'ZiniuLu-Python-100-Days-items.py', 'skulpt-skulpt-test_unichr.py', 'viewfinderco-viewfinder.git-add_followers_op.py', 'doccano-doccano-views.py', 'thu-ml-tianshou-setup.py', 'activeloopai-deeplake-from_tfds.py', 'okfn-brasil-serenata-de-amor-test_adapter.py', 'viewfinderco-viewfinder.git-async_s3_test.py', 'dmlc-dgl-4_rgcn.py', 'openedx-edx-platform-test_bulk_user_org_email_optout.py', 'viewfinderco-viewfinder.git-windows.py', 'apache-tvm-test_benchmark_gemm.py', 'euske-pdfminer-dumppdf.py', 'Nuitka-Nuitka-__init__1.py', 'schematics-schematics-union.py', 'binux-pyspider-test_base_handler.py', 'Komodo-KomodoEdit-Makefile.py', 'python-trio-hip-test_filepost.py', 'aws-aws-sam-cli-test_command.py', 'apache-tvm-github_cc_reviewers.py', 'great-expectations-great_expectations-__init__4.py', 'jupyter-docker-stacks-get_taggers_and_manifests.py', 'kinnay-NintendoClients.git-test_dragons.py', 'Flagsmith-flagsmith-admin.py', 'readthedocs-readthedocs.org-forms.py', 'vgrem-Office365-REST-Python-Client.git-utility.py', 'insanum-gcalcli-printer.py', 'Sage-Bionetworks-synapsePythonClient.git-exceptions.py', 'googleads-google-ads-python.git-__init__4.py', 'FMInference-FlexGen-scheduler.py', 'Nuitka-Nuitka-SConscript.py', 'viewfinderco-viewfinder.git-viewpoint_lock_tracker2.py', 'Tencent-tencent-ml-images-tfrecord.py', 'kubernetes-client-python.git-v1_custom_resource_definition_list.py', 'kubeflow-pipelines-test_v2beta1_experiment.py', 'ZiniuLu-Python-100-Days-for2.py', 'Nuitka-Nuitka-os2.py', 'viewfinderco-viewfinder.git-friend_test1.py', 'catalyst-team-catalyst-dataset_cv.py', 'dmlc-gluon-cv-dataset_pre_processor.py', 'viewfinderco-viewfinder.git-sms_util.py', 'skulpt-skulpt-t500.py', 'boston-dynamics-spot-sdk-identify_object.py', 'mne-tools-mne-python-50_artifact_correction_ssp.py', 'basho-riak-python-client.git-test_misc.py', 'ohld-igbot-follow_requests.py', 'PaddlePaddle-PARL-cartpole_model.py', 'viewfinderco-viewfinder.git-resources_mgr.py', 'strawberry-graphql-strawberry-missing_return_annotation.py', 'pimutils-khal-canvas_render.py', 'Nuitka-Nuitka-wax_off.py', 'viewfinderco-viewfinder.git-notification0.py', 'OctoPrint-OctoPrint-test_events.py', 'tensorflow-graphics-emission_absorption_test.py', 'buckyroberts-Source-Code-from-Tutorials-74_PythonGameDevelopment.py', 'gevent-gevent-test_ssl.py', 'googleads-google-ads-python.git-campaign_primary_status.py', 'EpistasisLab-tpot-__init__.py', 'tensorflow-tensor2tensor-gym_spaces_utils_test.py', 'paulmakepeace-refine-client-py.git-setup.py', 'Komodo-KomodoEdit-example2rst.py', 'googleads-google-ads-python.git-client1.py', 'fossasia-open-event-server-event_type.py', 'thumbor-thumbor-__init__.py', 'aio-libs-aiohttp.git-pytest_plugin.py', 'docopt-docopt-git_checkout.py', 'gevent-gevent-_addresses.py', 'activeloopai-deeplake-info.py', 'StellarCN-py-stellar-base.git-string32.py', 'huggingface-transformers-modeling_mobilebert.py', 'microsoft-DeepSpeed-sparse_self_attention.py', 'yutiansut-QUANTAXIS-test_ckread_qifi.py', 'viewfinderco-viewfinder.git-template.py', 'dmlc-gluon-cv-__init__.py', 'mikf-gallery-dl-vanillarock.py', 'FMInference-FlexGen-test_moe_res_matmult.py', 'Kozea-WeasyPrint-line_break.py', 'jmcnamara-XlsxWriter-test_initialisation0.py', 'nate-parrott-Flashlight-plugin1.py', 'openedx-edx-platform-urls.py', 'matrix-org-synapse-room_list.py', 'autogluon-autogluon-test_setup_outputdir.py', 'vgrem-Office365-REST-Python-Client.git-securable_object.py', 'falconry-falcon-test_options.py', 'viewfinderco-viewfinder.git-update_friend_test.py', 'shapely-shapely-test_hash.py', 'maurosoria-dirsearch-data.py', 'viewfinderco-viewfinder.git-fetch_logs_test0.py', 'viewfinderco-viewfinder.git-photo_store.py', 'readthedocs-readthedocs.org-0033_add_environment_variables.py', 'google-research-scenic-zero_shot_classification_trainer.py', 'Nuitka-Nuitka-Some_Module.py', 'dmlc-dgl-graph_services.py', 'viewfinderco-viewfinder.git-register_user_op.py', 'apache-tvm-unique0.py', 'saltstack-salt-test_archive.py', 'edgedb-edgedb-typeutils.py', 'huggingface-transformers-test_modeling_sew_d.py', 'FMInference-FlexGen-distributed_ray_retriever.py', 'FMInference-FlexGen-run_image_classification.py', 'jeanphix-Ghost-conf.py', 'apache-tvm-unique.py', 'viewfinderco-viewfinder.git-friend_test.py', 'lanpa-tensorboardX-types_pb2.py', 'kubernetes-client-python.git-v1beta2_priority_level_configuration_status.py', 'nsqio-pynsq.git-__init__.py', 'encode-httpcore-__init__.py', 'matrix-org-synapse-test_account.py', 'docusign-docusign-esign-python-client.git-signature_user.py', 'crossbario-autobahn-python-setup.py', 'apache-tvm-pytorch.py', 'viewfinderco-viewfinder.git-hash_base.py', 'n1nj4sec-pupy-handlers.py', 'apache-tvm-reorg.py', 'QQuick-Transcrypt-test0.py', 'hvac-hvac.git-adapters.py', 'nryoung-algorithms-binary_search_tree.py', 'viewfinderco-viewfinder.git-episode_test.py', 'huggingface-transformers-modeling_blip_text.py', 'viewfinderco-viewfinder.git-server1.py', 'googleads-googleads-python-lib.git-get_marketplace_comments.py', 'ludwig-ai-ludwig-base.py', 'googleapis-google-cloud-python.git-addressvalidation_v1_generated_address_validation_provide_validation_feedback_sync.py', 'Tribler-tribler.git-path_util.py', 'PaddlePaddle-PARL-cluster_notebook_test.py', 'pypi-warehouse-test_basic.py', 'microsoft-hummingbird-run.py', 'saltstack-salt-test_onfail.py', 'apache-tvm-utils.py', 'aws-aws-sam-cli-test_cli.py', 'mininet-mininet-clusterdemo.py', 'TheAlgorithms-Python-catalan_number.py', 'speechbrain-speechbrain-prepare_data.py', 'PaddlePaddle-PaddleDetection-slice_image.py', 'rembo10-headphones-asyncio.py', 'spyder-ide-spyder-interpreter.py', 'thu-ml-tianshou-test_iqn.py', 'deepmind-dm_control-variation_test.py', 'vgrem-Office365-REST-Python-Client.git-field.py', 'saltstack-salt-cloud_test_base.py', 'viewfinderco-viewfinder.git-photo0.py', 'EssayKillerBrain-WriteGPT-optimization_openai.py', 'HazyResearch-flash-attention-linear.py', 'aploium-zmirror-win32.py', 'neptune-ai-neptune-client.git-comm.py', 'TheAlgorithms-Python-combination_sum_iv.py', 'apache-tvm-test_rpc_proxy_server.py', 'Anaconda-Platform-anaconda-client.git-uploader.py', 'dmlc-dgl-__init__.py', 'apache-tvm-test_tir_op_types.py', 'openedx-edx-platform-models1.py', 'qiyuangong-leetcode-152_Maximum_Product_Subarray.py', 'jmcnamara-XlsxWriter-test_autofit02.py', 'smart-on-fhir-client-py.git-researchdefinition_tests.py', 'viewfinderco-viewfinder.git-versioning_test0.py', 'FMInference-FlexGen-tokenization_layoutlmv2_fast.py', 'tianzhi0549-FCOS-balanced_positive_negative_sampler.py', 'rembo10-headphones-core.py', 'viewfinderco-viewfinder.git-www_main.py', 'great-expectations-great_expectations-expect_column_values_to_be_valid_new_mexico_zip.py', 'maurosoria-dirsearch-base.py', 'openstack-nova-test_instance.py', 'viewfinderco-viewfinder.git-resources_mgr0.py', 'hazelcast-hazelcast-python-client.git-cp_session_close_session_codec.py', 'Bitmessage-PyBitmessage.git-helper_search.py', 'smallcorgi-Faster-RCNN_TF-proposal_target_layer_tf.py', 'matrix-org-synapse-test_consent.py', 'tiangolo-sqlmodel-tutorial002.py', 'CyberZHG-keras-bert-vis.py', 'doccano-doccano-0001_initial.py', 'fossasia-open-event-server-order.py', 'cobrateam-splinter-__init__0.py', 'tinyvision-DAMO-YOLO-checkpoint.py', 'DingXiaoH-RepVGG-cutout.py', 'saltstack-salt-jid.py', 'lbryio-lbry-sdk-test_peer.py', 'deepmind-dm_control-scaled_actuators.py', 'vgrem-Office365-REST-Python-Client.git-conversation_collection.py', 'viewfinderco-viewfinder.git-log_merger_test.py', 'hhyo-Archery-data_masking.py', 'fluentpython-example-code-2e-vector2d_v4.py', 'prowler-cloud-prowler-eks_control_plane_endpoint_access_restricted_test.py', 'bbfamily-abu-__init__.py', 'viewfinderco-viewfinder.git-httpserver.py', 'megadose-holehe-hubspot.py', 'StackStorm-st2-rules_test.py', 'googleads-google-ads-python.git-distance_bucket.py', 'MasoniteFramework-masonite-PresetCommand.py', 'viewfinderco-viewfinder.git-update_episode_test.py', 'googleads-google-ads-python.git-add_logical_user_list.py', 'tschellenbach-Stream-Framework-simple_timeline_serializer.py', 'robotframework-robotframework-configurer.py', 'holoviz-panel-test_echart.py', 'holoviz-panel-test_convert.py', 'mapillary-OpenSfM-synthetic_examples.py', 'facebookresearch-mmf-early_stopping.py', 'statsmodels-statsmodels-ex_mixed_lls_re.py', 'dmlc-dgl-bench_sage_ns.py', 'mne-tools-mne-python-test_chpi.py', 'openedx-edx-platform-0002_group_permissions.py', 'viewfinderco-viewfinder.git-curl_httpclient_test.py', 'tensorforce-tensorforce-tensors_spec.py', 'dmlc-gluon-cv-setup.py', 'aws-aws-sam-cli-sam_cli_warning.py', 'great-expectations-great_expectations-instantiate_context_with_usage_statistics.py', 'ludwig-ai-ludwig-base0.py', 'ansible-awx-fields.py', 'edgedb-edgedb-test_edgeql_update.py', 'facebookincubator-AITemplate-topk.py', 'mapillary-OpenSfM-reconstruct_from_prior.py', 'yihong0618-bilingual_book_maker-gpt3_translator.py', 'michael-lazar-rtv-test_inbox.py', 'facebookresearch-mmf-logger.py', 'openstack-nova-guestfs.py', 'viewfinderco-viewfinder.git-call_http_service.py', 'Komodo-KomodoEdit-tmCmd.py', 'StellarCN-py-stellar-base.git-ledger_key_trust_line.py', 'great-expectations-great_expectations-__init__0.py', 'catalyst-team-catalyst-regression.py', 'great-expectations-great_expectations-conftest.py', 'gd3kr-BlenderGPT-__init__0.py', 'viewfinderco-viewfinder.git-email_marketing.py', 'PyCQA-isort-py36.py', 'googleads-google-ads-python.git-__init__0.py', 'autogluon-autogluon-abstract_trainer.py', 'mikf-gallery-dl-reddit.py', 'saltstack-salt-temp.py', 'Kozea-WeasyPrint-float.py', 'erikbern-git-of-theseus-setup.py', 'PaddlePaddle-PaddleGAN-realsr_predictor.py', 'schematics-schematics-test_validation.py', 'YoRyan-nuxhash.git-daemon.py', 'facebookresearch-ParlAI-test_dict.py', 'jupyter-jupyter_client.git-manager.py', 'cloudmesh-client.git-conf.py', 'kubeflow-pipelines-__init__3.py', 'kubeflow-pipelines-__init__.py', 'FMInference-FlexGen-mappings.py', 'viewfinderco-viewfinder.git-generate-manifest.py', 'tableau-server-client-python.git-target.py', 'bbfamily-abu-ABuMd5.py', 'jofpin-trape-ansi.py', 'dashingsoft-pyarmor-conf.py', 'deepmind-sonnet-setup.py', 'aws-aws-sam-cli-options.py', 'ansible-awx-0100_v370_projectupdate_job_tags.py', 'tiangolo-sqlmodel-test_tutorial001_tests004.py', 'redis-redis-py.git-base.py', 'redis-redis-py.git-test_retry.py', 'openedx-edx-platform-0008_add_ended_programenrollment_status.py', 'saltstack-salt-test_smf_service.py', 'pyodide-pyodide-__init__.py', 'django-oscar-django-oscar-0005_regenerate_user_address_hashes.py', 'aws-aws-sam-cli-test_observability_info_puller.py', 'Flagsmith-flagsmith-serializers0.py', 'pybrain-pybrain-simpleracetcp.py', 'EssayKillerBrain-WriteGPT-rnn.py', 'huggingface-transformers-tokenization_convbert_fast.py', 'vaexio-vaex-vector3d.py', 'great-expectations-great_expectations-test_expect_column_max_to_be_between.py', 'viewfinderco-viewfinder.git-user_post1.py', 'googleads-google-ads-python.git-distance_bucket0.py', 'benoitc-gunicorn.git-004.py', 'polygon-io-client-python.git-stocks-ticker_types.py', 'qiyuangong-leetcode-283_Move Zeroes.py', 'zju3dv-EasyMocap-colmap_structure.py', 'dpkp-kafka-python.git-service.py', 'mne-tools-mne-python-test_gui_api.py', 'jessevig-bertviz-neuron_view.py', 'tensorflow-tensor2tensor-inspect_tfrecord.py', 'the-paperless-project-paperless-customisation.py', 'openedx-edx-platform-serializers.py', 'LonamiWebs-Telethon-__init__0.py', 'buckyroberts-Source-Code-from-Tutorials-16_PythonGameDevelopment.py', 'kubernetes-client-python.git-apiextensions_v1_service_reference.py', 'Visualize-ML-Book3_Elements-of-Mathematics-Bk3_Ch25_1.py', 'dmlc-dgl-gen_dataset_stat.py', 'KoboldAI-KoboldAI-Client.git-logger.py', 'lutris-lutris.git-script_box.py', 'facebookresearch-mmf-__init__.py', 'borgbackup-borg-time.py', 'neptune-ai-neptune-client.git-run.py', 'Bitmessage-PyBitmessage.git-inbox.py', 'pybrain-pybrain-multiline.py', 'viewfinderco-viewfinder.git-statistics0.py', 'strawberry-graphql-strawberry-utils.py', 'FAForever-client.git-test_player_game.py', 'openedx-edx-platform-__init__8.py', 'thearn-webcam-pulse-detector-get_pulse.py', 'buildbot-buildbot-tryclient.py', 'prowler-cloud-prowler-storage_secure_transfer_required_is_enabled.py', 'viewfinderco-viewfinder.git-testing.py', 'RasaHQ-rasa-test_loops.py', 'mwouts-jupytext-test_pre_commit_mode.py', 'ansible-awx-reload.py', 'viewfinderco-viewfinder.git-server_log_metrics.py', 'DataDog-dd-trace-py.git-utils.py', 'encode-django-rest-framework-models.py', 'FMInference-FlexGen-modeling_lxmert.py', 'UKPLab-sentence-transformers-train_ct-improved_from_file.py', 'ktbyers-netmiko-term_server.py', 'StackStorm-st2-test_wiring_rerun.py', 'vaexio-vaex-performance_test.py', 'googleads-google-ads-python.git-hotel_asset_suggestion_status.py', 'MVIG-SJTU-AlphaPose-webcam_detector.py', 'TheAlgorithms-Python-max_difference_pair.py', 'viewfinderco-viewfinder.git-store_utils.py', 'okfn-brasil-serenata-de-amor-urls.py', 'RasaHQ-rasa-actions.py']\n"
          ]
        }
      ],
      "source": [
        "print(dataframe[\"file_name\"].tolist())"
      ]
    },
    {
      "cell_type": "code",
      "execution_count": null,
      "metadata": {
        "colab": {
          "base_uri": "https://localhost:8080/"
        },
        "id": "D8iREKz2UQDr",
        "outputId": "ff0ac99c-0448-4310-ffaf-757118bcdd4d"
      },
      "outputs": [
        {
          "output_type": "stream",
          "name": "stdout",
          "text": [
            "921\n"
          ]
        },
        {
          "output_type": "execute_result",
          "data": {
            "text/plain": [
              "18.625"
            ]
          },
          "metadata": {},
          "execution_count": 10
        }
      ],
      "source": [
        " max_size = max([len(texts) for texts in texts_list])\n",
        " print(max_size)\n",
        "import statistics\n",
        "statistics.mean([len(texts) for texts in texts_list])"
      ]
    },
    {
      "cell_type": "code",
      "execution_count": null,
      "metadata": {
        "colab": {
          "base_uri": "https://localhost:8080/"
        },
        "id": "NORMCspfZ9P6",
        "outputId": "c0d2d2a4-8c6d-436a-9b88-891f25037632"
      },
      "outputs": [
        {
          "name": "stdout",
          "output_type": "stream",
          "text": [
            "26\n",
            "26\n",
            "[2, 1, 1, 2, 3, 2, 1, 2, 2, 2, 2, 2, 2, 1, 1, 1, 3, 1, 2, 3, 2, 2, 2, 2, 1, 2]\n"
          ]
        }
      ],
      "source": [
        "# sample data\n",
        "texts_list = [\n",
        "    [\"os.system\", \"requests.get\"],\n",
        "    [\"requests.get\"],\n",
        "    [\"json.loads\"],\n",
        "    [\"file.open\", \"os.path\"],\n",
        "    [\"requests.get\", \"file.open\", \"exec\"],\n",
        "    [\"token\", \"json.loads\"],\n",
        "    [\"network.connect\"],\n",
        "    [\"network.connect\", \"os.system\"],\n",
        "    [\"sentence\", \"read\"],\n",
        "    [\"client.get\", \"file.save\"],\n",
        "    [\"connection.open\", \"connection.close\"],\n",
        "    [\"datetime.now\", \"request.get\"],\n",
        "    [\"base64.decode\", \"exec\"],\n",
        "    [\"base64.decode\"],\n",
        "    [\"re.match\"],\n",
        "    [\"random.choices\"],\n",
        "    [\"base64.decode\", \"file.open\", \"requests.get\"],\n",
        "    [\"exec\"],\n",
        "    [\"exec\", \"base64.decode\"],\n",
        "    [\"requests.post\", \"response.json\", \"response.status_code\"],\n",
        "    [\"connection.open\", \"exec\"],\n",
        "    [\"urllib.request.urlopen\", \"eval\"],\n",
        "    [\"http.client.HTTPConnection\", \"conn\"],\n",
        "    [\"http.client.HTTPConnection\", \"os.system\"],\n",
        "    [\"subprocess.run\"],\n",
        "    [\"subprocess.run\", \"requests.get\"],\n",
        "  ]\n",
        "labels = [1, 0, 0, 0, 1, 0, 0, 1, 0, 0, 0, 0, 1, 0, 0, 0, 1, 1, 1, 0, 1, 1, 0, 1, 1, 1]\n",
        "print(len(texts_list))\n",
        "print(len(labels))\n",
        "print([len(texts) for texts in texts_list])"
      ]
    },
    {
      "cell_type": "code",
      "execution_count": null,
      "metadata": {
        "id": "hFcThpoTeqiG"
      },
      "outputs": [],
      "source": [
        "import numpy as np\n",
        "# save\n",
        "def save_vectors(text_vectors, file_name=\"vector_source_code_learn.npy\"):\n",
        "    vectors_array = np.array(text_vectors)\n",
        "    np.save(os.path.join(PATH_MYDRIVE, file_name), vectors_array)\n",
        "\n",
        "# # load\n",
        "def load_vectors(file_name=\"vector_source_code_learn.npy\"):\n",
        "    return np.load(os.path.join(PATH_MYDRIVE, file_name))"
      ]
    },
    {
      "cell_type": "code",
      "source": [
        "text_vectors = texts_to_concat_vectors(texts_list, 256)"
      ],
      "metadata": {
        "colab": {
          "base_uri": "https://localhost:8080/"
        },
        "id": "ra81HYcavAUe",
        "outputId": "0d26aa72-faed-4966-ab90-4acc81d5683b"
      },
      "execution_count": null,
      "outputs": [
        {
          "output_type": "stream",
          "name": "stdout",
          "text": [
            "0\n",
            "0\n",
            "20\n",
            "40\n",
            "60\n",
            "80\n",
            "100\n",
            "200\n",
            "300\n",
            "400\n",
            "500\n",
            "600\n",
            "700\n",
            "800\n",
            "900\n",
            "1000\n",
            "1100\n",
            "1200\n",
            "1300\n",
            "1400\n",
            "1500\n",
            "1600\n",
            "1700\n",
            "1800\n",
            "1900\n",
            "2000\n",
            "2100\n",
            "2200\n",
            "2300\n",
            "2400\n",
            "2500\n",
            "2600\n",
            "2700\n",
            "2800\n",
            "2900\n",
            "3000\n",
            "3100\n",
            "3200\n",
            "3300\n"
          ]
        }
      ]
    },
    {
      "cell_type": "code",
      "source": [
        "save_vectors(text_vectors, file_name=\"dataset/dataset_bytecode.npy\")"
      ],
      "metadata": {
        "id": "IMwkOj9ivKG1"
      },
      "execution_count": null,
      "outputs": []
    },
    {
      "cell_type": "code",
      "execution_count": null,
      "metadata": {
        "id": "kcmfo8b1aA2H"
      },
      "outputs": [],
      "source": [
        "# save_vectors(text_vectors, file_name=\"vector_source_code_learn.npy\")\n",
        "text_vectors = load_vectors(file_name='dataset/vector_source_code_learn.npy')\n",
        "# text_vectors = load_vectors(file_name='vectors_learn_v2.npy')\n",
        "# X_train, X_test, y_train, y_test, train_indices, test_indices = train_test_split(text_vectors, labels, range(len(texts_list)), test_size=0.3, random_state=42)\n",
        "indices = np.array(range(len(text_vectors)))\n",
        "# データを分割（インデックスも一緒に分割）\n",
        "X_train, X_test, y_train, y_test, idx_train, idx_test = train_test_split(text_vectors, labels, indices, test_size=0.2, random_state=42)\n",
        "\n",
        "# train_texts = [texts_list[i] for i in train_indices]\n",
        "# test_texts = [texts_list[i] for i in test_indices]\n",
        "# print(train_texts)\n",
        "# print(test_texts)\n",
        "# print(idx_test)"
      ]
    },
    {
      "cell_type": "code",
      "execution_count": null,
      "metadata": {
        "id": "xkp55FaG0lVw"
      },
      "outputs": [],
      "source": [
        "save_vectors(text_vectors, file_name=\"dataset_bytecode_learn.npy\")\n",
        "# text_vectors = load_vectors(file_name=\"vectors_test.npy\")"
      ]
    },
    {
      "cell_type": "code",
      "execution_count": null,
      "metadata": {
        "colab": {
          "base_uri": "https://localhost:8080/"
        },
        "id": "S6rTrR_xx9po",
        "outputId": "0eeb7067-0178-4741-b8b4-0749580719db"
      },
      "outputs": [
        {
          "name": "stdout",
          "output_type": "stream",
          "text": [
            "0    299\n",
            "1    299\n",
            "Name: label, dtype: int64\n",
            "0\n",
            "0\n",
            "20\n",
            "40\n",
            "60\n",
            "80\n",
            "100\n",
            "200\n",
            "300\n",
            "400\n",
            "500\n"
          ]
        }
      ],
      "source": [
        "# from sklearn.decomposition import PCA\n",
        "# pca = PCA(n_components=50)\n",
        "# reduced_vectors = pca.fit_transform(text_vectors)\n",
        "csv_file_namet_v3 = f'{PATH_MYDRIVE}/dataset_source_code.csv'\n",
        "dataframet_v3 = pd.read_csv(csv_file_namet_v3)\n",
        "df_majority = dataframet_v3[dataframet_v3.label==0]\n",
        "df_minority = dataframet_v3[dataframet_v3.label==1]\n",
        "from sklearn.utils import resample\n",
        "df_majority_downsampled = resample(df_majority,\n",
        "                                   replace=False,    # sample without replacement\n",
        "                                   n_samples=len(df_minority),     # to match minority class\n",
        "                                   random_state=123) # reproducible results\n",
        "df_downsampled = pd.concat([df_majority_downsampled, df_minority])\n",
        "print(df_downsampled['label'].value_counts())\n",
        "dataframet_v3 = df_downsampled\n",
        "labels_v3 = dataframet_v3[\"label\"].tolist()\n",
        "str_text_list_v3 = dataframet_v3[\"code\"].tolist()\n",
        "import ast\n",
        "texts_list_v3 = [ast.literal_eval(text) for text in str_text_list_v3]\n",
        "text_vectors_v3 = texts_to_concat_vectors(texts_list_v3, 256)\n",
        "indices_v3 = np.array(range(len(text_vectors_v3)))"
      ]
    },
    {
      "cell_type": "code",
      "execution_count": null,
      "metadata": {
        "id": "rG-ygluJ2UOD"
      },
      "outputs": [],
      "source": [
        "text_vectors = load_vectors(file_name=\"dataset/vectors_bytecode-500.npy\")\n",
        "dataframe = load_dataframe(f'{PATH_MYDRIVE}/dataset/dataset_bytecode.csv')\n",
        "labels = dataframe[\"label\"].tolist()\n",
        "file_names = dataframe[\"file_name\"].tolist()\n",
        "indices = np.array(range(len(text_vectors)))\n",
        "X_train, X_test, y_train, y_test, idx_train, idx_test = train_test_split(text_vectors, labels, indices, test_size=0.99, random_state=42)\n",
        "# X_train, X_test, y_train, y_test, idx_train, idx_test = train_test_split(text_vectors_v3, labels_v3, indices_v3, test_size=0.99, random_state=42)"
      ]
    },
    {
      "cell_type": "code",
      "source": [
        "text_vectors = load_vectors(file_name=\"vectors_learn_v2.npy\")\n",
        "dataframe = load_dataframe(f'{PATH_MYDRIVE}/dataset_learn_v2.csv')\n",
        "labels = dataframe[\"label\"].tolist()\n",
        "file_names = dataframe[\"file_name\"].tolist()\n",
        "indices = np.array(range(len(text_vectors)))\n",
        "X_train, X_test, y_train, y_test, idx_train, idx_test = train_test_split(text_vectors, labels, indices, test_size=0.2, random_state=42)"
      ],
      "metadata": {
        "id": "DNPytoE5X0-9"
      },
      "execution_count": null,
      "outputs": []
    },
    {
      "cell_type": "code",
      "execution_count": null,
      "metadata": {
        "id": "ZLfB1sWDiOYZ"
      },
      "outputs": [],
      "source": [
        "# X_train, X_test, y_train, y_test, idx_train, idx_test = train_test_split(text_vectors, labels, indices, test_size=0.99, random_state=42)\n",
        "X_train, X_test, y_train, y_test, idx_train, idx_test = train_test_split(text_vectors, labels, indices, test_size=0.2, random_state=42)"
      ]
    },
    {
      "cell_type": "markdown",
      "metadata": {
        "id": "aIFwXIA1U7F4"
      },
      "source": []
    },
    {
      "cell_type": "markdown",
      "metadata": {
        "id": "0n4I6pQ1y-KB"
      },
      "source": [
        "dataset v1 result\n",
        "Accuracy: 1.0\n",
        "\n",
        "              precision    recall  f1-score   support\n",
        "\n",
        "           0       1.00      1.00      1.00       527\n",
        "           1       1.00      1.00      1.00        72\n",
        "\n",
        "    accuracy                           1.00       599\n",
        "   macro avg       1.00      1.00      1.00       599\n",
        "weighted avg       1.00      1.00      1.00       599"
      ]
    },
    {
      "cell_type": "markdown",
      "metadata": {
        "id": "EWdmVhAJyYn1"
      },
      "source": [
        "dataset v1 result\n",
        "Accuracy: 1.0\n",
        "\n",
        "              precision    recall  f1-score   support\n",
        "\n",
        "           0       1.00      1.00      1.00       799\n",
        "           1       1.00      1.00      1.00        99\n",
        "\n",
        "    accuracy                           1.00       898\n",
        "   macro avg       1.00      1.00      1.00       898\n",
        "weighted avg       1.00      1.00      1.00       898"
      ]
    },
    {
      "cell_type": "markdown",
      "metadata": {
        "id": "C9uile9j_hBm"
      },
      "source": [
        "dataset v2\n",
        "\n",
        "Accuracy: 0.994991652754591\n",
        "\n",
        "              precision    recall  f1-score   support\n",
        "\n",
        "           0       1.00      1.00      1.00       527\n",
        "           1       0.97      0.99      0.98        72\n",
        "\n",
        "    accuracy                           0.99       599\n",
        "\n",
        "   macro avg       0.99      0.99      0.99       599\n",
        "\n",
        "weighted avg       1.00      0.99      1.00       599"
      ]
    },
    {
      "cell_type": "markdown",
      "metadata": {
        "id": "3bCrnWyX_9a4"
      },
      "source": [
        "dataset. v2 次元削減\n",
        "\n",
        "Accuracy: 0.994991652754591\n",
        "\n",
        "              precision    recall  f1-score   support\n",
        "\n",
        "           0       1.00      1.00      1.00       527\n",
        "           1       0.97      0.99      0.98        72\n",
        "\n",
        "    accuracy                           0.99       599\n",
        "\n",
        "   macro avg       0.99      0.99      0.99       599\n",
        "\n",
        "weighted avg       1.00      0.99      1.00       599"
      ]
    },
    {
      "cell_type": "markdown",
      "metadata": {
        "id": "j3w9eaIsAvyc"
      },
      "source": [
        "Accuracy: 0.9922135706340378\n",
        "\n",
        "              precision    recall  f1-score   support\n",
        "\n",
        "           0       0.99      1.00      1.00       800\n",
        "           1       0.98      0.95      0.96        99\n",
        "\n",
        "    accuracy                           0.99       899\n",
        "\n",
        "   macro avg       0.99      0.97      0.98       899\n",
        "\n",
        "weighted avg       0.99      0.99      0.99       899"
      ]
    },
    {
      "cell_type": "markdown",
      "metadata": {
        "id": "tfw9OMapbxiT"
      },
      "source": [
        "dataset v3 150/300更新\n",
        "\n",
        "Accuracy: 0.991652754590985\n",
        "\n",
        "              precision    recall  f1-score   support\n",
        "\n",
        "           0       1.00      0.99      1.00       527\n",
        "           1       0.95      0.99      0.97        72\n",
        "\n",
        "    accuracy                           0.99       599\n",
        "\n",
        "   macro avg       0.97      0.99      0.98       599\n",
        "\n",
        "weighted avg       0.99      0.99      0.99       599"
      ]
    },
    {
      "cell_type": "markdown",
      "metadata": {
        "id": "OIRRkNi8cIeU"
      },
      "source": [
        "Accuracy: 0.9888641425389755\n",
        "\n",
        "              precision    recall  f1-score   support\n",
        "\n",
        "           0       0.99      0.99      0.99       799\n",
        "           1       0.95      0.95      0.95        99\n",
        "\n",
        "    accuracy                           0.99       898\n",
        "\n",
        "   macro avg       0.97      0.97      0.97       898\n",
        "\n",
        "weighted avg       0.99      0.99      0.99       898"
      ]
    },
    {
      "cell_type": "markdown",
      "metadata": {
        "id": "15wbpIX7qOqR"
      },
      "source": [
        "dataset v3 更新済み\n",
        "\n",
        "Accuracy: 0.9922048997772829\n",
        "\n",
        "              precision    recall  f1-score   support\n",
        "\n",
        "           0       0.99      1.00      1.00       799\n",
        "           1       0.98      0.95      0.96        99\n",
        "\n",
        "    accuracy                           0.99       898\n",
        "\n",
        "   macro avg       0.99      0.97      0.98       898\n",
        "\n",
        "weighted avg       0.99      0.99      0.99       898"
      ]
    },
    {
      "cell_type": "markdown",
      "metadata": {
        "id": "EpxQ-LACqmqa"
      },
      "source": [
        "Accuracy: 0.994991652754591\n",
        "\n",
        "              precision    recall  f1-score   support\n",
        "\n",
        "           0       1.00      1.00      1.00       527\n",
        "           1       0.97      0.99      0.98        72\n",
        "\n",
        "    accuracy                           0.99       599\n",
        "\n",
        "   macro avg       0.99      0.99      0.99       599\n",
        "\n",
        "weighted avg       1.00      0.99      1.00       599"
      ]
    },
    {
      "cell_type": "markdown",
      "metadata": {
        "id": "E5plAtkvq9wj"
      },
      "source": [
        "Accuracy: 0.9866310160427807\n",
        "\n",
        "              precision    recall  f1-score   support\n",
        "\n",
        "           0       0.99      1.00      0.99      1341\n",
        "           1       0.96      0.91      0.93       155\n",
        "\n",
        "    accuracy                           0.99      1496\n",
        "\n",
        "   macro avg       0.97      0.95      0.96      1496\n",
        "\n",
        "weighted avg       0.99      0.99      0.99      1496"
      ]
    },
    {
      "cell_type": "markdown",
      "metadata": {
        "id": "EacyuRvvB9Kr"
      },
      "source": [
        "Accuracy: 0.9611111111111111\n",
        "\n",
        "              precision    recall  f1-score   support\n",
        "\n",
        "           0       0.95      0.98      0.96        96\n",
        "           1       0.98      0.94      0.96        84\n",
        "\n",
        "    accuracy                           0.96       180\n",
        "\n",
        "   macro avg       0.96      0.96      0.96       180\n",
        "\n",
        "weighted avg       0.96      0.96      0.96       180"
      ]
    },
    {
      "cell_type": "markdown",
      "metadata": {
        "id": "O_p1mI6ZxQP_"
      },
      "source": [
        "v5で学習し、v5のテスト\n",
        "\n",
        "True Positive Rate (TPR): 0.8888888888888888\n",
        "\n",
        "False Positive Rate (FPR): 0.07142857142857142\n",
        "\n",
        "Accuracy: 0.9175257731958762\n",
        "\n",
        "              precision    recall  f1-score   support\n",
        "\n",
        "           0       0.96      0.93      0.94        70\n",
        "           1       0.83      0.89      0.86        27\n",
        "\n",
        "    accuracy                           0.92        97\n",
        "\n",
        "   macro avg       0.89      0.91      0.90        97\n",
        "\n",
        "weighted avg       0.92      0.92      0.92        97"
      ]
    },
    {
      "cell_type": "markdown",
      "metadata": {
        "id": "7P_cq8uL4NOA"
      },
      "source": [
        "v5で学習させ、v3を分類\n",
        "\n",
        "Accuracy: 0.5632377740303541\n",
        "\n",
        "              precision    recall  f1-score   support\n",
        "\n",
        "           0       0.53      0.96      0.69       295\n",
        "           1       0.81      0.17      0.28       298\n",
        "\n",
        "    accuracy                           0.56       593\n",
        "\n",
        "   macro avg       0.67      0.57      0.48       593\n",
        "   \n",
        "weighted avg       0.67      0.56      0.48       593"
      ]
    },
    {
      "cell_type": "markdown",
      "metadata": {
        "id": "5kPd4a3c4zi1"
      },
      "source": [
        "v3で学習させ、v5を分類\n",
        "\n",
        "True Positive Rate (TPR): 0.4174757281553398\n",
        "\n",
        "False Positive Rate (FPR): 0.0\n",
        "\n",
        "Accuracy: 0.875\n",
        "\n",
        "              precision    recall  f1-score   support\n",
        "\n",
        "           0       0.86      1.00      0.93       377\n",
        "           1       1.00      0.42      0.59       103\n",
        "\n",
        "    accuracy                           0.88       480\n",
        "  \n",
        "   macro avg       0.93      0.71      0.76       480\n",
        "   \n",
        "weighted avg       0.89      0.88      0.85       480"
      ]
    },
    {
      "cell_type": "markdown",
      "metadata": {
        "id": "aBsPAmbUcFrY"
      },
      "source": []
    },
    {
      "cell_type": "markdown",
      "metadata": {
        "id": "6r-jdeDHR_AH"
      },
      "source": [
        "True Positive Rate (TPR): 0.0\n",
        "\n",
        "False Positive Rate (FPR): 0.0\n",
        "\n",
        "Accuracy: 0.7854166666666667\n",
        "\n",
        "              precision    recall  f1-score   support\n",
        "\n",
        "           0       0.79      1.00      0.88       377\n",
        "           1       0.00      0.00      0.00       103\n",
        "\n",
        "    accuracy                           0.79       480\n",
        "\n",
        "   macro avg       0.39      0.50      0.44       480\n",
        "   \n",
        "weighted avg       0.62      0.79      0.69       480"
      ]
    },
    {
      "cell_type": "markdown",
      "metadata": {
        "id": "SQQ_HwrKtMwq"
      },
      "source": [
        "dataset learn\n",
        "\n",
        "True Positive Rate (TPR): 0.8795180722891566\n",
        "\n",
        "False Positive Rate (FPR): 0.0034482758620689655\n",
        "\n",
        "Accuracy: 0.9819004524886877\n",
        "              precision    recall  f1-score   support\n",
        "\n",
        "           0       0.98      1.00      0.99       580\n",
        "           1       0.97      0.88      0.92        83\n",
        "\n",
        "    accuracy                           0.98       663\n",
        "\n",
        "   macro avg       0.98      0.94      0.96       663\n",
        "\n",
        "weighted avg       0.98      0.98      0.98       663"
      ]
    },
    {
      "cell_type": "markdown",
      "metadata": {
        "id": "ViCSmFvPj03R"
      },
      "source": [
        "learnで学習した分類機をtestで検証\n",
        "\n",
        "True Positive Rate (TPR): 0.1092436974789916\n",
        "\n",
        "False Positive Rate (FPR): 0.008585858585858586\n",
        "\n",
        "Accuracy: 0.9414006669842783\n",
        "\n",
        "              precision    recall  f1-score   support\n",
        "\n",
        "           0       0.95      0.99      0.97      1980\n",
        "           1       0.43      0.11      0.17       119\n",
        "\n",
        "    accuracy                           0.94      2099\n",
        "\n",
        "   macro avg       0.69      0.55      0.57      2099\n",
        "\n",
        "weighted avg       0.92      0.94      0.92      2099\n"
      ]
    },
    {
      "cell_type": "markdown",
      "metadata": {
        "id": "RJh2yVDCJMOH"
      },
      "source": [
        "test_v2で学習し、test_v2で分類\n",
        "\n",
        "True Positive Rate (TPR): 0.9090909090909091\n",
        "\n",
        "False Positive Rate (FPR): 0.0024875621890547263\n",
        "\n",
        "Accuracy: 0.9929245283018868\n",
        "\n",
        "              precision    recall  f1-score   support\n",
        "\n",
        "           0       1.00      1.00      1.00       402\n",
        "           1       0.95      0.91      0.93        22\n",
        "\n",
        "    accuracy                           0.99       424\n",
        "\n",
        "   macro avg       0.97      0.95      0.96       424\n",
        "\n",
        "weighted avg       0.99      0.99      0.99       424"
      ]
    },
    {
      "cell_type": "markdown",
      "metadata": {
        "id": "6hP0lZFJj_Ks"
      },
      "source": [
        "learnで学習し、learnで分類\n",
        "\n",
        "max size: 1000\n",
        "\n",
        "True Positive Rate (TPR): 0.8795180722891566\n",
        "\n",
        "False Positive Rate (FPR): 0.0034482758620689655\n",
        "\n",
        "Accuracy: 0.9819004524886877\n",
        "              precision    recall  f1-score   support\n",
        "\n",
        "           0       0.98      1.00      0.99       580\n",
        "           1       0.97      0.88      0.92        83\n",
        "\n",
        "    accuracy                           0.98       663\n",
        "\n",
        "   macro avg       0.98      0.94      0.96       663\n",
        "\n",
        "weighted avg       0.98      0.98      0.98       663\n",
        "\n",
        "max size: 500\n",
        "\n",
        "True Positive Rate (TPR): 0.8795180722891566\n",
        "\n",
        "False Positive Rate (FPR): 0.0034482758620689655\n",
        "\n",
        "Accuracy: 0.9819004524886877\n",
        "\n",
        "              precision    recall  f1-score   support\n",
        "\n",
        "           0       0.98      1.00      0.99       580\n",
        "           1       0.97      0.88      0.92        83\n",
        "\n",
        "    accuracy                           0.98       663\n",
        "\n",
        "   macro avg       0.98      0.94      0.96       663\n",
        "   \n",
        "weighted avg       0.98      0.98      0.98       663\n",
        "\n",
        "ソースコード\n",
        "True Positive Rate (TPR): 0.2361111111111111\n",
        "\n",
        "False Positive Rate (FPR): 0.03874538745387454\n",
        "\n",
        "Accuracy: 0.8762214983713354\n",
        "\n",
        "              precision    recall  f1-score   support\n",
        "\n",
        "           0       0.90      0.96      0.93       542\n",
        "           1       0.45      0.24      0.31        72\n",
        "\n",
        "    accuracy                           0.88       614\n",
        "   macro avg       0.68      0.60      0.62       614\n",
        "weighted avg       0.85      0.88      0.86       614"
      ]
    },
    {
      "cell_type": "markdown",
      "metadata": {
        "id": "8orY_ko4k5DV"
      },
      "source": [
        "擬似悪声コードで学習し、実際の悪声コードを分類\n",
        "\n",
        "max size: 1000\n",
        "\n",
        "True Positive Rate (TPR): 0.2605042016806723\n",
        "\n",
        "False Positive Rate (FPR): 0.0065656565656565654\n",
        "\n",
        "Accuracy: 0.9518818484992854\n",
        "\n",
        "              precision    recall  f1-score   support\n",
        "\n",
        "           0       0.96      0.99      0.97      1980\n",
        "           1       0.70      0.26      0.38       119\n",
        "\n",
        "    accuracy                           0.95      2099\n",
        "\n",
        "   macro avg       0.83      0.63      0.68      2099\n",
        "\n",
        "weighted avg       0.94      0.95      0.94      2099\n",
        "\n",
        "max size: 500\n",
        "\n",
        "True Positive Rate (TPR): 0.2605042016806723\n",
        "\n",
        "False Positive Rate (FPR): 0.0065656565656565654\n",
        "\n",
        "Accuracy: 0.9518818484992854\n",
        "\n",
        "              precision    recall  f1-score   support\n",
        "\n",
        "           0       0.96      0.99      0.97      1980\n",
        "           1       0.70      0.26      0.38       119\n",
        "\n",
        "    accuracy                           0.95      2099\n",
        "\n",
        "   macro avg       0.83      0.63      0.68      2099\n",
        "\n",
        "weighted avg       0.94      0.95      0.94      2099"
      ]
    },
    {
      "cell_type": "markdown",
      "metadata": {
        "id": "EUUfENdzTugp"
      },
      "source": [
        "v9(maloss_sample)による学習した分類器を使用し、自作悪性コードを分類\n",
        "\n",
        "True Positive Rate (TPR): 0.025396825396825397\n",
        "\n",
        "False Positive Rate (FPR): 0.004381530165149983\n",
        "\n",
        "Accuracy: 0.902498476538696\n",
        "\n",
        "              precision    recall  f1-score   support\n",
        "\n",
        "           0       0.91      1.00      0.95      2967\n",
        "           1       0.38      0.03      0.05       315\n",
        "\n",
        "    accuracy                           0.90      3282\n",
        "\n",
        "   macro avg       0.64      0.51      0.50      3282\n",
        "   \n",
        "weighted avg       0.86      0.90      0.86      3282"
      ]
    },
    {
      "cell_type": "markdown",
      "metadata": {
        "id": "mqVEB1HAX0Wv"
      },
      "source": [
        "test_v3で学習し、test_v3で分類（path名は含んでいない）\n",
        "\n",
        "True Positive Rate (TPR): 0.9090909090909091\n",
        "\n",
        "False Positive Rate (FPR): 0.004975124378109453\n",
        "\n",
        "Accuracy: 0.9905660377358491\n",
        "\n",
        "              precision    recall  f1-score   support\n",
        "\n",
        "           0       1.00      1.00      1.00       402\n",
        "           1       0.91      0.91      0.91        22\n",
        "\n",
        "    accuracy                           0.99       424\n",
        "\n",
        "   macro avg       0.95      0.95      0.95       424\n",
        "\n",
        "weighted avg       0.99      0.99      0.99       424\n"
      ]
    },
    {
      "cell_type": "markdown",
      "metadata": {
        "id": "SxjGoG-6H85X"
      },
      "source": [
        "source codeで検証\n",
        "\n",
        "True Positive Rate (TPR): 0.9090909090909091\n",
        "\n",
        "False Positive Rate (FPR): 0.012437810945273632\n",
        "\n",
        "Accuracy: 0.9834905660377359\n",
        "              precision    recall  f1-score   support\n",
        "\n",
        "           0       0.99      0.99      0.99       402\n",
        "           1       0.80      0.91      0.85        22\n",
        "\n",
        "    accuracy                           0.98       424\n",
        "\n",
        "   macro avg       0.90      0.95      0.92       424\n",
        "   \n",
        "weighted avg       0.98      0.98      0.98       424\n",
        "\n",
        "\n",
        "souce codeで擬似悪性コードから擬似悪性コードを検出\n",
        "\n",
        "True Positive Rate (TPR): 0.9090909090909091\n",
        "\n",
        "False Positive Rate (FPR): 0.012437810945273632\n",
        "\n",
        "Accuracy: 0.9834905660377359\n",
        "              precision    recall  f1-score   support\n",
        "\n",
        "           0       0.99      0.99      0.99       402\n",
        "           1       0.80      0.91      0.85        22\n",
        "\n",
        "    accuracy                           0.98       424\n",
        "    \n",
        "   macro avg       0.90      0.95      0.92       424\n",
        "   \n",
        "weighted avg       0.98      0.98      0.98       424\n",
        "\n",
        "source codeで擬似悪性コードから悪性コード検出\n",
        "\n",
        "True Positive Rate (TPR): 0.9831932773109243\n",
        "\n",
        "False Positive Rate (FPR): 0.0025252525252525255\n",
        "\n",
        "Accuracy: 0.9966650786088613\n",
        "\n",
        "              precision    recall  f1-score   support\n",
        "\n",
        "           0       1.00      1.00      1.00      1980\n",
        "           1       0.96      0.98      0.97       119\n",
        "\n",
        "    accuracy                           1.00      2099\n",
        "   macro avg       0.98      0.99      0.98      2099\n",
        "\n",
        "weighted avg       1.00      1.00      1.00      2099\n"
      ]
    },
    {
      "cell_type": "markdown",
      "metadata": {
        "id": "avpffqQUXwf7"
      },
      "source": []
    },
    {
      "cell_type": "code",
      "execution_count": null,
      "metadata": {
        "id": "Dyl7-rmmcyjA"
      },
      "outputs": [],
      "source": [
        "text_vectors = load_vectors(file_name=\"dataset_source_code.npy\")"
      ]
    },
    {
      "cell_type": "code",
      "source": [
        "from joblib import dump, load\n",
        "svm_classifier = load(os.path.join(PATH_MYDRIVE, \"dataset/svm_model_v8.joblib\"))"
      ],
      "metadata": {
        "id": "Jsb-iVMS_BmF"
      },
      "execution_count": null,
      "outputs": []
    },
    {
      "cell_type": "code",
      "execution_count": null,
      "metadata": {
        "colab": {
          "base_uri": "https://localhost:8080/"
        },
        "id": "nYuTR0tjaBu1",
        "outputId": "f28223b7-e1bc-44cf-faa8-90ac79a4429b"
      },
      "outputs": [
        {
          "output_type": "stream",
          "name": "stdout",
          "text": [
            "True Positive Rate (TPR): 0.8795180722891566\n",
            "False Positive Rate (FPR): 0.0034482758620689655\n",
            "Accuracy: 0.9819004524886877\n",
            "              precision    recall  f1-score   support\n",
            "\n",
            "           0       0.98      1.00      0.99       580\n",
            "           1       0.97      0.88      0.92        83\n",
            "\n",
            "    accuracy                           0.98       663\n",
            "   macro avg       0.98      0.94      0.96       663\n",
            "weighted avg       0.98      0.98      0.98       663\n",
            "\n"
          ]
        }
      ],
      "source": [
        "from sklearn import svm, metrics\n",
        "# SVMで二値分類器を訓練し、テストデータで評価\n",
        "svm_classifier = SVC(kernel=\"linear\")\n",
        "# 学習\n",
        "svm_classifier.fit(X_train, y_train)\n",
        "\n",
        "y_pred = svm_classifier.predict(X_test)\n",
        "cm = metrics.confusion_matrix(y_test, y_pred)\n",
        "\n",
        "# 混同行列からTP, TN, FP, FNを取得\n",
        "TP = cm[1, 1]\n",
        "TN = cm[0, 0]\n",
        "FP = cm[0, 1]\n",
        "FN = cm[1, 0]\n",
        "\n",
        "# 真陽性率（TPR）と偽陽性率（FPR）の計算\n",
        "TPR = TP / (TP + FN)\n",
        "FPR = FP / (FP + TN)\n",
        "\n",
        "print(f\"True Positive Rate (TPR): {TPR}\")\n",
        "print(f\"False Positive Rate (FPR): {FPR}\")\n",
        "\n",
        "print(\"Accuracy:\", accuracy_score(y_test, y_pred))\n",
        "print(classification_report(y_test, y_pred))\n",
        "\n",
        "# svm_classifier.predict(text_vectors)"
      ]
    },
    {
      "cell_type": "markdown",
      "source": [
        "v8でdataset_bytecode.csv\n",
        "\n",
        "True Positive Rate (TPR): 0.3025210084033613\n",
        "False Positive Rate (FPR): 0.027777777777777776\n",
        "Accuracy: 0.9342544068604097\n",
        "              precision    recall  f1-score   support\n",
        "\n",
        "           0       0.96      0.97      0.97      1980\n",
        "           1       0.40      0.30      0.34       119\n",
        "\n",
        "    accuracy                           0.93      2099\n",
        "   macro avg       0.68      0.64      0.65      2099\n",
        "weighted avg       0.93      0.93      0.93      2099\n",
        "\n",
        "\n",
        "v9でdataset_bytecode.csv\n",
        "\n",
        "True Positive Rate (TPR): 0.7647058823529411\n",
        "False Positive Rate (FPR): 0.0035353535353535356\n",
        "Accuracy: 0.9833253930443068\n",
        "              precision    recall  f1-score   support\n",
        "\n",
        "           0       0.99      1.00      0.99      1980\n",
        "           1       0.93      0.76      0.84       119\n",
        "\n",
        "    accuracy                           0.98      2099\n",
        "   macro avg       0.96      0.88      0.91      2099\n",
        "weighted avg       0.98      0.98      0.98      2099\n",
        "\n",
        "\n",
        "v10でdataset_bytecode.csv\n",
        "True Positive Rate (TPR): 0.9747899159663865\n",
        "False Positive Rate (FPR): 0.00101010101010101\n",
        "Accuracy: 0.9976179132920439\n",
        "              precision    recall  f1-score   support\n",
        "\n",
        "           0       1.00      1.00      1.00      1980\n",
        "           1       0.98      0.97      0.98       119\n",
        "\n",
        "    accuracy                           1.00      2099\n",
        "   macro avg       0.99      0.99      0.99      2099\n",
        "weighted avg       1.00      1.00      1.00      2099"
      ],
      "metadata": {
        "id": "6hOGjHFYRAkp"
      }
    },
    {
      "cell_type": "markdown",
      "source": [],
      "metadata": {
        "id": "_nkX5yj0RXu2"
      }
    },
    {
      "cell_type": "code",
      "source": [
        "from joblib import dump, load\n",
        "\n",
        "# save\n",
        "dump(svm_classifier, os.path.join(PATH_MYDRIVE, \"dataset/svm_model_bytecode_learn−５００.joblib\"))\n",
        "\n",
        "# # load\n",
        "# svm_classifier = load(os.path.join(PATH_MYDRIVE, \"svm_model_v9.joblib\"))"
      ],
      "metadata": {
        "colab": {
          "base_uri": "https://localhost:8080/"
        },
        "id": "ij_vSi2GAlyl",
        "outputId": "58ef519e-5b3b-44fc-f9fe-eb7d090df33e"
      },
      "execution_count": null,
      "outputs": [
        {
          "output_type": "execute_result",
          "data": {
            "text/plain": [
              "['/content/gdrive/My Drive/dataset/svm_model_bytecode_learn−５００.joblib']"
            ]
          },
          "metadata": {},
          "execution_count": 32
        }
      ]
    },
    {
      "cell_type": "code",
      "execution_count": null,
      "metadata": {
        "id": "QzyltNAhRad7"
      },
      "outputs": [],
      "source": [
        "X = text_vectors\n",
        "y = labels"
      ]
    },
    {
      "cell_type": "code",
      "execution_count": null,
      "metadata": {
        "colab": {
          "base_uri": "https://localhost:8080/",
          "height": 395
        },
        "id": "XCKGjrBaIE9h",
        "outputId": "1a3563c3-f687-438c-ddd5-0b04f53e371d"
      },
      "outputs": [
        {
          "output_type": "error",
          "ename": "InternalError",
          "evalue": "ignored",
          "traceback": [
            "\u001b[0;31m---------------------------------------------------------------------------\u001b[0m",
            "\u001b[0;31mInternalError\u001b[0m                             Traceback (most recent call last)",
            "\u001b[0;32m<ipython-input-20-0639eaa71a3c>\u001b[0m in \u001b[0;36m<cell line: 33>\u001b[0;34m()\u001b[0m\n\u001b[1;32m     59\u001b[0m     \u001b[0mautoencoder\u001b[0m\u001b[0;34m.\u001b[0m\u001b[0madd\u001b[0m\u001b[0;34m(\u001b[0m\u001b[0mDense\u001b[0m\u001b[0;34m(\u001b[0m\u001b[0minput_dim\u001b[0m\u001b[0;34m,\u001b[0m \u001b[0mactivation\u001b[0m\u001b[0;34m=\u001b[0m\u001b[0;34m'sigmoid'\u001b[0m\u001b[0;34m)\u001b[0m\u001b[0;34m)\u001b[0m\u001b[0;34m\u001b[0m\u001b[0;34m\u001b[0m\u001b[0m\n\u001b[1;32m     60\u001b[0m     \u001b[0mautoencoder\u001b[0m\u001b[0;34m.\u001b[0m\u001b[0mcompile\u001b[0m\u001b[0;34m(\u001b[0m\u001b[0moptimizer\u001b[0m\u001b[0;34m=\u001b[0m\u001b[0;34m'adam'\u001b[0m\u001b[0;34m,\u001b[0m \u001b[0mloss\u001b[0m\u001b[0;34m=\u001b[0m\u001b[0;34m'mean_squared_error'\u001b[0m\u001b[0;34m)\u001b[0m\u001b[0;34m\u001b[0m\u001b[0;34m\u001b[0m\u001b[0m\n\u001b[0;32m---> 61\u001b[0;31m     \u001b[0mautoencoder\u001b[0m\u001b[0;34m.\u001b[0m\u001b[0mfit\u001b[0m\u001b[0;34m(\u001b[0m\u001b[0mX_train\u001b[0m\u001b[0;34m,\u001b[0m \u001b[0mX_train\u001b[0m\u001b[0;34m,\u001b[0m \u001b[0mepochs\u001b[0m\u001b[0;34m=\u001b[0m\u001b[0;36m10\u001b[0m\u001b[0;34m,\u001b[0m \u001b[0mbatch_size\u001b[0m\u001b[0;34m=\u001b[0m\u001b[0;36m16\u001b[0m\u001b[0;34m,\u001b[0m \u001b[0mverbose\u001b[0m\u001b[0;34m=\u001b[0m\u001b[0;36m0\u001b[0m\u001b[0;34m)\u001b[0m\u001b[0;34m\u001b[0m\u001b[0;34m\u001b[0m\u001b[0m\n\u001b[0m\u001b[1;32m     62\u001b[0m \u001b[0;34m\u001b[0m\u001b[0m\n\u001b[1;32m     63\u001b[0m     \u001b[0mreconstruction_error\u001b[0m \u001b[0;34m=\u001b[0m \u001b[0mnp\u001b[0m\u001b[0;34m.\u001b[0m\u001b[0mmean\u001b[0m\u001b[0;34m(\u001b[0m\u001b[0mnp\u001b[0m\u001b[0;34m.\u001b[0m\u001b[0mpower\u001b[0m\u001b[0;34m(\u001b[0m\u001b[0mX_test\u001b[0m \u001b[0;34m-\u001b[0m \u001b[0mautoencoder\u001b[0m\u001b[0;34m.\u001b[0m\u001b[0mpredict\u001b[0m\u001b[0;34m(\u001b[0m\u001b[0mX_test\u001b[0m\u001b[0;34m)\u001b[0m\u001b[0;34m,\u001b[0m \u001b[0;36m2\u001b[0m\u001b[0;34m)\u001b[0m\u001b[0;34m,\u001b[0m \u001b[0maxis\u001b[0m\u001b[0;34m=\u001b[0m\u001b[0;36m1\u001b[0m\u001b[0;34m)\u001b[0m\u001b[0;34m\u001b[0m\u001b[0;34m\u001b[0m\u001b[0m\n",
            "\u001b[0;32m/usr/local/lib/python3.10/dist-packages/keras/src/utils/traceback_utils.py\u001b[0m in \u001b[0;36merror_handler\u001b[0;34m(*args, **kwargs)\u001b[0m\n\u001b[1;32m     68\u001b[0m             \u001b[0;31m# To get the full stack trace, call:\u001b[0m\u001b[0;34m\u001b[0m\u001b[0;34m\u001b[0m\u001b[0m\n\u001b[1;32m     69\u001b[0m             \u001b[0;31m# `tf.debugging.disable_traceback_filtering()`\u001b[0m\u001b[0;34m\u001b[0m\u001b[0;34m\u001b[0m\u001b[0m\n\u001b[0;32m---> 70\u001b[0;31m             \u001b[0;32mraise\u001b[0m \u001b[0me\u001b[0m\u001b[0;34m.\u001b[0m\u001b[0mwith_traceback\u001b[0m\u001b[0;34m(\u001b[0m\u001b[0mfiltered_tb\u001b[0m\u001b[0;34m)\u001b[0m \u001b[0;32mfrom\u001b[0m \u001b[0;32mNone\u001b[0m\u001b[0;34m\u001b[0m\u001b[0;34m\u001b[0m\u001b[0m\n\u001b[0m\u001b[1;32m     71\u001b[0m         \u001b[0;32mfinally\u001b[0m\u001b[0;34m:\u001b[0m\u001b[0;34m\u001b[0m\u001b[0;34m\u001b[0m\u001b[0m\n\u001b[1;32m     72\u001b[0m             \u001b[0;32mdel\u001b[0m \u001b[0mfiltered_tb\u001b[0m\u001b[0;34m\u001b[0m\u001b[0;34m\u001b[0m\u001b[0m\n",
            "\u001b[0;32m/usr/local/lib/python3.10/dist-packages/tensorflow/python/framework/constant_op.py\u001b[0m in \u001b[0;36mconvert_to_eager_tensor\u001b[0;34m(value, ctx, dtype)\u001b[0m\n\u001b[1;32m    101\u001b[0m       \u001b[0mdtype\u001b[0m \u001b[0;34m=\u001b[0m \u001b[0mdtypes\u001b[0m\u001b[0;34m.\u001b[0m\u001b[0mas_dtype\u001b[0m\u001b[0;34m(\u001b[0m\u001b[0mdtype\u001b[0m\u001b[0;34m)\u001b[0m\u001b[0;34m.\u001b[0m\u001b[0mas_datatype_enum\u001b[0m\u001b[0;34m\u001b[0m\u001b[0;34m\u001b[0m\u001b[0m\n\u001b[1;32m    102\u001b[0m   \u001b[0mctx\u001b[0m\u001b[0;34m.\u001b[0m\u001b[0mensure_initialized\u001b[0m\u001b[0;34m(\u001b[0m\u001b[0;34m)\u001b[0m\u001b[0;34m\u001b[0m\u001b[0;34m\u001b[0m\u001b[0m\n\u001b[0;32m--> 103\u001b[0;31m   \u001b[0;32mreturn\u001b[0m \u001b[0mops\u001b[0m\u001b[0;34m.\u001b[0m\u001b[0mEagerTensor\u001b[0m\u001b[0;34m(\u001b[0m\u001b[0mvalue\u001b[0m\u001b[0;34m,\u001b[0m \u001b[0mctx\u001b[0m\u001b[0;34m.\u001b[0m\u001b[0mdevice_name\u001b[0m\u001b[0;34m,\u001b[0m \u001b[0mdtype\u001b[0m\u001b[0;34m)\u001b[0m\u001b[0;34m\u001b[0m\u001b[0;34m\u001b[0m\u001b[0m\n\u001b[0m\u001b[1;32m    104\u001b[0m \u001b[0;34m\u001b[0m\u001b[0m\n\u001b[1;32m    105\u001b[0m \u001b[0;34m\u001b[0m\u001b[0m\n",
            "\u001b[0;31mInternalError\u001b[0m: Failed copying input tensor from /job:localhost/replica:0/task:0/device:CPU:0 to /job:localhost/replica:0/task:0/device:GPU:0 in order to run _EagerConst: Dst tensor is not initialized."
          ]
        }
      ],
      "source": [
        "from sklearn.ensemble import RandomForestClassifier\n",
        "from sklearn.svm import SVC\n",
        "from sklearn.metrics import f1_score, precision_score, recall_score, accuracy_score\n",
        "from keras.models import Sequential\n",
        "from keras.layers import Dense\n",
        "import numpy as np\n",
        "\n",
        "# ラベルごとにデータを分割\n",
        "split_data = {}\n",
        "for label in np.unique(y):\n",
        "    split_data[label] = X[y == label]\n",
        "\n",
        "# ラベルごとに5等分\n",
        "split_data_5fold = {}\n",
        "for label, data in split_data.items():\n",
        "    split_data_5fold[label] = np.array_split(data, 5)\n",
        "\n",
        "# 評価指標を保存するための変数\n",
        "autoencoder_metrics = {\n",
        "        'f1': [],\n",
        "        'f1_class_0': [],\n",
        "        'f1_class_1': [],\n",
        "        'precision': [],\n",
        "        'precision_class_0': [],\n",
        "        'precision_class_1': [],\n",
        "        'recall': [],\n",
        "        'recall_class_0': [],\n",
        "        'recall_class_1': [],\n",
        "        'accuracy': []\n",
        "    }\n",
        "\n",
        "# 5回のクロスバリデーション\n",
        "for i in range(5):\n",
        "    train_data = []\n",
        "    test_data = []\n",
        "    train_labels = []\n",
        "    test_labels = []\n",
        "\n",
        "    # 各ラベルごとにデータを結合\n",
        "    for label, splits in split_data_5fold.items():\n",
        "        test_data.append(splits[i])\n",
        "        test_labels.extend([label] * len(splits[i]))\n",
        "\n",
        "        for j in range(5):\n",
        "            if j != i:\n",
        "                train_data.append(splits[j])\n",
        "                train_labels.extend([label] * len(splits[j]))\n",
        "\n",
        "    # 最終的な訓練データとテストデータ\n",
        "    X_train = np.vstack(train_data)\n",
        "    y_train = np.array(train_labels)\n",
        "    X_test = np.vstack(test_data)\n",
        "    y_test = np.array(test_labels)\n",
        "\n",
        "    # Autoencoderでの学習と評価（単純な例）\n",
        "    input_dim = X_train.shape[1]\n",
        "    autoencoder = Sequential()\n",
        "    autoencoder.add(Dense(10, activation='relu', input_shape=(input_dim,)))\n",
        "    autoencoder.add(Dense(input_dim, activation='sigmoid'))\n",
        "    autoencoder.compile(optimizer='adam', loss='mean_squared_error')\n",
        "    autoencoder.fit(X_train, X_train, epochs=10, batch_size=16, verbose=0)\n",
        "\n",
        "    reconstruction_error = np.mean(np.power(X_test - autoencoder.predict(X_test), 2), axis=1)\n",
        "    threshold = np.percentile(reconstruction_error, 95)\n",
        "    y_pred_autoencoder = [1 if e > threshold else 0 for e in reconstruction_error]\n",
        "\n",
        "    # autoencoder_metrics['f1'].append(f1_score(y_test, y_pred_autoencoder))\n",
        "    # autoencoder_metrics['precision'].append(precision_score(y_test, y_pred_autoencoder))\n",
        "    # autoencoder_metrics['recall'].append(recall_score(y_test, y_pred_autoencoder))\n",
        "    # autoencoder_metrics['accuracy'].append(accuracy_score(y_test, y_pred_autoencoder))\n",
        "    autoencoder_metrics['f1'].append(f1_score(y_test, y_pred_autoencoder, average='macro'))\n",
        "    autoencoder_metrics['f1_class_0'].append(f1_score(y_test, y_pred_autoencoder, pos_label=0))\n",
        "    autoencoder_metrics['f1_class_1'].append(f1_score(y_test, y_pred_autoencoder, pos_label=1))\n",
        "\n",
        "    autoencoder_metrics['precision'].append(precision_score(y_test, y_pred_autoencoder, average='macro'))\n",
        "    autoencoder_metrics['precision_class_0'].append(precision_score(y_test, y_pred_autoencoder, pos_label=0))\n",
        "    autoencoder_metrics['precision_class_1'].append(precision_score(y_test, y_pred_autoencoder, pos_label=1))\n",
        "\n",
        "    autoencoder_metrics['recall'].append(recall_score(y_test, y_pred_autoencoder, average='macro'))\n",
        "    autoencoder_metrics['recall_class_0'].append(recall_score(y_test, y_pred_autoencoder, pos_label=0))\n",
        "    autoencoder_metrics['recall_class_1'].append(recall_score(y_test, y_pred_autoencoder, pos_label=1))\n",
        "\n",
        "    autoencoder_metrics['accuracy'].append(accuracy_score(y_test, y_pred_autoencoder))\n",
        "# # 評価指標の平均値を出力\n",
        "# print(\"SVM Metrics:\")\n",
        "# for metric, values in svm_metrics.items():\n",
        "#     print(f\"{metric}: {np.mean(values)}\")\n",
        "\n",
        "print(\"\\nAutoencoder Metrics:\")\n",
        "for metric, values in autoencoder_metrics.items():\n",
        "    print(f\"{metric}: {np.mean(values)}\")"
      ]
    },
    {
      "cell_type": "markdown",
      "metadata": {
        "id": "KRaVQAnrVm97"
      },
      "source": [
        "# SVM Metrics:\n",
        "\n",
        "## bytecode\n",
        "f1: 0.8162418234292806\n",
        "\n",
        "precision: 0.861897380823212\n",
        "\n",
        "recall: 0.7833333333333333\n",
        "\n",
        "accuracy: 0.980188679245283\n",
        "\n",
        "\n",
        "## sourcecode\n",
        "f1: 0.8880549629657597\n",
        "\n",
        "precision: 0.8939420289855071\n",
        "\n",
        "recall: 0.8833333333333334\n",
        "\n",
        "accuracy: 0.9872641509433961\n",
        "\n",
        "# Autoencoder Metrics:\n",
        "\n",
        "## bytecode\n",
        "f1: 0.08910054381411445\n",
        "\n",
        "precision: 0.20023809523809524\n",
        "\n",
        "recall: 0.05833333333333333\n",
        "\n",
        "accuracy: 0.9311320754716981\n",
        "\n",
        "## sourcecode\n",
        "\n",
        "f1: 0.022021116138763196\n",
        "\n",
        "precision: 0.03333333333333334\n",
        "\n",
        "recall: 0.016666666666666666\n",
        "\n",
        "accuracy: 0.9207547169811321"
      ]
    },
    {
      "cell_type": "code",
      "execution_count": null,
      "metadata": {
        "id": "rwK04CERXLd9"
      },
      "outputs": [],
      "source": [
        "from sklearn.ensemble import RandomForestClassifier\n",
        "from sklearn.svm import SVC\n",
        "from sklearn.metrics import f1_score, precision_score, recall_score, accuracy_score\n",
        "from keras.models import Sequential\n",
        "from keras.layers import Dense\n",
        "import numpy as np\n",
        "from sklearn.naive_bayes import GaussianNB\n",
        "\n",
        "\n",
        "# 評価指標を保存するための変数\n",
        "metrics = {'svm': {}, 'autoencoder': {}, 'random_forest': {}, 'naive_bayes': []}\n",
        "\n",
        "for model_type in ['svm', 'autoencoder', 'random_forest', 'naive_bayes']:\n",
        "    metrics[model_type] = {\n",
        "        'f1': [],\n",
        "        'f1_class_0': [],\n",
        "        'f1_class_1': [],\n",
        "        'precision': [],\n",
        "        'precision_class_0': [],\n",
        "        'precision_class_1': [],\n",
        "        'recall': [],\n",
        "        'recall_class_0': [],\n",
        "        'recall_class_1': [],\n",
        "        'accuracy': []\n",
        "    }\n",
        "\n",
        "# ラベルごとにデータを5分割\n",
        "split_data = {}\n",
        "for label in np.unique(y):\n",
        "    split_data[label] = np.array_split(X[y == label], 5)"
      ]
    },
    {
      "cell_type": "code",
      "source": [
        "# 評価指標を保存するための変数\n",
        "metrics = {'svm': {}, 'autoencoder': {}, 'random_forest': {}, 'naive_bayes': []}\n",
        "\n",
        "for model_type in ['svm', 'autoencoder', 'random_forest', 'naive_bayes']:\n",
        "    metrics[model_type] = {\n",
        "        'f1': [],\n",
        "        'f1_class_0': [],\n",
        "        'f1_class_1': [],\n",
        "        'precision': [],\n",
        "        'precision_class_0': [],\n",
        "        'precision_class_1': [],\n",
        "        'recall': [],\n",
        "        'recall_class_0': [],\n",
        "        'recall_class_1': [],\n",
        "        'accuracy': []\n",
        "    }"
      ],
      "metadata": {
        "id": "lLPyy6lekwHQ"
      },
      "execution_count": null,
      "outputs": []
    },
    {
      "cell_type": "code",
      "execution_count": null,
      "metadata": {
        "id": "yvFNF6apIQKr",
        "colab": {
          "base_uri": "https://localhost:8080/"
        },
        "outputId": "e496fa34-f43b-418b-fa3d-6b2364149b9c"
      },
      "outputs": [
        {
          "output_type": "stream",
          "name": "stdout",
          "text": [
            "SVM Metrics:\n",
            "  f1: nan\n",
            "  f1_class_0: nan\n",
            "  f1_class_1: nan\n",
            "  precision: nan\n",
            "  precision_class_0: nan\n",
            "  precision_class_1: nan\n",
            "  recall: nan\n",
            "  recall_class_0: nan\n",
            "  recall_class_1: nan\n",
            "  accuracy: nan\n",
            "{'f1': [], 'f1_class_0': [], 'f1_class_1': [], 'precision': [], 'precision_class_0': [], 'precision_class_1': [], 'recall': [], 'recall_class_0': [], 'recall_class_1': [], 'accuracy': []}\n",
            "AUTOENCODER Metrics:\n",
            "  f1: nan\n",
            "  f1_class_0: nan\n",
            "  f1_class_1: nan\n",
            "  precision: nan\n",
            "  precision_class_0: nan\n",
            "  precision_class_1: nan\n",
            "  recall: nan\n",
            "  recall_class_0: nan\n",
            "  recall_class_1: nan\n",
            "  accuracy: nan\n",
            "{'f1': [], 'f1_class_0': [], 'f1_class_1': [], 'precision': [], 'precision_class_0': [], 'precision_class_1': [], 'recall': [], 'recall_class_0': [], 'recall_class_1': [], 'accuracy': []}\n",
            "RANDOM_FOREST Metrics:\n",
            "  f1: nan\n",
            "  f1_class_0: nan\n",
            "  f1_class_1: nan\n",
            "  precision: nan\n",
            "  precision_class_0: nan\n",
            "  precision_class_1: nan\n",
            "  recall: nan\n",
            "  recall_class_0: nan\n",
            "  recall_class_1: nan\n",
            "  accuracy: nan\n",
            "{'f1': [], 'f1_class_0': [], 'f1_class_1': [], 'precision': [], 'precision_class_0': [], 'precision_class_1': [], 'recall': [], 'recall_class_0': [], 'recall_class_1': [], 'accuracy': []}\n",
            "NAIVE_BAYES Metrics:\n",
            "  f1: 0.10444892230312135\n",
            "  f1_class_0: 0.033390698811487755\n",
            "  f1_class_1: 0.17550714579475493\n",
            "  precision: 0.5267137462400793\n",
            "  precision_class_0: 0.9571428571428571\n",
            "  precision_class_1: 0.09628463533730136\n",
            "  recall: 0.5037433818268543\n",
            "  recall_class_0: 0.017010573177518085\n",
            "  recall_class_1: 0.9904761904761905\n",
            "  accuracy: 0.11010214114513309\n",
            "{'f1': [0.11243715727333278, 0.10204678362573098, 0.10438226943859329, 0.1010456804505318, 0.10233272072741789], 'f1_class_0': [0.04560260586319218, 0.02631578947368421, 0.03278688524590164, 0.02635914332784185, 0.03588907014681892], 'f1_class_1': [0.1792717086834734, 0.17777777777777776, 0.17597765363128492, 0.17573221757322177, 0.16877637130801687], 'precision': [0.5492307692307692, 0.5487804878048781, 0.5482388973966309, 0.5481651376146789, 0.43915343915343913], 'precision_class_0': [1.0, 1.0, 1.0, 1.0, 0.7857142857142857], 'precision_class_1': [0.09846153846153846, 0.0975609756097561, 0.09647779479326186, 0.0963302752293578, 0.09259259259259259], 'recall': [0.5116666666666667, 0.5066666666666667, 0.5083333333333333, 0.506677796327212, 0.4853724461403927], 'recall_class_0': [0.023333333333333334, 0.013333333333333334, 0.016666666666666666, 0.01335559265442404, 0.018363939899833055], 'recall_class_1': [1.0, 1.0, 1.0, 1.0, 0.9523809523809523], 'accuracy': [0.11746987951807229, 0.10843373493975904, 0.11010558069381599, 0.10725075528700906, 0.10725075528700906]}\n"
          ]
        },
        {
          "output_type": "stream",
          "name": "stderr",
          "text": [
            "/usr/local/lib/python3.10/dist-packages/numpy/core/fromnumeric.py:3432: RuntimeWarning: Mean of empty slice.\n",
            "  return _methods._mean(a, axis=axis, dtype=dtype,\n",
            "/usr/local/lib/python3.10/dist-packages/numpy/core/_methods.py:190: RuntimeWarning: invalid value encountered in double_scalars\n",
            "  ret = ret.dtype.type(ret / rcount)\n"
          ]
        }
      ],
      "source": [
        "# 5回のクロスバリデーション\n",
        "for i in range(5):\n",
        "    train_data = []\n",
        "    test_data = []\n",
        "    train_labels = []\n",
        "    test_labels = []\n",
        "\n",
        "    for label, splits in split_data.items():\n",
        "        test_data.append(splits[i])\n",
        "        test_labels.extend([label] * len(splits[i]))\n",
        "\n",
        "        for j, split in enumerate(splits):\n",
        "            if j != i:\n",
        "                train_data.append(split)\n",
        "                train_labels.extend([label] * len(split))\n",
        "\n",
        "    X_train, y_train = np.vstack(train_data), np.array(train_labels)\n",
        "    X_test, y_test = np.vstack(test_data), np.array(test_labels)\n",
        "\n",
        "    # # SVM\n",
        "    # svm_model = SVC(kernel=\"linear\")\n",
        "    # svm_model.fit(X_train, y_train)\n",
        "    y_pred_svm = []\n",
        "    # y_pred_svm = svm_model.predict(X_test)\n",
        "\n",
        "    # Naive Bayes\n",
        "    nb_model = GaussianNB()\n",
        "    nb_model.fit(X_train, y_train)\n",
        "    # y_pred_nb = []\n",
        "    y_pred_nb = nb_model.predict(X_test)\n",
        "\n",
        "    # Autoencoder\n",
        "    # input_dim = X_train.shape[1]\n",
        "    # autoencoder = Sequential()\n",
        "    # autoencoder.add(Dense(10, activation='relu', input_shape=(input_dim,)))\n",
        "    # autoencoder.add(Dense(input_dim, activation='sigmoid'))\n",
        "    # autoencoder.compile(optimizer='adam', loss='mean_squared_error')\n",
        "    # autoencoder.fit(X_train, X_train, epochs=10, batch_size=8, verbose=0)\n",
        "\n",
        "    # reconstruction_error = np.mean(np.power(X_test - autoencoder.predict(X_test), 2), axis=1)\n",
        "    # threshold = np.percentile(reconstruction_error, 95)\n",
        "    y_pred_autoencoder = []\n",
        "    # y_pred_autoencoder = [1 if e > threshold else 0 for e in reconstruction_error]\n",
        "\n",
        "    # Random Forest\n",
        "    # rf_model = RandomForestClassifier()\n",
        "    # rf_model.fit(X_train, y_train)\n",
        "    y_pred_rf = []\n",
        "    # y_pred_rf = rf_model.predict(X_test)\n",
        "\n",
        "    # Calculate metrics\n",
        "    for model_type, y_pred in zip(['svm', 'naive_bayes', 'autoencoder', 'random_forest'], [y_pred_svm, y_pred_nb, y_pred_autoencoder, y_pred_rf]):\n",
        "        if len(y_pred) == 0:\n",
        "            continue\n",
        "        metrics[model_type]['f1'].append(f1_score(y_test, y_pred, average='macro'))\n",
        "        metrics[model_type]['f1_class_0'].append(f1_score(y_test, y_pred, pos_label=0))\n",
        "        metrics[model_type]['f1_class_1'].append(f1_score(y_test, y_pred, pos_label=1))\n",
        "\n",
        "        metrics[model_type]['precision'].append(precision_score(y_test, y_pred, average='macro'))\n",
        "        metrics[model_type]['precision_class_0'].append(precision_score(y_test, y_pred, pos_label=0))\n",
        "        metrics[model_type]['precision_class_1'].append(precision_score(y_test, y_pred, pos_label=1))\n",
        "\n",
        "        metrics[model_type]['recall'].append(recall_score(y_test, y_pred, average='macro'))\n",
        "        metrics[model_type]['recall_class_0'].append(recall_score(y_test, y_pred, pos_label=0))\n",
        "        metrics[model_type]['recall_class_1'].append(recall_score(y_test, y_pred, pos_label=1))\n",
        "\n",
        "        metrics[model_type]['accuracy'].append(accuracy_score(y_test, y_pred))\n",
        "\n",
        "# Output average metrics\n",
        "for model_type, model_metrics in metrics.items():\n",
        "    print(f\"{model_type.upper()} Metrics:\")\n",
        "    for metric, values in model_metrics.items():\n",
        "        print(f\"  {metric}: {np.mean(values)}\")\n",
        "    print(metrics[model_type])"
      ]
    },
    {
      "cell_type": "markdown",
      "source": [
        "# NAIVE_BAYES Metrics:\n",
        "## byte coce\n",
        "### f1\n",
        "0.056976890810737715\n",
        "- class_0: 0.008935557269576663\n",
        "- class_1: 0.10501822435189875\n",
        "\n",
        "### precision\n",
        "0.45274900723625133\n",
        "- class_0: 0.85\n",
        "- class_1: 0.05549801447250272\n",
        "\n",
        "### recall: 0.48975\n",
        "- class_0: 0.0045000000000000005\n",
        "- class_1: 0.975\n",
        "\n",
        "### accuracy\n",
        "0.059433962264150944\n",
        "\n",
        "{'f1': [0.058786783570934566, 0.05922754437605923, 0.05618504075382014, 0.05618504075382014, 0.05450004459905449], 'f1_class_0': [0.009950248756218907, 0.014851485148514853, 0.004987531172069826, 0.004987531172069826, 0.009900990099009901], 'f1_class_1': [0.10762331838565023, 0.10360360360360361, 0.10738255033557045, 0.10738255033557045, 0.09909909909909909], 'precision': [0.5284360189573459, 0.4023809523809524, 0.5283687943262412, 0.5283687943262412, 0.2761904761904762], 'precision_class_0': [1.0, 0.75, 1.0, 1.0, 0.5], 'precision_class_1': [0.05687203791469194, 0.05476190476190476, 0.05673758865248227, 0.05673758865248227, 0.05238095238095238], 'recall': [0.5025, 0.48291666666666666, 0.50125, 0.50125, 0.4608333333333333], 'recall_class_0': [0.005, 0.0075, 0.0025, 0.0025, 0.005], 'recall_class_1': [1.0, 0.9583333333333334, 1.0, 1.0, 0.9166666666666666], 'accuracy': [0.06132075471698113, 0.06132075471698113, 0.0589622641509434, 0.0589622641509434, 0.05660377358490566]}\n",
        "\n",
        "## source code\n",
        "### f1\n",
        "0.15469074176162312\n",
        "- class_0: 0.20946618431262345\n",
        "- class_1: 0.09991529921062273\n",
        "\n",
        "### precision\n",
        "0.5278694579881119\n",
        "- class_0: 0.9604761904761905\n",
        "- class_1: 0.09526272550003329\n",
        "\n",
        "### recall:\n",
        "0.50325\n",
        "- class_0: 0.20649999999999996\n",
        "- class_1: 0.8\n",
        "  \n",
        "### accuracy:\n",
        "0.24009433962264154\n",
        "\n",
        "{'f1': [0.5198606271777004, 0.06395504415306395, 0.06689620975335261, 0.058786783570934566, 0.06395504415306395], 'f1_class_0': [0.9682926829268294, 0.019801980198019802, 0.02948402948402948, 0.009950248756218907, 0.019801980198019802], 'f1_class_1': [0.07142857142857142, 0.1081081081081081, 0.10430839002267574, 0.10762331838565023, 0.1081081081081081], 'precision': [0.5976190476190476, 0.5285714285714286, 0.45614936622130864, 0.5284360189573459, 0.5285714285714286], 'precision_class_0': [0.9452380952380952, 1.0, 0.8571428571428571, 1.0, 1.0], 'precision_class_1': [0.25, 0.05714285714285714, 0.05515587529976019, 0.05687203791469194, 0.05714285714285714], 'recall': [0.5170833333333333, 0.505, 0.4866666666666667, 0.5025, 0.505], 'recall_class_0': [0.9925, 0.01, 0.015, 0.005, 0.01], 'recall_class_1': [0.041666666666666664, 1.0, 0.9583333333333334, 1.0, 1.0], 'accuracy': [0.9386792452830188, 0.0660377358490566, 0.06839622641509434, 0.06132075471698113, 0.0660377358490566]}\n"
      ],
      "metadata": {
        "id": "t_egL7-4hO-m"
      }
    },
    {
      "cell_type": "markdown",
      "source": [
        "# SVM Metrics:\n",
        "## bytecode\n",
        "### f1\n",
        "0.9055199039910018\n",
        "- class_0: 0.9897738299633513\n",
        "- class_1: 0.8212659780186525\n",
        "\n",
        "### precision\n",
        "0.9251758732888365\n",
        "- class_0: 0.9875885648886602\n",
        "- class_1: 0.8627631816890128\n",
        "### recall:\n",
        "0.8918333333333333\n",
        "- class_0: 0.992\n",
        "- class_1: 0.7916666666666667\n",
        "\n",
        "### accuracy\n",
        "0.9806603773584905\n",
        "\n",
        "{'f1': [0.9310419603165998, 0.9061185327330431, 0.9436874120115812, 0.8846676942605858, 0.8620839206331996], 'f1_class_0': [0.9925187032418954, 0.9887076537013803, 0.9937578027465668, 0.9888475836431228, 0.9850374064837906], 'f1_class_1': [0.8695652173913043, 0.823529411764706, 0.8936170212765957, 0.7804878048780487, 0.7391304347826088], 'precision': [0.949570330167345, 0.8851105513574027, 0.9527810907513824, 0.9607602254661078, 0.8776571687019448], 'precision_class_0': [0.9900497512437811, 0.9924433249370277, 0.9925187032418953, 0.9803439803439803, 0.9825870646766169], 'precision_class_1': [0.9090909090909091, 0.7777777777777778, 0.9130434782608695, 0.9411764705882353, 0.7727272727272727], 'recall': [0.9141666666666667, 0.9299999999999999, 0.935, 0.8320833333333333, 0.8479166666666667], 'recall_class_0': [0.995, 0.985, 0.995, 0.9975, 0.9875], 'recall_class_1': [0.8333333333333334, 0.875, 0.875, 0.6666666666666666, 0.7083333333333334], 'accuracy': [0.9858490566037735, 0.9787735849056604, 0.9882075471698113, 0.9787735849056604, 0.9716981132075472]}\n",
        "\n",
        "## source code\n",
        "### f1\n",
        "0.9406513820700221\n",
        "- class_0: 0.9932478011742841\n",
        "- class_1: 0.8880549629657597\n",
        "\n",
        "### precision\n",
        "0.9434709864142199\n",
        "- precision_class_0: 0.9929999438429327\n",
        "- precision_class_1: 0.8939420289855071\n",
        "\n",
        "### recall\n",
        "0.9384166666666667\n",
        "- recall_class_0: 0.9935\n",
        "- recall_class_1: 0.8833333333333334\n",
        "\n",
        "### accuracy\n",
        "0.9872641509433961\n",
        "\n",
        "{'f1': [0.9770139867722, 0.9558333333333333, 0.9458506806978111, 0.9436874120115812, 0.8808714975351843], 'f1_class_0': [0.9975062344139651, 0.995, 0.9937421777221527, 0.9937578027465668, 0.986232790988736], 'f1_class_1': [0.9565217391304348, 0.9166666666666666, 0.8979591836734694, 0.8936170212765957, 0.7755102040816326], 'precision': [0.9975124378109452, 0.9558333333333333, 0.9374937343358396, 0.9527810907513824, 0.873734335839599], 'precision_class_0': [0.9950248756218906, 0.995, 0.9949874686716792, 0.9925187032418953, 0.9874686716791979], 'precision_class_1': [1.0, 0.9166666666666666, 0.88, 0.9130434782608695, 0.76], 'recall': [0.9583333333333333, 0.9558333333333333, 0.9545833333333333, 0.935, 0.8883333333333333], 'recall_class_0': [1.0, 0.995, 0.9925, 0.995, 0.985], 'recall_class_1': [0.9166666666666666, 0.9166666666666666, 0.9166666666666666, 0.875, 0.7916666666666666], 'accuracy': [0.9952830188679245, 0.9905660377358491, 0.9882075471698113, 0.9882075471698113, 0.9740566037735849]}"
      ],
      "metadata": {
        "id": "0Dcb602IXsi6"
      }
    },
    {
      "cell_type": "markdown",
      "source": [
        "# RANDOM_FOREST Metrics:\n",
        "## bytecode\n",
        "### f1\n",
        "0.7228374979419485\n",
        "  - class_0: 0.9796454609027492\n",
        "  - f1_class_1: 0.46602953498114785\n",
        "\n",
        "### precision\n",
        "0.9800548495826105\n",
        "- class_0: 0.9601096991652207\n",
        "- class_1: 1.0\n",
        "\n",
        "### recall: 0.6536458333333333\n",
        "- class_0: 1.0\n",
        "- class_1: 0.30729166666666663\n",
        "\n",
        "###  accuracy\n",
        "0.9607900943396226\n",
        "\n",
        "{'f1': [0.7401960784313726, 0.7635248187395427, 0.7154025348442373, 0.7401960784313726, 0.7401960784313726, 0.6889975550122249, 0.7635248187395427, 0.6306620209059233], 'f1_class_0': [0.9803921568627451, 0.9815950920245399, 0.9791921664626683, 0.9803921568627451, 0.9803921568627451, 0.9779951100244498, 0.9815950920245399, 0.975609756097561], 'f1_class_1': [0.5, 0.5454545454545454, 0.45161290322580644, 0.5, 0.5, 0.4, 0.5454545454545454, 0.2857142857142857], 'precision': [0.9807692307692308, 0.9819277108433735, 0.9796163069544365, 0.9807692307692308, 0.9807692307692308, 0.9784688995215312, 0.9819277108433735, 0.9761904761904762], 'precision_class_0': [0.9615384615384616, 0.963855421686747, 0.9592326139088729, 0.9615384615384616, 0.9615384615384616, 0.9569377990430622, 0.963855421686747, 0.9523809523809523], 'precision_class_1': [1.0, 1.0, 1.0, 1.0, 1.0, 1.0, 1.0, 1.0], 'recall': [0.6666666666666666, 0.6875, 0.6458333333333334, 0.6666666666666666, 0.6666666666666666, 0.625, 0.6875, 0.5833333333333334], 'recall_class_0': [1.0, 1.0, 1.0, 1.0, 1.0, 1.0, 1.0, 1.0], 'recall_class_1': [0.3333333333333333, 0.375, 0.2916666666666667, 0.3333333333333333, 0.3333333333333333, 0.25, 0.375, 0.16666666666666666], 'accuracy': [0.9622641509433962, 0.964622641509434, 0.9599056603773585, 0.9622641509433962, 0.9622641509433962, 0.9575471698113207, 0.964622641509434, 0.9528301886792453]}\n",
        "\n",
        "## source code\n",
        "### f1\n",
        "0.7644306066844898\n",
        "- class_0: 0.98184395485267\n",
        "- class_1: 0.5470172585163098\n",
        "\n",
        "### precision\n",
        "0.9821750776660236\n",
        "- class_0: 0.9643501553320473\n",
        "- class_1: 1.0\n",
        "\n",
        "### recall\n",
        "0.6916666666666667\n",
        "- class_0: 1.0\n",
        "- class_1: 0.38333333333333336\n",
        "\n",
        "### accuracy\n",
        "0.9650943396226415\n",
        "\n",
        "{'f1': [0.8062906343349148, 0.785518138459315, 0.825944170771757, 0.6889975550122249, 0.7154025348442373], 'f1_class_0': [0.9840098400984011, 0.9828009828009828, 0.9852216748768473, 0.9779951100244498, 0.9791921664626683], 'f1_class_1': [0.6285714285714286, 0.5882352941176471, 0.6666666666666666, 0.4, 0.45161290322580644], 'precision': [0.9842615012106537, 0.9830917874396135, 0.9854368932038835, 0.9784688995215312, 0.9796163069544365], 'precision_class_0': [0.9685230024213075, 0.966183574879227, 0.970873786407767, 0.9569377990430622, 0.9592326139088729], 'precision_class_1': [1.0, 1.0, 1.0, 1.0, 1.0], 'recall': [0.7291666666666666, 0.7083333333333334, 0.75, 0.625, 0.6458333333333334], 'recall_class_0': [1.0, 1.0, 1.0, 1.0, 1.0], 'recall_class_1': [0.4583333333333333, 0.4166666666666667, 0.5, 0.25, 0.2916666666666667], 'accuracy': [0.9693396226415094, 0.9669811320754716, 0.9716981132075472, 0.9575471698113207, 0.9599056603773585]}"
      ],
      "metadata": {
        "id": "nu-ox1UcZ9NJ"
      }
    },
    {
      "cell_type": "markdown",
      "metadata": {
        "id": "pfau0JSPLYiD"
      },
      "source": [
        "# Random Forest:\n",
        "\n",
        "## bytecode:\n",
        "f1_macro: 0.8835164835164836\n",
        "\n",
        "precision_macro: 0.8716981132075471\n",
        "\n",
        "recall_macro: 0.9"
      ]
    },
    {
      "cell_type": "markdown",
      "source": [],
      "metadata": {
        "id": "J4HyFbDxtQFB"
      }
    },
    {
      "cell_type": "markdown",
      "source": [
        "# SVM Metrics:\n",
        "\n",
        "  ## bytecode\n",
        "  \n",
        "  f1: 0.8212659780186525\n",
        "\n",
        "  precision: 0.8627631816890128\n",
        "\n",
        "  recall: 0.7916666666666667\n",
        "\n",
        "  accuracy: 0.9806603773584905\n",
        "\n",
        "f1: [0.8695652173913043, 0.823529411764706, 0.8936170212765957, 0.7804878048780487, 0.7391304347826088]\n",
        "\n",
        "precision: [0.9090909090909091, 0.7777777777777778, 0.9130434782608695, 0.9411764705882353, 0.7727272727272727]\n",
        "\n",
        "recall: [0.8333333333333334, 0.875, 0.875, 0.6666666666666666, 0.7083333333333334]\n",
        "\n",
        "accuracy: [0.9858490566037735, 0.9787735849056604, 0.9882075471698113, 0.9787735849056604, 0.9716981132075472]\n",
        "\n",
        "  ## source code\n",
        "  f1: 0.8880549629657597\n",
        "\n",
        "  precision: 0.8939420289855071\n",
        "\n",
        "  recall: 0.8833333333333334\n",
        "\n",
        "  accuracy: 0.9872641509433961\n",
        "\n",
        "f1: [0.9565217391304348, 0.9166666666666666, 0.8979591836734694, 0.8936170212765957, 0.7755102040816326]\n",
        "\n",
        "precision: [1.0, 0.9166666666666666, 0.88, 0.9130434782608695, 0.76]\n",
        "\n",
        "recall: [0.9166666666666666, 0.9166666666666666, 0.9166666666666666, 0.875, 0.7916666666666666]\n",
        "\n",
        "accuracy: [0.9952830188679245, 0.9905660377358491, 0.9882075471698113, 0.9882075471698113, 0.9740566037735849]\n",
        "\n",
        "# RANDOM_FOREST Metrics:\n",
        "\n",
        "  ## bytecode\n",
        "  f1: 0.4594134897360703\n",
        "\n",
        "  precision: 1.0\n",
        "\n",
        "  recall: 0.3\n",
        "\n",
        "  accuracy: 0.960377358490566\n",
        "\n",
        "f1: [0.5454545454545454, 0.45161290322580644, 0.4, 0.5, 0.4]\n",
        "\n",
        "precision: [1.0, 1.0, 1.0, 1.0, 1.0]\n",
        "\n",
        "recall: [0.375, 0.2916666666666667, 0.25, 0.3333333333333333, 0.25]\n",
        "\n",
        "accuracy: [0.964622641509434, 0.9599056603773585, 0.9575471698113207, 0.9622641509433962, 0.9575471698113207]\n",
        "\n",
        "  ## sourcecode\n",
        "  f1: 0.5532792427315754\n",
        "\n",
        "  precision: 1.0\n",
        "\n",
        "  recall: 0.39166666666666666\n",
        "\n",
        "  accuracy: 0.965566037735849\n",
        "\n",
        "f1: [0.6666666666666666, 0.5882352941176471, 0.6666666666666666, 0.3448275862068966, 0.5]\n",
        "\n",
        "precision: [1.0, 1.0, 1.0, 1.0, 1.0]\n",
        "\n",
        "recall: [0.5, 0.4166666666666667, 0.5, 0.20833333333333334, 0.3333333333333333]\n",
        "\n",
        "accuracy: [0.9716981132075472, 0.9669811320754716, 0.9716981132075472, 0.9551886792452831, 0.9622641509433962]"
      ],
      "metadata": {
        "id": "dNB7wwFf0ap3"
      }
    },
    {
      "cell_type": "code",
      "source": [
        "import gc\n",
        "gc.collect()"
      ],
      "metadata": {
        "colab": {
          "base_uri": "https://localhost:8080/"
        },
        "id": "QvJaWGaitMaf",
        "outputId": "1fb04cd8-bc2c-4b8d-ab22-ffd656d895e6"
      },
      "execution_count": null,
      "outputs": [
        {
          "output_type": "execute_result",
          "data": {
            "text/plain": [
              "6605"
            ]
          },
          "metadata": {},
          "execution_count": 16
        }
      ]
    },
    {
      "cell_type": "code",
      "source": [
        "from sklearn.ensemble import RandomForestClassifier\n",
        "from sklearn.svm import SVC\n",
        "from sklearn.metrics import f1_score, precision_score, recall_score, accuracy_score\n",
        "from keras.models import Sequential\n",
        "from keras.layers import Dense\n",
        "import numpy as np\n",
        "from sklearn.naive_bayes import GaussianNB\n",
        "\n",
        "\n",
        "metrics = {\n",
        "    'f1': [],\n",
        "    'f1_class_0': [],\n",
        "    'f1_class_1': [],\n",
        "    'precision': [],\n",
        "    'precision_class_0': [],\n",
        "    'precision_class_1': [],\n",
        "    'recall': [],\n",
        "    'recall_class_0': [],\n",
        "    'recall_class_1': [],\n",
        "    'accuracy': []\n",
        "}\n",
        "\n",
        "split_data = {}\n",
        "for label in np.unique(y):\n",
        "    split_data[label] = np.array_split(X[y == label], 5)\n",
        "\n",
        "original_indices = np.arange(len(y))\n",
        "\n",
        "split_indices = {}  # split_dataと同様にこのインデックス配列も分割\n",
        "for label in np.unique(y):\n",
        "    split_indices[label] = np.array_split(original_indices[y == label], 5)\n",
        "\n",
        "failed_files = {'iteration_{}'.format(i+1): [] for i in range(5)}\n",
        "\n",
        "for i in range(5):\n",
        "    train_data = []\n",
        "    test_data = []\n",
        "    train_labels = []\n",
        "    test_labels = []\n",
        "\n",
        "    for label, splits in split_data.items():\n",
        "        test_data.append(splits[i])\n",
        "        test_labels.extend([label] * len(splits[i]))\n",
        "\n",
        "        for j, split in enumerate(splits):\n",
        "            if j != i:\n",
        "                train_data.append(split)\n",
        "                train_labels.extend([label] * len(split))\n",
        "\n",
        "    test_indices = []  # このイテレーションのテストデータのインデックスを保持するためのリスト\n",
        "    for label, indices_splits in split_indices.items():\n",
        "        test_indices.extend(indices_splits[i])\n",
        "\n",
        "    X_train, y_train = np.vstack(train_data), np.array(train_labels)\n",
        "    X_test, y_test = np.vstack(test_data), np.array(test_labels)\n",
        "\n",
        "    # SVM\n",
        "    svm_model = SVC(kernel=\"linear\")\n",
        "    svm_model.fit(X_train, y_train)\n",
        "    y_pred = svm_model.predict(X_test)\n",
        "\n",
        "    failed_indices = [idx for idx, (true, pred) in enumerate(zip(y_test, y_pred)) if true != pred]  # 予測が失敗したインデックスを取得\n",
        "    failed_files['iteration_{}'.format(i+1)] = [file_names[test_indices[idx]] for idx in failed_indices]  # 失敗したファイル名を取得\n",
        "\n",
        "    metrics['f1'].append(f1_score(y_test, y_pred, average='macro'))\n",
        "    metrics['f1_class_0'].append(f1_score(y_test, y_pred, pos_label=0))\n",
        "    metrics['f1_class_1'].append(f1_score(y_test, y_pred, pos_label=1))\n",
        "\n",
        "    metrics['precision'].append(precision_score(y_test, y_pred, average='macro'))\n",
        "    metrics['precision_class_0'].append(precision_score(y_test, y_pred, pos_label=0))\n",
        "    metrics['precision_class_1'].append(precision_score(y_test, y_pred, pos_label=1))\n",
        "\n",
        "    metrics['recall'].append(recall_score(y_test, y_pred, average='macro'))\n",
        "    metrics['recall_class_0'].append(recall_score(y_test, y_pred, pos_label=0))\n",
        "    metrics['recall_class_1'].append(recall_score(y_test, y_pred, pos_label=1))\n",
        "\n",
        "    metrics['accuracy'].append(accuracy_score(y_test, y_pred))\n",
        "\n",
        "# Output average metrics\n",
        "for metric, values in metrics.items():\n",
        "    print(f\"  {metric}: {values}\")\n",
        "print(failed_files)"
      ],
      "metadata": {
        "colab": {
          "base_uri": "https://localhost:8080/"
        },
        "id": "vR6aT7t8IEGj",
        "outputId": "3ffe8c82-c3d1-4abf-ccba-ca8f93045abd"
      },
      "execution_count": null,
      "outputs": [
        {
          "output_type": "stream",
          "name": "stdout",
          "text": [
            "  f1: [0.9770139867722, 0.9558333333333333, 0.9458506806978111, 0.9436874120115812, 0.8808714975351843]\n",
            "  f1_class_0: [0.9975062344139651, 0.995, 0.9937421777221527, 0.9937578027465668, 0.986232790988736]\n",
            "  f1_class_1: [0.9565217391304348, 0.9166666666666666, 0.8979591836734694, 0.8936170212765957, 0.7755102040816326]\n",
            "  precision: [0.9975124378109452, 0.9558333333333333, 0.9374937343358396, 0.9527810907513824, 0.873734335839599]\n",
            "  precision_class_0: [0.9950248756218906, 0.995, 0.9949874686716792, 0.9925187032418953, 0.9874686716791979]\n",
            "  precision_class_1: [1.0, 0.9166666666666666, 0.88, 0.9130434782608695, 0.76]\n",
            "  recall: [0.9583333333333333, 0.9558333333333333, 0.9545833333333333, 0.935, 0.8883333333333333]\n",
            "  recall_class_0: [1.0, 0.995, 0.9925, 0.995, 0.985]\n",
            "  recall_class_1: [0.9166666666666666, 0.9166666666666666, 0.9166666666666666, 0.875, 0.7916666666666666]\n",
            "  accuracy: [0.9952830188679245, 0.9905660377358491, 0.9882075471698113, 0.9882075471698113, 0.9740566037735849]\n",
            "{'iteration_1': ['f7011d600e572408464b881684b3540e61b29962dc8f860a1edc579c804064c7.py', '__init__-6.py'], 'iteration_2': ['TheKingOfDuck-fuzzDicts-RW_Password.py', 'nltk-nltk-nemo_app.py', '_jellyfish.py', 'send.py'], 'iteration_3': ['buckyroberts-Source-Code-from-Tutorials-30_PythonGameDevelopment.py', 'mesonbuild-meson-build_windows_package.py', 'Komodo-KomodoEdit-spider.py', 'suffer.py', '1ae2e2db4152eb0047d36f4720ac50fa710c9018b8a417f0e5421c26c242cfa7.py'], 'iteration_4': ['buckyroberts-Source-Code-from-Tutorials-15_python.py', 'mailpile-Mailpile.git-setup_magic_ispdb.py', 'setup-9.py', 'bs4tools.py', 'setup-3.py'], 'iteration_5': ['statsmodels-statsmodels-results_betareg.py', 'marticliment-WingetUI-generate_excel_from_json.py', 'TyrantLucifer-ssr-command-client.git-local.py', 'facebookresearch-pifuhd-render_turntable.py', 'ZiniuLu-Python-100-Days-timeserver.py', 'statsmodels-statsmodels-results_grunfeld_ols_robust_cluster.py', 'ctx.py', 'dist_util.py', '5f5da61514c36d93e8b684796b0aec07fa3120c8dd5560ab74768320bcf6b366.py', 'horni-1.py', '__init__-20.py']}\n"
          ]
        }
      ]
    },
    {
      "cell_type": "code",
      "source": [
        "for iteration, data in failed_files.items():\n",
        "    if len(data['true_labels']) > 0:\n",
        "        precision = precision_score(data['true_labels'], data['predicted_labels'])\n",
        "        recall = recall_score(data['true_labels'], data['predicted_labels'])\n",
        "        print(f\"{iteration} - Precision for failed files: {precision}, Recall for failed files: {recall}\")\n",
        "    else:\n",
        "        print(f\"{iteration} - No failed files\")"
      ],
      "metadata": {
        "colab": {
          "base_uri": "https://localhost:8080/"
        },
        "id": "dTGnD1EEORVm",
        "outputId": "a93f4832-0e02-408e-f070-cbd5739dc761"
      },
      "execution_count": null,
      "outputs": [
        {
          "output_type": "stream",
          "name": "stdout",
          "text": [
            "iteration_1 - Precision for failed files: 0.0, Recall for failed files: 0.0\n",
            "iteration_2 - Precision for failed files: 0.0, Recall for failed files: 0.0\n",
            "iteration_3 - Precision for failed files: 0.0, Recall for failed files: 0.0\n",
            "iteration_4 - Precision for failed files: 0.0, Recall for failed files: 0.0\n",
            "iteration_5 - Precision for failed files: 0.0, Recall for failed files: 0.0\n"
          ]
        },
        {
          "output_type": "stream",
          "name": "stderr",
          "text": [
            "/usr/local/lib/python3.10/dist-packages/sklearn/metrics/_classification.py:1344: UndefinedMetricWarning: Precision is ill-defined and being set to 0.0 due to no predicted samples. Use `zero_division` parameter to control this behavior.\n",
            "  _warn_prf(average, modifier, msg_start, len(result))\n"
          ]
        }
      ]
    },
    {
      "cell_type": "code",
      "source": [
        "for metric, values in metrics.items():\n",
        "    print(f\"  {metric}: {values}\")"
      ],
      "metadata": {
        "colab": {
          "base_uri": "https://localhost:8080/"
        },
        "id": "QbsSceD2LPRl",
        "outputId": "fa4aa2c9-b99e-4c00-b9cc-1ef5ca86997d"
      },
      "execution_count": null,
      "outputs": [
        {
          "output_type": "stream",
          "name": "stdout",
          "text": [
            "  f1: [0.9310419603165998, 0.9061185327330431, 0.9436874120115812, 0.8846676942605858, 0.8620839206331996]\n",
            "  f1_class_0: [0.9925187032418954, 0.9887076537013803, 0.9937578027465668, 0.9888475836431228, 0.9850374064837906]\n",
            "  f1_class_1: [0.8695652173913043, 0.823529411764706, 0.8936170212765957, 0.7804878048780487, 0.7391304347826088]\n",
            "  precision: [0.949570330167345, 0.8851105513574027, 0.9527810907513824, 0.9607602254661078, 0.8776571687019448]\n",
            "  precision_class_0: [0.9900497512437811, 0.9924433249370277, 0.9925187032418953, 0.9803439803439803, 0.9825870646766169]\n",
            "  precision_class_1: [0.9090909090909091, 0.7777777777777778, 0.9130434782608695, 0.9411764705882353, 0.7727272727272727]\n",
            "  recall: [0.9141666666666667, 0.9299999999999999, 0.935, 0.8320833333333333, 0.8479166666666667]\n",
            "  recall_class_0: [0.995, 0.985, 0.995, 0.9975, 0.9875]\n",
            "  recall_class_1: [0.8333333333333334, 0.875, 0.875, 0.6666666666666666, 0.7083333333333334]\n",
            "  accuracy: [0.9858490566037735, 0.9787735849056604, 0.9882075471698113, 0.9787735849056604, 0.9716981132075472]\n"
          ]
        }
      ]
    },
    {
      "cell_type": "code",
      "execution_count": null,
      "metadata": {
        "colab": {
          "base_uri": "https://localhost:8080/",
          "height": 412
        },
        "id": "IZTrI0kxLOb7",
        "outputId": "24e83808-7ba9-48a6-bc01-38721bc697ca"
      },
      "outputs": [
        {
          "output_type": "stream",
          "name": "stdout",
          "text": [
            "20/20 [==============================] - 0s 16ms/step\n"
          ]
        },
        {
          "output_type": "error",
          "ename": "InternalError",
          "evalue": "ignored",
          "traceback": [
            "\u001b[0;31m---------------------------------------------------------------------------\u001b[0m",
            "\u001b[0;31mInternalError\u001b[0m                             Traceback (most recent call last)",
            "\u001b[0;32m<ipython-input-13-f8471c749c54>\u001b[0m in \u001b[0;36m<cell line: 16>\u001b[0;34m()\u001b[0m\n\u001b[1;32m     28\u001b[0m \u001b[0;34m\u001b[0m\u001b[0m\n\u001b[1;32m     29\u001b[0m     \u001b[0;31m# 訓練\u001b[0m\u001b[0;34m\u001b[0m\u001b[0;34m\u001b[0m\u001b[0m\n\u001b[0;32m---> 30\u001b[0;31m     \u001b[0mautoencoder\u001b[0m\u001b[0;34m.\u001b[0m\u001b[0mfit\u001b[0m\u001b[0;34m(\u001b[0m\u001b[0mX_train\u001b[0m\u001b[0;34m,\u001b[0m \u001b[0mX_train\u001b[0m\u001b[0;34m,\u001b[0m \u001b[0mepochs\u001b[0m\u001b[0;34m=\u001b[0m\u001b[0;36m50\u001b[0m\u001b[0;34m,\u001b[0m \u001b[0mbatch_size\u001b[0m\u001b[0;34m=\u001b[0m\u001b[0;36m256\u001b[0m\u001b[0;34m,\u001b[0m \u001b[0mshuffle\u001b[0m\u001b[0;34m=\u001b[0m\u001b[0;32mTrue\u001b[0m\u001b[0;34m,\u001b[0m \u001b[0mverbose\u001b[0m\u001b[0;34m=\u001b[0m\u001b[0;36m0\u001b[0m\u001b[0;34m)\u001b[0m\u001b[0;34m\u001b[0m\u001b[0;34m\u001b[0m\u001b[0m\n\u001b[0m\u001b[1;32m     31\u001b[0m \u001b[0;34m\u001b[0m\u001b[0m\n\u001b[1;32m     32\u001b[0m     \u001b[0;31m# 再構成誤差\u001b[0m\u001b[0;34m\u001b[0m\u001b[0;34m\u001b[0m\u001b[0m\n",
            "\u001b[0;32m/usr/local/lib/python3.10/dist-packages/keras/src/utils/traceback_utils.py\u001b[0m in \u001b[0;36merror_handler\u001b[0;34m(*args, **kwargs)\u001b[0m\n\u001b[1;32m     68\u001b[0m             \u001b[0;31m# To get the full stack trace, call:\u001b[0m\u001b[0;34m\u001b[0m\u001b[0;34m\u001b[0m\u001b[0m\n\u001b[1;32m     69\u001b[0m             \u001b[0;31m# `tf.debugging.disable_traceback_filtering()`\u001b[0m\u001b[0;34m\u001b[0m\u001b[0;34m\u001b[0m\u001b[0m\n\u001b[0;32m---> 70\u001b[0;31m             \u001b[0;32mraise\u001b[0m \u001b[0me\u001b[0m\u001b[0;34m.\u001b[0m\u001b[0mwith_traceback\u001b[0m\u001b[0;34m(\u001b[0m\u001b[0mfiltered_tb\u001b[0m\u001b[0;34m)\u001b[0m \u001b[0;32mfrom\u001b[0m \u001b[0;32mNone\u001b[0m\u001b[0;34m\u001b[0m\u001b[0;34m\u001b[0m\u001b[0m\n\u001b[0m\u001b[1;32m     71\u001b[0m         \u001b[0;32mfinally\u001b[0m\u001b[0;34m:\u001b[0m\u001b[0;34m\u001b[0m\u001b[0;34m\u001b[0m\u001b[0m\n\u001b[1;32m     72\u001b[0m             \u001b[0;32mdel\u001b[0m \u001b[0mfiltered_tb\u001b[0m\u001b[0;34m\u001b[0m\u001b[0;34m\u001b[0m\u001b[0m\n",
            "\u001b[0;32m/usr/local/lib/python3.10/dist-packages/tensorflow/python/framework/constant_op.py\u001b[0m in \u001b[0;36mconvert_to_eager_tensor\u001b[0;34m(value, ctx, dtype)\u001b[0m\n\u001b[1;32m    101\u001b[0m       \u001b[0mdtype\u001b[0m \u001b[0;34m=\u001b[0m \u001b[0mdtypes\u001b[0m\u001b[0;34m.\u001b[0m\u001b[0mas_dtype\u001b[0m\u001b[0;34m(\u001b[0m\u001b[0mdtype\u001b[0m\u001b[0;34m)\u001b[0m\u001b[0;34m.\u001b[0m\u001b[0mas_datatype_enum\u001b[0m\u001b[0;34m\u001b[0m\u001b[0;34m\u001b[0m\u001b[0m\n\u001b[1;32m    102\u001b[0m   \u001b[0mctx\u001b[0m\u001b[0;34m.\u001b[0m\u001b[0mensure_initialized\u001b[0m\u001b[0;34m(\u001b[0m\u001b[0;34m)\u001b[0m\u001b[0;34m\u001b[0m\u001b[0;34m\u001b[0m\u001b[0m\n\u001b[0;32m--> 103\u001b[0;31m   \u001b[0;32mreturn\u001b[0m \u001b[0mops\u001b[0m\u001b[0;34m.\u001b[0m\u001b[0mEagerTensor\u001b[0m\u001b[0;34m(\u001b[0m\u001b[0mvalue\u001b[0m\u001b[0;34m,\u001b[0m \u001b[0mctx\u001b[0m\u001b[0;34m.\u001b[0m\u001b[0mdevice_name\u001b[0m\u001b[0;34m,\u001b[0m \u001b[0mdtype\u001b[0m\u001b[0;34m)\u001b[0m\u001b[0;34m\u001b[0m\u001b[0;34m\u001b[0m\u001b[0m\n\u001b[0m\u001b[1;32m    104\u001b[0m \u001b[0;34m\u001b[0m\u001b[0m\n\u001b[1;32m    105\u001b[0m \u001b[0;34m\u001b[0m\u001b[0m\n",
            "\u001b[0;31mInternalError\u001b[0m: Failed copying input tensor from /job:localhost/replica:0/task:0/device:CPU:0 to /job:localhost/replica:0/task:0/device:GPU:0 in order to run _EagerConst: Dst tensor is not initialized."
          ]
        }
      ],
      "source": [
        "from keras.models import Sequential\n",
        "from keras.layers import Dense\n",
        "from sklearn.model_selection import StratifiedKFold\n",
        "from sklearn.metrics import f1_score, precision_score, recall_score\n",
        "import numpy as np\n",
        "\n",
        "# クロスバリデーションの設定\n",
        "kf = StratifiedKFold(n_splits=5)\n",
        "f1_scores = []\n",
        "precision_scores = []\n",
        "recall_scores = []\n",
        "\n",
        "casted_labels = np.array(labels)\n",
        "casted_text_vectors = np.array(text_vectors)\n",
        "\n",
        "for train_index, test_index in kf.split(casted_text_vectors, casted_labels):\n",
        "    X_train, X_test = casted_text_vectors[train_index], casted_text_vectors[test_index]\n",
        "    y_train, y_test = casted_labels[train_index], casted_labels[test_index]\n",
        "\n",
        "    # オートエンコーダの設定\n",
        "    input_dim = X_train.shape[1]\n",
        "    encoding_dim = 64\n",
        "\n",
        "    autoencoder = Sequential()\n",
        "    autoencoder.add(Dense(encoding_dim, activation='relu', input_shape=(input_dim,)))\n",
        "    autoencoder.add(Dense(input_dim, activation='sigmoid'))\n",
        "    autoencoder.compile(optimizer='adam', loss='mean_squared_error')\n",
        "\n",
        "    # 訓練\n",
        "    autoencoder.fit(X_train, X_train, epochs=50, batch_size=256, shuffle=True, verbose=0)\n",
        "\n",
        "    # 再構成誤差\n",
        "    reconstruction_error = np.mean(np.power(X_test - autoencoder.predict(X_test), 2), axis=1)\n",
        "    threshold = np.percentile(reconstruction_error, 95)\n",
        "    y_pred = [1 if e > threshold else 0 for e in reconstruction_error]\n",
        "\n",
        "    f1 = f1_score(y_test, y_pred, average='macro')\n",
        "    f1_scores.append(f1)\n",
        "\n",
        "    precision = precision_score(y_test, y_pred, average='macro')\n",
        "    precision_scores.append(precision)\n",
        "\n",
        "    recall = recall_score(y_test, y_pred, average='macro')\n",
        "    recall_scores.append(recall)\n",
        "\n",
        "print(\"Autoencoder:\")\n",
        "print(f\"F1: {np.mean(f1_scores)}\")\n",
        "print(f\"Precision: {np.mean(precision_scores)}\")\n",
        "print(f\"Recall: {np.mean(recall_scores)}\")\n"
      ]
    },
    {
      "cell_type": "code",
      "execution_count": null,
      "metadata": {
        "colab": {
          "base_uri": "https://localhost:8080/"
        },
        "id": "Zzf7EzOqVXM6",
        "outputId": "a654354b-82d2-4b59-ff58-0ea6a2810baa"
      },
      "outputs": [
        {
          "data": {
            "text/plain": [
              "['setup-1.txt',\n",
              " 'yellow.txt',\n",
              " 'suffer.txt',\n",
              " 'setup-2.txt',\n",
              " 'setup-3.txt',\n",
              " 'setup-7.txt',\n",
              " 'ctx.txt',\n",
              " 'setup-6.txt',\n",
              " 'setup-4.txt',\n",
              " 'aryi.txt',\n",
              " 'setup-5.txt',\n",
              " 'horni.txt',\n",
              " '__init__-5.txt',\n",
              " 'setup-25.txt',\n",
              " 'setup-31.txt',\n",
              " 'setup-19.txt',\n",
              " 'setup-18.txt',\n",
              " 'setup-30.txt',\n",
              " 'setup-24.txt',\n",
              " 'selemium.txt',\n",
              " 'functions.txt',\n",
              " '__init__-4.txt',\n",
              " '__init__-6.txt',\n",
              " 'setup-32.txt',\n",
              " 'setup-26.txt',\n",
              " 'setup-27.txt',\n",
              " 'setup-33.txt',\n",
              " '__init__-7.txt',\n",
              " '__init__-3.txt',\n",
              " 'setup-37.txt',\n",
              " 'setup-23.txt',\n",
              " 'setup-22.txt',\n",
              " 'setup-36.txt',\n",
              " '__init__-2.txt',\n",
              " 'setup-20.txt',\n",
              " 'setup-34.txt',\n",
              " 'setup-35.txt',\n",
              " 'setup-21.txt',\n",
              " '__init__-1.txt',\n",
              " 'setup-10.txt',\n",
              " 'setup-38.txt',\n",
              " 'collored.txt',\n",
              " 'setup-39.txt',\n",
              " 'setup-11.txt',\n",
              " '_jellyfish.txt',\n",
              " 'setup-13.txt',\n",
              " 'setup-12.txt',\n",
              " 'setup-16.txt',\n",
              " 'bs4tools.txt',\n",
              " 'setup-17.txt',\n",
              " 'send.txt',\n",
              " '__init__-9.txt',\n",
              " 'setup-29.txt',\n",
              " 'setup-15.txt',\n",
              " 'setup-14.txt',\n",
              " 'setup-28.txt',\n",
              " '__init__-8.txt',\n",
              " 'setup-8.txt',\n",
              " '__init__.txt',\n",
              " '__init__-10.txt',\n",
              " 'pr.txt',\n",
              " '__main__-1.txt',\n",
              " '__init__-11.txt',\n",
              " 'setup-9.txt',\n",
              " '__init__-13.txt',\n",
              " '__init__-12.txt',\n",
              " 'dist_util.txt',\n",
              " 'setup.txt',\n",
              " '__init__-14.txt',\n",
              " '__main__.txt']"
            ]
          },
          "execution_count": 30,
          "metadata": {},
          "output_type": "execute_result"
        }
      ],
      "source": [
        "dataframe[\"file_name\"].tolist()"
      ]
    },
    {
      "cell_type": "code",
      "execution_count": null,
      "metadata": {
        "colab": {
          "base_uri": "https://localhost:8080/"
        },
        "id": "ZI1nW4LzgV8M",
        "outputId": "4c6285c7-ab0e-44d9-ba0b-cc3fe31f7f16"
      },
      "outputs": [
        {
          "output_type": "execute_result",
          "data": {
            "text/plain": [
              "['/content/gdrive/My Drive/svm_model_source_code_learn.joblib']"
            ]
          },
          "metadata": {},
          "execution_count": 24
        }
      ],
      "source": [
        "from joblib import dump, load\n",
        "\n",
        "# save\n",
        "dump(svm_classifier, os.path.join(PATH_MYDRIVE, \"svm_model_source_code_learn.joblib\"))\n",
        "\n",
        "# # load\n",
        "# svm_classifier = load(os.path.join(PATH_MYDRIVE, \"svm_model_v9.joblib\"))"
      ]
    },
    {
      "cell_type": "code",
      "execution_count": null,
      "metadata": {
        "id": "gAy7SAnFagAz"
      },
      "outputs": [],
      "source": [
        "# def print_classified_data(X_test, y_test, y_pred, labels, original_texts, idx_test):\n",
        "#     for label in labels:\n",
        "#         print(f\"ラベル {label} に分類されたデータ:\")\n",
        "#         classified_indices = [i for i, pred_label in enumerate(y_pred) if pred_label == label]\n",
        "#         classified_texts = [original_texts[idx_test[i]] for i in classified_indices]\n",
        "#         print(classified_texts)\n",
        "\n",
        "#         for idx, (true_label, pred_label, text) in enumerate(zip(np.take(y_test, classified_indices), np.take(y_pred, classified_indices), classified_texts)):\n",
        "#             original_idx = idx_test[classified_indices[idx]]\n",
        "#             print(f\"Index: {idx}, 元のインデックス: {original_idx}, 正解ラベル: {true_label}, 予測ラベル: {pred_label}, テキスト: {text}\")\n",
        "#         print()\n",
        "# # テストデータに対応するオリジナルのテキストデータを用意する\n",
        "# original_test_texts = [texts_list[i] for i in idx_test]\n",
        "# 分類されたデータを表示\n",
        "# print_classified_data(X_test, y_test, y_pred, set(labels), texts_list, idx_test)\n",
        "\n",
        "def failed_indices(y_true, y_pred):\n",
        "    failed_indices_0 = []\n",
        "    failed_indices_1 = []\n",
        "\n",
        "    for i, (true_label, pred_label) in enumerate(zip(y_true, y_pred)):\n",
        "        if true_label == 0 and pred_label != 0:\n",
        "            failed_indices_0.append(i)\n",
        "        elif true_label == 1 and pred_label != 1:\n",
        "            failed_indices_1.append(i)\n",
        "\n",
        "    return failed_indices_0, failed_indices_1\n",
        "\n",
        "incorrect_indices = failed_indices(y_test, y_pred)"
      ]
    },
    {
      "cell_type": "code",
      "execution_count": null,
      "metadata": {
        "colab": {
          "base_uri": "https://localhost:8080/"
        },
        "id": "uz2gjjRECTE3",
        "outputId": "529d5ca9-08c5-46df-abf2-2538d0e4e81e"
      },
      "outputs": [
        {
          "output_type": "stream",
          "name": "stdout",
          "text": [
            "[812, 1091, 239, 1121, 1163, 1270, 1106, 1912, 829, 422, 1120, 544, 786, 1009, 807, 420, 1600, 1480, 339, 2089, 1814, 1845, 490, 2029, 810, 776, 1987, 1389, 1079, 533, 1386, 1414, 1654, 1262, 1088, 708, 882, 1924, 357, 1172, 814, 828, 1505, 356, 991, 1002, 1279, 469, 586, 1143, 1533, 1722, 2084, 2010, 1895]\n",
            "edgedb-edgedb-gen_test_dumps.txt\n",
            "saltstack-salt-elasticsearch_index.txt\n",
            "Komodo-KomodoEdit-NULL.txt\n",
            "gevent-gevent-test_ftplib.txt\n",
            "explosion-spaCy-__init__.txt\n",
            "pre-commit-pre-commit-clientlib_test.txt\n",
            "adap-flower-connection_test.txt\n",
            "aws-chalice-app.txt\n",
            "janeczku-calibre-web-cache_buster.txt\n",
            "aws-chalice-test_eventbased.txt\n",
            "chainer-chainer-random.txt\n",
            "google-nogotofail-app_blame.txt\n",
            "Yelp-elastalert-kibana_discover.txt\n",
            "fnmsd-MySQL_Fake_Server.git-base.txt\n",
            "open-mmlab-mmaction2-slowonly_r50_video_4x16x1_256e_kinetics400_rgb.txt\n",
            "saltstack-salt-influxdb08_user.txt\n",
            "prowler-cloud-prowler-shield_advanced_protection_in_global_accelerators_test.txt\n",
            "saltstack-salt-napalm.txt\n",
            "rembo10-headphones-pipeline.txt\n",
            "open-mmlab-mmaction2-slowonly_r50_randomresizedcrop_320p_4x16x1_256e_kinetics400_rgb.txt\n",
            "NVlabs-stylegan2-util.txt\n",
            "mikf-gallery-dl-ytdl.txt\n",
            "bentoml-BentoML-__init__.txt\n",
            "saltstack-salt-infoblox_host_record.txt\n",
            "thonny-thonny-terminal.txt\n",
            "bbfamily-abu-ABuSymbol.txt\n",
            "nodejs-node-gyp-msvs.txt\n",
            "PyCQA-bandit-insecure_ssl_tls.txt\n",
            "edgedb-edgedb-astexpr.txt\n",
            "viewfinderco-viewfinder.git-gen.txt\n",
            "n1nj4sec-pupy-obfs3_dh.txt\n",
            "tychxn-jd-assistant-util.txt\n",
            "explosion-spaCy-push.txt\n",
            "openstack-nova-test_pci_device.txt\n",
            "tianzhi0549-FCOS-loss.txt\n",
            "AXErunners-electrum-axe.git-digitalbitbox.txt\n",
            "pypi-warehouse-check.txt\n",
            "n1nj4sec-pupy-servers.txt\n",
            "viewfinderco-viewfinder.git-httpclient0.txt\n",
            "zju3dv-EasyMocap-base.txt\n",
            "explosion-spaCy-tokenizer_exceptions.txt\n",
            "huggingface-transformers-residue_constants.txt\n",
            "spyder-ide-spyder-utils.txt\n",
            "gevent-gevent-test_select.txt\n",
            "OctoPrint-OctoPrint-__init__.txt\n",
            "celery-celery-filesystem.txt\n",
            "openstack-nova-fake_block_device.txt\n",
            "OctoPrint-OctoPrint-users.txt\n",
            "open-mmlab-mmaction2-slowonly_r50_8x8x1_256e_minikinetics_webimage_rgb.txt\n",
            "viewfinderco-viewfinder.git-httpclient.txt\n",
            "DataDog-dd-trace-py.git-pin.txt\n",
            "chainer-chainer-gru.txt\n",
            "thu-ml-zhusuan-vae_conv.txt\n",
            "bbfamily-abu-ABuDataParser.txt\n",
            "facebook-PathPicker-formatted_text.txt\n"
          ]
        }
      ],
      "source": [
        "# クラス1で失敗を表示\n",
        "original_indices = [idx_test[i] for i in incorrect_indices[0]]\n",
        "print(original_indices)\n",
        "file_names = dataframe[\"file_name\"].tolist()\n",
        "for idx in original_indices:\n",
        "    print(file_names[idx])"
      ]
    },
    {
      "cell_type": "code",
      "execution_count": null,
      "metadata": {
        "id": "yZZTt9u1b1_A"
      },
      "outputs": [],
      "source": [
        "import numpy as np\n",
        "import matplotlib.pyplot as plt\n",
        "from sklearn.decomposition import PCA\n",
        "import matplotlib"
      ]
    },
    {
      "cell_type": "code",
      "execution_count": null,
      "metadata": {
        "id": "AqQdMQl1b4ke"
      },
      "outputs": [],
      "source": [
        "# def plot_vectors(vectors, labels, idx_test=None, only_test_data=False, title=\"2D plot of BERT vectors\"):\n",
        "#     if only_test_data and idx_test is not None:\n",
        "#         vectors = [vectors[i] for i in idx_test]\n",
        "#         labels = [labels[i] for i in idx_test]\n",
        "#         indices = idx_test\n",
        "#     else:\n",
        "#         indices = list(range(len(vectors)))\n",
        "\n",
        "#     pca = PCA(n_components=2)\n",
        "#     reduced_vectors = pca.fit_transform(vectors)\n",
        "\n",
        "#     fig, ax = plt.subplots()\n",
        "\n",
        "#     scatter = ax.scatter(reduced_vectors[:, 0], reduced_vectors[:, 1], c=labels, cmap=matplotlib.colormaps.get_cmap(\"viridis\"))\n",
        "\n",
        "#     plt.colorbar(scatter, ticks=range(2), format=\"Class %d\", ax=ax)\n",
        "\n",
        "#     for index, vec in zip(indices, reduced_vectors):\n",
        "#         ax.annotate((vec[0], vec[1]))\n",
        "\n",
        "#     plt.title(title)\n",
        "#     plt.xlabel(\"First Principal Component\")\n",
        "#     plt.ylabel(\"Second Principal Component\")\n",
        "#     plt.show()\n",
        "\n",
        "def plot_vectors(vectors, labels, title=\"2D plot of BERT vectors\"):\n",
        "    pca = PCA(n_components=2)\n",
        "    reduced_vectors = pca.fit_transform(vectors)\n",
        "\n",
        "    # 散布図のプロット\n",
        "    plt.scatter(reduced_vectors[:, 0], reduced_vectors[:, 1], c=labels, cmap=plt.cm.get_cmap(\"viridis\", 2))\n",
        "    plt.colorbar(ticks=range(2), format=\"Class %d\")\n",
        "    plt.clim(-0.5, 1.5)\n",
        "\n",
        "    plt.title(title)\n",
        "    plt.xlabel(\"First Principal Component\")\n",
        "    plt.ylabel(\"Second Principal Component\")\n",
        "    plt.show()"
      ]
    },
    {
      "cell_type": "code",
      "execution_count": null,
      "metadata": {
        "id": "3JI9y7br2nI2"
      },
      "outputs": [],
      "source": [
        "def plot_vectors(vectors, labels, title=\"2D plot of BERT vectors\"):\n",
        "    pca = PCA(n_components=2)\n",
        "    reduced_vectors = pca.fit_transform(vectors)\n",
        "\n",
        "    # 散布図のプロット\n",
        "    for idx, coord in enumerate(reduced_vectors):\n",
        "        plt.scatter(coord[0], coord[1], marker='o' if labels[idx] == 0 else 'x', s=50, c='b' if labels[idx] == 0 else 'r')\n",
        "\n",
        "    plt.title(title)\n",
        "    plt.xlabel(\"First Principal Component\")\n",
        "    plt.ylabel(\"Second Principal Component\")\n",
        "    plt.show()\n"
      ]
    },
    {
      "cell_type": "code",
      "execution_count": null,
      "metadata": {
        "colab": {
          "base_uri": "https://localhost:8080/",
          "height": 472
        },
        "id": "9euK6dNob8PH",
        "outputId": "98820d3a-ecb3-44d2-eca5-90fa30e3beb0"
      },
      "outputs": [
        {
          "data": {
            "image/png": "[encoded data removed]",
            "text/plain": [
              "<Figure size 640x480 with 1 Axes>"
            ]
          },
          "metadata": {},
          "output_type": "display_data"
        }
      ],
      "source": [
        "# plot_vectors(text_vectors, labels, idx_test=idx_test, only_test_data=True)\n",
        "plot_vectors(text_vectors, labels)"
      ]
    },
    {
      "cell_type": "code",
      "execution_count": null,
      "metadata": {
        "colab": {
          "base_uri": "https://localhost:8080/",
          "height": 472
        },
        "id": "5rmrzN61FosQ",
        "outputId": "aa122bc7-5470-46cc-8b46-a03642e8bdee"
      },
      "outputs": [
        {
          "data": {
            "image/png": "[encoded data removed]",
            "text/plain": [
              "<Figure size 640x480 with 1 Axes>"
            ]
          },
          "metadata": {},
          "output_type": "display_data"
        }
      ],
      "source": [
        "def plot_vectors_class1(vectors, labels, title=\"2D plot of BERT vectors\"):\n",
        "    pca = PCA(n_components=2)\n",
        "    reduced_vectors = pca.fit_transform(vectors)\n",
        "\n",
        "    # 散布図のプロット\n",
        "    for idx, coord in enumerate(reduced_vectors):\n",
        "        if labels[idx] == 1:\n",
        "            plt.scatter(coord[0], coord[1], marker='x', s=50, c='r')\n",
        "\n",
        "    plt.title(title)\n",
        "    plt.xlabel(\"First Principal Component\")\n",
        "    plt.ylabel(\"Second Principal Component\")\n",
        "    plt.show()\n",
        "\n",
        "plot_vectors_class1(text_vectors, labels)"
      ]
    },
    {
      "cell_type": "code",
      "execution_count": null,
      "metadata": {
        "colab": {
          "base_uri": "https://localhost:8080/",
          "height": 472
        },
        "id": "9X6gA5y0Fyin",
        "outputId": "ae7de9b2-2686-4928-f892-c01d6a1b0a81"
      },
      "outputs": [
        {
          "data": {
            "image/png": "[encoded data removed]",
            "text/plain": [
              "<Figure size 640x480 with 1 Axes>"
            ]
          },
          "metadata": {},
          "output_type": "display_data"
        }
      ],
      "source": [
        "def plot_vectors_class0(vectors, labels, title=\"2D plot of BERT vectors\"):\n",
        "    pca = PCA(n_components=2)\n",
        "    reduced_vectors = pca.fit_transform(vectors)\n",
        "\n",
        "    # 散布図のプロット\n",
        "    for idx, coord in enumerate(reduced_vectors):\n",
        "        if labels[idx] == 0:\n",
        "            plt.scatter(coord[0], coord[1], marker='o', s=50, c='b')\n",
        "\n",
        "    plt.title(title)\n",
        "    plt.xlabel(\"First Principal Component\")\n",
        "    plt.ylabel(\"Second Principal Component\")\n",
        "    plt.show()\n",
        "\n",
        "plot_vectors_class0(text_vectors, labels)"
      ]
    },
    {
      "cell_type": "code",
      "execution_count": null,
      "metadata": {
        "id": "T3aLLSlWMexv"
      },
      "outputs": [],
      "source": [
        "import pandas as pd\n",
        "\n",
        "def display_list_as_table(input_list):\n",
        "    data = {'インデックス': list(range(len(input_list))), '値': input_list}\n",
        "    df = pd.DataFrame(data)\n",
        "    display(df)"
      ]
    },
    {
      "cell_type": "code",
      "execution_count": null,
      "metadata": {
        "colab": {
          "base_uri": "https://localhost:8080/",
          "height": 865
        },
        "id": "50CLhD9qMjoU",
        "outputId": "8477a21e-4b63-4d87-facb-27d4eb93770e"
      },
      "outputs": [
        {
          "data": {
            "text/html": [
              "\n",
              "  <div id=\"df-e0374f46-abd0-40d6-b5d3-838b49063bd7\">\n",
              "    <div class=\"colab-df-container\">\n",
              "      <div>\n",
              "<style scoped>\n",
              "    .dataframe tbody tr th:only-of-type {\n",
              "        vertical-align: middle;\n",
              "    }\n",
              "\n",
              "    .dataframe tbody tr th {\n",
              "        vertical-align: top;\n",
              "    }\n",
              "\n",
              "    .dataframe thead th {\n",
              "        text-align: right;\n",
              "    }\n",
              "</style>\n",
              "<table border=\"1\" class=\"dataframe\">\n",
              "  <thead>\n",
              "    <tr style=\"text-align: right;\">\n",
              "      <th></th>\n",
              "      <th>インデックス</th>\n",
              "      <th>値</th>\n",
              "    </tr>\n",
              "  </thead>\n",
              "  <tbody>\n",
              "    <tr>\n",
              "      <th>0</th>\n",
              "      <td>0</td>\n",
              "      <td>[os.system, requests.get]</td>\n",
              "    </tr>\n",
              "    <tr>\n",
              "      <th>1</th>\n",
              "      <td>1</td>\n",
              "      <td>[requests.get]</td>\n",
              "    </tr>\n",
              "    <tr>\n",
              "      <th>2</th>\n",
              "      <td>2</td>\n",
              "      <td>[json.loads]</td>\n",
              "    </tr>\n",
              "    <tr>\n",
              "      <th>3</th>\n",
              "      <td>3</td>\n",
              "      <td>[file.open, os.path]</td>\n",
              "    </tr>\n",
              "    <tr>\n",
              "      <th>4</th>\n",
              "      <td>4</td>\n",
              "      <td>[requests.get, file.open, exec]</td>\n",
              "    </tr>\n",
              "    <tr>\n",
              "      <th>5</th>\n",
              "      <td>5</td>\n",
              "      <td>[token, json.loads]</td>\n",
              "    </tr>\n",
              "    <tr>\n",
              "      <th>6</th>\n",
              "      <td>6</td>\n",
              "      <td>[network.connect]</td>\n",
              "    </tr>\n",
              "    <tr>\n",
              "      <th>7</th>\n",
              "      <td>7</td>\n",
              "      <td>[network.connect, os.system]</td>\n",
              "    </tr>\n",
              "    <tr>\n",
              "      <th>8</th>\n",
              "      <td>8</td>\n",
              "      <td>[sentence, read]</td>\n",
              "    </tr>\n",
              "    <tr>\n",
              "      <th>9</th>\n",
              "      <td>9</td>\n",
              "      <td>[client.get, file.save]</td>\n",
              "    </tr>\n",
              "    <tr>\n",
              "      <th>10</th>\n",
              "      <td>10</td>\n",
              "      <td>[connection.open, connection.close]</td>\n",
              "    </tr>\n",
              "    <tr>\n",
              "      <th>11</th>\n",
              "      <td>11</td>\n",
              "      <td>[datetime.now, request.get]</td>\n",
              "    </tr>\n",
              "    <tr>\n",
              "      <th>12</th>\n",
              "      <td>12</td>\n",
              "      <td>[base64.decode, exec]</td>\n",
              "    </tr>\n",
              "    <tr>\n",
              "      <th>13</th>\n",
              "      <td>13</td>\n",
              "      <td>[base64.decode]</td>\n",
              "    </tr>\n",
              "    <tr>\n",
              "      <th>14</th>\n",
              "      <td>14</td>\n",
              "      <td>[re.match]</td>\n",
              "    </tr>\n",
              "    <tr>\n",
              "      <th>15</th>\n",
              "      <td>15</td>\n",
              "      <td>[random.choices]</td>\n",
              "    </tr>\n",
              "    <tr>\n",
              "      <th>16</th>\n",
              "      <td>16</td>\n",
              "      <td>[base64.decode, file.open, requests.get]</td>\n",
              "    </tr>\n",
              "    <tr>\n",
              "      <th>17</th>\n",
              "      <td>17</td>\n",
              "      <td>[exec]</td>\n",
              "    </tr>\n",
              "    <tr>\n",
              "      <th>18</th>\n",
              "      <td>18</td>\n",
              "      <td>[exec, base64.decode]</td>\n",
              "    </tr>\n",
              "    <tr>\n",
              "      <th>19</th>\n",
              "      <td>19</td>\n",
              "      <td>[requests.post, response.json, response.status...</td>\n",
              "    </tr>\n",
              "    <tr>\n",
              "      <th>20</th>\n",
              "      <td>20</td>\n",
              "      <td>[connection.open, exec]</td>\n",
              "    </tr>\n",
              "    <tr>\n",
              "      <th>21</th>\n",
              "      <td>21</td>\n",
              "      <td>[urllib.request.urlopen, eval]</td>\n",
              "    </tr>\n",
              "    <tr>\n",
              "      <th>22</th>\n",
              "      <td>22</td>\n",
              "      <td>[http.client.HTTPConnection, conn]</td>\n",
              "    </tr>\n",
              "    <tr>\n",
              "      <th>23</th>\n",
              "      <td>23</td>\n",
              "      <td>[http.client.HTTPConnection, os.system]</td>\n",
              "    </tr>\n",
              "    <tr>\n",
              "      <th>24</th>\n",
              "      <td>24</td>\n",
              "      <td>[subprocess.run]</td>\n",
              "    </tr>\n",
              "    <tr>\n",
              "      <th>25</th>\n",
              "      <td>25</td>\n",
              "      <td>[subprocess.run, requests.get]</td>\n",
              "    </tr>\n",
              "  </tbody>\n",
              "</table>\n",
              "</div>\n",
              "      <button class=\"colab-df-convert\" onclick=\"convertToInteractive('df-e0374f46-abd0-40d6-b5d3-838b49063bd7')\"\n",
              "              title=\"Convert this dataframe to an interactive table.\"\n",
              "              style=\"display:none;\">\n",
              "        \n",
              "  <svg xmlns=\"http://www.w3.org/2000/svg\" height=\"24px\"viewBox=\"0 0 24 24\"\n",
              "       width=\"24px\">\n",
              "    <path d=\"M0 0h24v24H0V0z\" fill=\"none\"/>\n",
              "    <path d=\"M18.56 5.44l.94 2.06.94-2.06 2.06-.94-2.06-.94-.94-2.06-.94 2.06-2.06.94zm-11 1L8.5 8.5l.94-2.06 2.06-.94-2.06-.94L8.5 2.5l-.94 2.06-2.06.94zm10 10l.94 2.06.94-2.06 2.06-.94-2.06-.94-.94-2.06-.94 2.06-2.06.94z\"/><path d=\"M17.41 7.96l-1.37-1.37c-.4-.4-.92-.59-1.43-.59-.52 0-1.04.2-1.43.59L10.3 9.45l-7.72 7.72c-.78.78-.78 2.05 0 2.83L4 21.41c.39.39.9.59 1.41.59.51 0 1.02-.2 1.41-.59l7.78-7.78 2.81-2.81c.8-.78.8-2.07 0-2.86zM5.41 20L4 18.59l7.72-7.72 1.47 1.35L5.41 20z\"/>\n",
              "  </svg>\n",
              "      </button>\n",
              "      \n",
              "  <style>\n",
              "    .colab-df-container {\n",
              "      display:flex;\n",
              "      flex-wrap:wrap;\n",
              "      gap: 12px;\n",
              "    }\n",
              "\n",
              "    .colab-df-convert {\n",
              "      background-color: #E8F0FE;\n",
              "      border: none;\n",
              "      border-radius: 50%;\n",
              "      cursor: pointer;\n",
              "      display: none;\n",
              "      fill: #1967D2;\n",
              "      height: 32px;\n",
              "      padding: 0 0 0 0;\n",
              "      width: 32px;\n",
              "    }\n",
              "\n",
              "    .colab-df-convert:hover {\n",
              "      background-color: #E2EBFA;\n",
              "      box-shadow: 0px 1px 2px rgba(60, 64, 67, 0.3), 0px 1px 3px 1px rgba(60, 64, 67, 0.15);\n",
              "      fill: #174EA6;\n",
              "    }\n",
              "\n",
              "    [theme=dark] .colab-df-convert {\n",
              "      background-color: #3B4455;\n",
              "      fill: #D2E3FC;\n",
              "    }\n",
              "\n",
              "    [theme=dark] .colab-df-convert:hover {\n",
              "      background-color: #434B5C;\n",
              "      box-shadow: 0px 1px 3px 1px rgba(0, 0, 0, 0.15);\n",
              "      filter: drop-shadow(0px 1px 2px rgba(0, 0, 0, 0.3));\n",
              "      fill: #FFFFFF;\n",
              "    }\n",
              "  </style>\n",
              "\n",
              "      <script>\n",
              "        const buttonEl =\n",
              "          document.querySelector('#df-e0374f46-abd0-40d6-b5d3-838b49063bd7 button.colab-df-convert');\n",
              "        buttonEl.style.display =\n",
              "          google.colab.kernel.accessAllowed ? 'block' : 'none';\n",
              "\n",
              "        async function convertToInteractive(key) {\n",
              "          const element = document.querySelector('#df-e0374f46-abd0-40d6-b5d3-838b49063bd7');\n",
              "          const dataTable =\n",
              "            await google.colab.kernel.invokeFunction('convertToInteractive',\n",
              "                                                     [key], {});\n",
              "          if (!dataTable) return;\n",
              "\n",
              "          const docLinkHtml = 'Like what you see? Visit the ' +\n",
              "            '<a target=\"_blank\" href=https://colab.research.google.com/notebooks/data_table.ipynb>data table notebook</a>'\n",
              "            + ' to learn more about interactive tables.';\n",
              "          element.innerHTML = '';\n",
              "          dataTable['output_type'] = 'display_data';\n",
              "          await google.colab.output.renderOutput(dataTable, element);\n",
              "          const docLink = document.createElement('div');\n",
              "          docLink.innerHTML = docLinkHtml;\n",
              "          element.appendChild(docLink);\n",
              "        }\n",
              "      </script>\n",
              "    </div>\n",
              "  </div>\n",
              "  "
            ],
            "text/plain": [
              "    インデックス                                                  値\n",
              "0        0                          [os.system, requests.get]\n",
              "1        1                                     [requests.get]\n",
              "2        2                                       [json.loads]\n",
              "3        3                               [file.open, os.path]\n",
              "4        4                    [requests.get, file.open, exec]\n",
              "5        5                                [token, json.loads]\n",
              "6        6                                  [network.connect]\n",
              "7        7                       [network.connect, os.system]\n",
              "8        8                                   [sentence, read]\n",
              "9        9                            [client.get, file.save]\n",
              "10      10                [connection.open, connection.close]\n",
              "11      11                        [datetime.now, request.get]\n",
              "12      12                              [base64.decode, exec]\n",
              "13      13                                    [base64.decode]\n",
              "14      14                                         [re.match]\n",
              "15      15                                   [random.choices]\n",
              "16      16           [base64.decode, file.open, requests.get]\n",
              "17      17                                             [exec]\n",
              "18      18                              [exec, base64.decode]\n",
              "19      19  [requests.post, response.json, response.status...\n",
              "20      20                            [connection.open, exec]\n",
              "21      21                     [urllib.request.urlopen, eval]\n",
              "22      22                 [http.client.HTTPConnection, conn]\n",
              "23      23            [http.client.HTTPConnection, os.system]\n",
              "24      24                                   [subprocess.run]\n",
              "25      25                     [subprocess.run, requests.get]"
            ]
          },
          "metadata": {},
          "output_type": "display_data"
        }
      ],
      "source": [
        "display_list_as_table(texts_list)"
      ]
    }
  ],
  "metadata": {
    "accelerator": "GPU",
    "colab": {
      "machine_shape": "hm",
      "toc_visible": true,
      "provenance": [],
      "gpuType": "A100"
    },
    "kernelspec": {
      "display_name": "Python 3",
      "name": "python3"
    },
    "language_info": {
      "name": "python"
    },
    "widgets": {
      "application/vnd.jupyter.widget-state+json": {
        "b74024de9beb405a9dcd3e8ce81b04e2": {
          "model_module": "@jupyter-widgets/controls",
          "model_name": "HBoxModel",
          "model_module_version": "1.5.0",
          "state": {
            "_dom_classes": [],
            "_model_module": "@jupyter-widgets/controls",
            "_model_module_version": "1.5.0",
            "_model_name": "HBoxModel",
            "_view_count": null,
            "_view_module": "@jupyter-widgets/controls",
            "_view_module_version": "1.5.0",
            "_view_name": "HBoxView",
            "box_style": "",
            "children": [
              "IPY_MODEL_c83051332a3a4b20a98a1c57ab2e7906",
              "IPY_MODEL_b2d8d00053824d83a201a08ac7073c8c",
              "IPY_MODEL_bb53a02b51024e84af575f4a59333aae"
            ],
            "layout": "IPY_MODEL_85b7b76abb9b466689f9ca6bfe31193e"
          }
        },
        "c83051332a3a4b20a98a1c57ab2e7906": {
          "model_module": "@jupyter-widgets/controls",
          "model_name": "HTMLModel",
          "model_module_version": "1.5.0",
          "state": {
            "_dom_classes": [],
            "_model_module": "@jupyter-widgets/controls",
            "_model_module_version": "1.5.0",
            "_model_name": "HTMLModel",
            "_view_count": null,
            "_view_module": "@jupyter-widgets/controls",
            "_view_module_version": "1.5.0",
            "_view_name": "HTMLView",
            "description": "",
            "description_tooltip": null,
            "layout": "IPY_MODEL_dced8185f9124e1b8b72ae736d6a3da6",
            "placeholder": "​",
            "style": "IPY_MODEL_f07502395cba45d2bcb233e606ce317f",
            "value": "tokenizer_config.json: 100%"
          }
        },
        "b2d8d00053824d83a201a08ac7073c8c": {
          "model_module": "@jupyter-widgets/controls",
          "model_name": "FloatProgressModel",
          "model_module_version": "1.5.0",
          "state": {
            "_dom_classes": [],
            "_model_module": "@jupyter-widgets/controls",
            "_model_module_version": "1.5.0",
            "_model_name": "FloatProgressModel",
            "_view_count": null,
            "_view_module": "@jupyter-widgets/controls",
            "_view_module_version": "1.5.0",
            "_view_name": "ProgressView",
            "bar_style": "success",
            "description": "",
            "description_tooltip": null,
            "layout": "IPY_MODEL_50f37ad7663f4572b294e2f3c5c9e5d8",
            "max": 28,
            "min": 0,
            "orientation": "horizontal",
            "style": "IPY_MODEL_1c1f4c65bd204e71b4d9a0d2ffdf6347",
            "value": 28
          }
        },
        "bb53a02b51024e84af575f4a59333aae": {
          "model_module": "@jupyter-widgets/controls",
          "model_name": "HTMLModel",
          "model_module_version": "1.5.0",
          "state": {
            "_dom_classes": [],
            "_model_module": "@jupyter-widgets/controls",
            "_model_module_version": "1.5.0",
            "_model_name": "HTMLModel",
            "_view_count": null,
            "_view_module": "@jupyter-widgets/controls",
            "_view_module_version": "1.5.0",
            "_view_name": "HTMLView",
            "description": "",
            "description_tooltip": null,
            "layout": "IPY_MODEL_451cd86f9862410b95eb09b25b94d3b4",
            "placeholder": "​",
            "style": "IPY_MODEL_636baa1ad4524c499ee187c146a2cb28",
            "value": " 28.0/28.0 [00:00&lt;00:00, 2.14kB/s]"
          }
        },
        "85b7b76abb9b466689f9ca6bfe31193e": {
          "model_module": "@jupyter-widgets/base",
          "model_name": "LayoutModel",
          "model_module_version": "1.2.0",
          "state": {
            "_model_module": "@jupyter-widgets/base",
            "_model_module_version": "1.2.0",
            "_model_name": "LayoutModel",
            "_view_count": null,
            "_view_module": "@jupyter-widgets/base",
            "_view_module_version": "1.2.0",
            "_view_name": "LayoutView",
            "align_content": null,
            "align_items": null,
            "align_self": null,
            "border": null,
            "bottom": null,
            "display": null,
            "flex": null,
            "flex_flow": null,
            "grid_area": null,
            "grid_auto_columns": null,
            "grid_auto_flow": null,
            "grid_auto_rows": null,
            "grid_column": null,
            "grid_gap": null,
            "grid_row": null,
            "grid_template_areas": null,
            "grid_template_columns": null,
            "grid_template_rows": null,
            "height": null,
            "justify_content": null,
            "justify_items": null,
            "left": null,
            "margin": null,
            "max_height": null,
            "max_width": null,
            "min_height": null,
            "min_width": null,
            "object_fit": null,
            "object_position": null,
            "order": null,
            "overflow": null,
            "overflow_x": null,
            "overflow_y": null,
            "padding": null,
            "right": null,
            "top": null,
            "visibility": null,
            "width": null
          }
        },
        "dced8185f9124e1b8b72ae736d6a3da6": {
          "model_module": "@jupyter-widgets/base",
          "model_name": "LayoutModel",
          "model_module_version": "1.2.0",
          "state": {
            "_model_module": "@jupyter-widgets/base",
            "_model_module_version": "1.2.0",
            "_model_name": "LayoutModel",
            "_view_count": null,
            "_view_module": "@jupyter-widgets/base",
            "_view_module_version": "1.2.0",
            "_view_name": "LayoutView",
            "align_content": null,
            "align_items": null,
            "align_self": null,
            "border": null,
            "bottom": null,
            "display": null,
            "flex": null,
            "flex_flow": null,
            "grid_area": null,
            "grid_auto_columns": null,
            "grid_auto_flow": null,
            "grid_auto_rows": null,
            "grid_column": null,
            "grid_gap": null,
            "grid_row": null,
            "grid_template_areas": null,
            "grid_template_columns": null,
            "grid_template_rows": null,
            "height": null,
            "justify_content": null,
            "justify_items": null,
            "left": null,
            "margin": null,
            "max_height": null,
            "max_width": null,
            "min_height": null,
            "min_width": null,
            "object_fit": null,
            "object_position": null,
            "order": null,
            "overflow": null,
            "overflow_x": null,
            "overflow_y": null,
            "padding": null,
            "right": null,
            "top": null,
            "visibility": null,
            "width": null
          }
        },
        "f07502395cba45d2bcb233e606ce317f": {
          "model_module": "@jupyter-widgets/controls",
          "model_name": "DescriptionStyleModel",
          "model_module_version": "1.5.0",
          "state": {
            "_model_module": "@jupyter-widgets/controls",
            "_model_module_version": "1.5.0",
            "_model_name": "DescriptionStyleModel",
            "_view_count": null,
            "_view_module": "@jupyter-widgets/base",
            "_view_module_version": "1.2.0",
            "_view_name": "StyleView",
            "description_width": ""
          }
        },
        "50f37ad7663f4572b294e2f3c5c9e5d8": {
          "model_module": "@jupyter-widgets/base",
          "model_name": "LayoutModel",
          "model_module_version": "1.2.0",
          "state": {
            "_model_module": "@jupyter-widgets/base",
            "_model_module_version": "1.2.0",
            "_model_name": "LayoutModel",
            "_view_count": null,
            "_view_module": "@jupyter-widgets/base",
            "_view_module_version": "1.2.0",
            "_view_name": "LayoutView",
            "align_content": null,
            "align_items": null,
            "align_self": null,
            "border": null,
            "bottom": null,
            "display": null,
            "flex": null,
            "flex_flow": null,
            "grid_area": null,
            "grid_auto_columns": null,
            "grid_auto_flow": null,
            "grid_auto_rows": null,
            "grid_column": null,
            "grid_gap": null,
            "grid_row": null,
            "grid_template_areas": null,
            "grid_template_columns": null,
            "grid_template_rows": null,
            "height": null,
            "justify_content": null,
            "justify_items": null,
            "left": null,
            "margin": null,
            "max_height": null,
            "max_width": null,
            "min_height": null,
            "min_width": null,
            "object_fit": null,
            "object_position": null,
            "order": null,
            "overflow": null,
            "overflow_x": null,
            "overflow_y": null,
            "padding": null,
            "right": null,
            "top": null,
            "visibility": null,
            "width": null
          }
        },
        "1c1f4c65bd204e71b4d9a0d2ffdf6347": {
          "model_module": "@jupyter-widgets/controls",
          "model_name": "ProgressStyleModel",
          "model_module_version": "1.5.0",
          "state": {
            "_model_module": "@jupyter-widgets/controls",
            "_model_module_version": "1.5.0",
            "_model_name": "ProgressStyleModel",
            "_view_count": null,
            "_view_module": "@jupyter-widgets/base",
            "_view_module_version": "1.2.0",
            "_view_name": "StyleView",
            "bar_color": null,
            "description_width": ""
          }
        },
        "451cd86f9862410b95eb09b25b94d3b4": {
          "model_module": "@jupyter-widgets/base",
          "model_name": "LayoutModel",
          "model_module_version": "1.2.0",
          "state": {
            "_model_module": "@jupyter-widgets/base",
            "_model_module_version": "1.2.0",
            "_model_name": "LayoutModel",
            "_view_count": null,
            "_view_module": "@jupyter-widgets/base",
            "_view_module_version": "1.2.0",
            "_view_name": "LayoutView",
            "align_content": null,
            "align_items": null,
            "align_self": null,
            "border": null,
            "bottom": null,
            "display": null,
            "flex": null,
            "flex_flow": null,
            "grid_area": null,
            "grid_auto_columns": null,
            "grid_auto_flow": null,
            "grid_auto_rows": null,
            "grid_column": null,
            "grid_gap": null,
            "grid_row": null,
            "grid_template_areas": null,
            "grid_template_columns": null,
            "grid_template_rows": null,
            "height": null,
            "justify_content": null,
            "justify_items": null,
            "left": null,
            "margin": null,
            "max_height": null,
            "max_width": null,
            "min_height": null,
            "min_width": null,
            "object_fit": null,
            "object_position": null,
            "order": null,
            "overflow": null,
            "overflow_x": null,
            "overflow_y": null,
            "padding": null,
            "right": null,
            "top": null,
            "visibility": null,
            "width": null
          }
        },
        "636baa1ad4524c499ee187c146a2cb28": {
          "model_module": "@jupyter-widgets/controls",
          "model_name": "DescriptionStyleModel",
          "model_module_version": "1.5.0",
          "state": {
            "_model_module": "@jupyter-widgets/controls",
            "_model_module_version": "1.5.0",
            "_model_name": "DescriptionStyleModel",
            "_view_count": null,
            "_view_module": "@jupyter-widgets/base",
            "_view_module_version": "1.2.0",
            "_view_name": "StyleView",
            "description_width": ""
          }
        },
        "7dc754e57cc54b08bd4432cc08d2fa94": {
          "model_module": "@jupyter-widgets/controls",
          "model_name": "HBoxModel",
          "model_module_version": "1.5.0",
          "state": {
            "_dom_classes": [],
            "_model_module": "@jupyter-widgets/controls",
            "_model_module_version": "1.5.0",
            "_model_name": "HBoxModel",
            "_view_count": null,
            "_view_module": "@jupyter-widgets/controls",
            "_view_module_version": "1.5.0",
            "_view_name": "HBoxView",
            "box_style": "",
            "children": [
              "IPY_MODEL_ec897d89b19645f9ba59246ec1ad2421",
              "IPY_MODEL_e59712d6f2824981bb91cc81df04ce0a",
              "IPY_MODEL_1e267e7be82943baaf1a669cca6fdaf8"
            ],
            "layout": "IPY_MODEL_f011799ac6a5442fb1ffe132652b09f9"
          }
        },
        "ec897d89b19645f9ba59246ec1ad2421": {
          "model_module": "@jupyter-widgets/controls",
          "model_name": "HTMLModel",
          "model_module_version": "1.5.0",
          "state": {
            "_dom_classes": [],
            "_model_module": "@jupyter-widgets/controls",
            "_model_module_version": "1.5.0",
            "_model_name": "HTMLModel",
            "_view_count": null,
            "_view_module": "@jupyter-widgets/controls",
            "_view_module_version": "1.5.0",
            "_view_name": "HTMLView",
            "description": "",
            "description_tooltip": null,
            "layout": "IPY_MODEL_69fd74226a6c4059a7248a9958a6e796",
            "placeholder": "​",
            "style": "IPY_MODEL_a054cb48302c4e0eb428187723449822",
            "value": "config.json: 100%"
          }
        },
        "e59712d6f2824981bb91cc81df04ce0a": {
          "model_module": "@jupyter-widgets/controls",
          "model_name": "FloatProgressModel",
          "model_module_version": "1.5.0",
          "state": {
            "_dom_classes": [],
            "_model_module": "@jupyter-widgets/controls",
            "_model_module_version": "1.5.0",
            "_model_name": "FloatProgressModel",
            "_view_count": null,
            "_view_module": "@jupyter-widgets/controls",
            "_view_module_version": "1.5.0",
            "_view_name": "ProgressView",
            "bar_style": "success",
            "description": "",
            "description_tooltip": null,
            "layout": "IPY_MODEL_d0dcd102db7349e7bef7c7a166136913",
            "max": 483,
            "min": 0,
            "orientation": "horizontal",
            "style": "IPY_MODEL_0fa97239ff3749deadcebb4bcaf09d1e",
            "value": 483
          }
        },
        "1e267e7be82943baaf1a669cca6fdaf8": {
          "model_module": "@jupyter-widgets/controls",
          "model_name": "HTMLModel",
          "model_module_version": "1.5.0",
          "state": {
            "_dom_classes": [],
            "_model_module": "@jupyter-widgets/controls",
            "_model_module_version": "1.5.0",
            "_model_name": "HTMLModel",
            "_view_count": null,
            "_view_module": "@jupyter-widgets/controls",
            "_view_module_version": "1.5.0",
            "_view_name": "HTMLView",
            "description": "",
            "description_tooltip": null,
            "layout": "IPY_MODEL_e12f12d55a56429397ebb9a7e36c24cc",
            "placeholder": "​",
            "style": "IPY_MODEL_4e436a668d5f4b618723db38d7e3e7f2",
            "value": " 483/483 [00:00&lt;00:00, 42.2kB/s]"
          }
        },
        "f011799ac6a5442fb1ffe132652b09f9": {
          "model_module": "@jupyter-widgets/base",
          "model_name": "LayoutModel",
          "model_module_version": "1.2.0",
          "state": {
            "_model_module": "@jupyter-widgets/base",
            "_model_module_version": "1.2.0",
            "_model_name": "LayoutModel",
            "_view_count": null,
            "_view_module": "@jupyter-widgets/base",
            "_view_module_version": "1.2.0",
            "_view_name": "LayoutView",
            "align_content": null,
            "align_items": null,
            "align_self": null,
            "border": null,
            "bottom": null,
            "display": null,
            "flex": null,
            "flex_flow": null,
            "grid_area": null,
            "grid_auto_columns": null,
            "grid_auto_flow": null,
            "grid_auto_rows": null,
            "grid_column": null,
            "grid_gap": null,
            "grid_row": null,
            "grid_template_areas": null,
            "grid_template_columns": null,
            "grid_template_rows": null,
            "height": null,
            "justify_content": null,
            "justify_items": null,
            "left": null,
            "margin": null,
            "max_height": null,
            "max_width": null,
            "min_height": null,
            "min_width": null,
            "object_fit": null,
            "object_position": null,
            "order": null,
            "overflow": null,
            "overflow_x": null,
            "overflow_y": null,
            "padding": null,
            "right": null,
            "top": null,
            "visibility": null,
            "width": null
          }
        },
        "69fd74226a6c4059a7248a9958a6e796": {
          "model_module": "@jupyter-widgets/base",
          "model_name": "LayoutModel",
          "model_module_version": "1.2.0",
          "state": {
            "_model_module": "@jupyter-widgets/base",
            "_model_module_version": "1.2.0",
            "_model_name": "LayoutModel",
            "_view_count": null,
            "_view_module": "@jupyter-widgets/base",
            "_view_module_version": "1.2.0",
            "_view_name": "LayoutView",
            "align_content": null,
            "align_items": null,
            "align_self": null,
            "border": null,
            "bottom": null,
            "display": null,
            "flex": null,
            "flex_flow": null,
            "grid_area": null,
            "grid_auto_columns": null,
            "grid_auto_flow": null,
            "grid_auto_rows": null,
            "grid_column": null,
            "grid_gap": null,
            "grid_row": null,
            "grid_template_areas": null,
            "grid_template_columns": null,
            "grid_template_rows": null,
            "height": null,
            "justify_content": null,
            "justify_items": null,
            "left": null,
            "margin": null,
            "max_height": null,
            "max_width": null,
            "min_height": null,
            "min_width": null,
            "object_fit": null,
            "object_position": null,
            "order": null,
            "overflow": null,
            "overflow_x": null,
            "overflow_y": null,
            "padding": null,
            "right": null,
            "top": null,
            "visibility": null,
            "width": null
          }
        },
        "a054cb48302c4e0eb428187723449822": {
          "model_module": "@jupyter-widgets/controls",
          "model_name": "DescriptionStyleModel",
          "model_module_version": "1.5.0",
          "state": {
            "_model_module": "@jupyter-widgets/controls",
            "_model_module_version": "1.5.0",
            "_model_name": "DescriptionStyleModel",
            "_view_count": null,
            "_view_module": "@jupyter-widgets/base",
            "_view_module_version": "1.2.0",
            "_view_name": "StyleView",
            "description_width": ""
          }
        },
        "d0dcd102db7349e7bef7c7a166136913": {
          "model_module": "@jupyter-widgets/base",
          "model_name": "LayoutModel",
          "model_module_version": "1.2.0",
          "state": {
            "_model_module": "@jupyter-widgets/base",
            "_model_module_version": "1.2.0",
            "_model_name": "LayoutModel",
            "_view_count": null,
            "_view_module": "@jupyter-widgets/base",
            "_view_module_version": "1.2.0",
            "_view_name": "LayoutView",
            "align_content": null,
            "align_items": null,
            "align_self": null,
            "border": null,
            "bottom": null,
            "display": null,
            "flex": null,
            "flex_flow": null,
            "grid_area": null,
            "grid_auto_columns": null,
            "grid_auto_flow": null,
            "grid_auto_rows": null,
            "grid_column": null,
            "grid_gap": null,
            "grid_row": null,
            "grid_template_areas": null,
            "grid_template_columns": null,
            "grid_template_rows": null,
            "height": null,
            "justify_content": null,
            "justify_items": null,
            "left": null,
            "margin": null,
            "max_height": null,
            "max_width": null,
            "min_height": null,
            "min_width": null,
            "object_fit": null,
            "object_position": null,
            "order": null,
            "overflow": null,
            "overflow_x": null,
            "overflow_y": null,
            "padding": null,
            "right": null,
            "top": null,
            "visibility": null,
            "width": null
          }
        },
        "0fa97239ff3749deadcebb4bcaf09d1e": {
          "model_module": "@jupyter-widgets/controls",
          "model_name": "ProgressStyleModel",
          "model_module_version": "1.5.0",
          "state": {
            "_model_module": "@jupyter-widgets/controls",
            "_model_module_version": "1.5.0",
            "_model_name": "ProgressStyleModel",
            "_view_count": null,
            "_view_module": "@jupyter-widgets/base",
            "_view_module_version": "1.2.0",
            "_view_name": "StyleView",
            "bar_color": null,
            "description_width": ""
          }
        },
        "e12f12d55a56429397ebb9a7e36c24cc": {
          "model_module": "@jupyter-widgets/base",
          "model_name": "LayoutModel",
          "model_module_version": "1.2.0",
          "state": {
            "_model_module": "@jupyter-widgets/base",
            "_model_module_version": "1.2.0",
            "_model_name": "LayoutModel",
            "_view_count": null,
            "_view_module": "@jupyter-widgets/base",
            "_view_module_version": "1.2.0",
            "_view_name": "LayoutView",
            "align_content": null,
            "align_items": null,
            "align_self": null,
            "border": null,
            "bottom": null,
            "display": null,
            "flex": null,
            "flex_flow": null,
            "grid_area": null,
            "grid_auto_columns": null,
            "grid_auto_flow": null,
            "grid_auto_rows": null,
            "grid_column": null,
            "grid_gap": null,
            "grid_row": null,
            "grid_template_areas": null,
            "grid_template_columns": null,
            "grid_template_rows": null,
            "height": null,
            "justify_content": null,
            "justify_items": null,
            "left": null,
            "margin": null,
            "max_height": null,
            "max_width": null,
            "min_height": null,
            "min_width": null,
            "object_fit": null,
            "object_position": null,
            "order": null,
            "overflow": null,
            "overflow_x": null,
            "overflow_y": null,
            "padding": null,
            "right": null,
            "top": null,
            "visibility": null,
            "width": null
          }
        },
        "4e436a668d5f4b618723db38d7e3e7f2": {
          "model_module": "@jupyter-widgets/controls",
          "model_name": "DescriptionStyleModel",
          "model_module_version": "1.5.0",
          "state": {
            "_model_module": "@jupyter-widgets/controls",
            "_model_module_version": "1.5.0",
            "_model_name": "DescriptionStyleModel",
            "_view_count": null,
            "_view_module": "@jupyter-widgets/base",
            "_view_module_version": "1.2.0",
            "_view_name": "StyleView",
            "description_width": ""
          }
        },
        "94660bfdec464904ad9eb1bb910ca2c9": {
          "model_module": "@jupyter-widgets/controls",
          "model_name": "HBoxModel",
          "model_module_version": "1.5.0",
          "state": {
            "_dom_classes": [],
            "_model_module": "@jupyter-widgets/controls",
            "_model_module_version": "1.5.0",
            "_model_name": "HBoxModel",
            "_view_count": null,
            "_view_module": "@jupyter-widgets/controls",
            "_view_module_version": "1.5.0",
            "_view_name": "HBoxView",
            "box_style": "",
            "children": [
              "IPY_MODEL_e0214cb541b54321848b3bdc576fa2e6",
              "IPY_MODEL_a2f36b1237f14d4eb77e0c5134ab7449",
              "IPY_MODEL_cb839dcc98dd45aaa045115862e3138b"
            ],
            "layout": "IPY_MODEL_afc630b7c6d04230a903cb0a397b6fae"
          }
        },
        "e0214cb541b54321848b3bdc576fa2e6": {
          "model_module": "@jupyter-widgets/controls",
          "model_name": "HTMLModel",
          "model_module_version": "1.5.0",
          "state": {
            "_dom_classes": [],
            "_model_module": "@jupyter-widgets/controls",
            "_model_module_version": "1.5.0",
            "_model_name": "HTMLModel",
            "_view_count": null,
            "_view_module": "@jupyter-widgets/controls",
            "_view_module_version": "1.5.0",
            "_view_name": "HTMLView",
            "description": "",
            "description_tooltip": null,
            "layout": "IPY_MODEL_602f395ca81b40099a1faaa1ec026a84",
            "placeholder": "​",
            "style": "IPY_MODEL_f172710b13e14101b89b791be1bb2004",
            "value": "vocab.txt: 100%"
          }
        },
        "a2f36b1237f14d4eb77e0c5134ab7449": {
          "model_module": "@jupyter-widgets/controls",
          "model_name": "FloatProgressModel",
          "model_module_version": "1.5.0",
          "state": {
            "_dom_classes": [],
            "_model_module": "@jupyter-widgets/controls",
            "_model_module_version": "1.5.0",
            "_model_name": "FloatProgressModel",
            "_view_count": null,
            "_view_module": "@jupyter-widgets/controls",
            "_view_module_version": "1.5.0",
            "_view_name": "ProgressView",
            "bar_style": "success",
            "description": "",
            "description_tooltip": null,
            "layout": "IPY_MODEL_ac2f7a232596468b9c424b28bc239ccc",
            "max": 231508,
            "min": 0,
            "orientation": "horizontal",
            "style": "IPY_MODEL_dd268385bf0e4fc5b0f9a069fdb264f7",
            "value": 231508
          }
        },
        "cb839dcc98dd45aaa045115862e3138b": {
          "model_module": "@jupyter-widgets/controls",
          "model_name": "HTMLModel",
          "model_module_version": "1.5.0",
          "state": {
            "_dom_classes": [],
            "_model_module": "@jupyter-widgets/controls",
            "_model_module_version": "1.5.0",
            "_model_name": "HTMLModel",
            "_view_count": null,
            "_view_module": "@jupyter-widgets/controls",
            "_view_module_version": "1.5.0",
            "_view_name": "HTMLView",
            "description": "",
            "description_tooltip": null,
            "layout": "IPY_MODEL_b9bf3f59629a4917ac51109eb937c0e2",
            "placeholder": "​",
            "style": "IPY_MODEL_f604307197d34f548fc32a70609c5766",
            "value": " 232k/232k [00:00&lt;00:00, 4.38MB/s]"
          }
        },
        "afc630b7c6d04230a903cb0a397b6fae": {
          "model_module": "@jupyter-widgets/base",
          "model_name": "LayoutModel",
          "model_module_version": "1.2.0",
          "state": {
            "_model_module": "@jupyter-widgets/base",
            "_model_module_version": "1.2.0",
            "_model_name": "LayoutModel",
            "_view_count": null,
            "_view_module": "@jupyter-widgets/base",
            "_view_module_version": "1.2.0",
            "_view_name": "LayoutView",
            "align_content": null,
            "align_items": null,
            "align_self": null,
            "border": null,
            "bottom": null,
            "display": null,
            "flex": null,
            "flex_flow": null,
            "grid_area": null,
            "grid_auto_columns": null,
            "grid_auto_flow": null,
            "grid_auto_rows": null,
            "grid_column": null,
            "grid_gap": null,
            "grid_row": null,
            "grid_template_areas": null,
            "grid_template_columns": null,
            "grid_template_rows": null,
            "height": null,
            "justify_content": null,
            "justify_items": null,
            "left": null,
            "margin": null,
            "max_height": null,
            "max_width": null,
            "min_height": null,
            "min_width": null,
            "object_fit": null,
            "object_position": null,
            "order": null,
            "overflow": null,
            "overflow_x": null,
            "overflow_y": null,
            "padding": null,
            "right": null,
            "top": null,
            "visibility": null,
            "width": null
          }
        },
        "602f395ca81b40099a1faaa1ec026a84": {
          "model_module": "@jupyter-widgets/base",
          "model_name": "LayoutModel",
          "model_module_version": "1.2.0",
          "state": {
            "_model_module": "@jupyter-widgets/base",
            "_model_module_version": "1.2.0",
            "_model_name": "LayoutModel",
            "_view_count": null,
            "_view_module": "@jupyter-widgets/base",
            "_view_module_version": "1.2.0",
            "_view_name": "LayoutView",
            "align_content": null,
            "align_items": null,
            "align_self": null,
            "border": null,
            "bottom": null,
            "display": null,
            "flex": null,
            "flex_flow": null,
            "grid_area": null,
            "grid_auto_columns": null,
            "grid_auto_flow": null,
            "grid_auto_rows": null,
            "grid_column": null,
            "grid_gap": null,
            "grid_row": null,
            "grid_template_areas": null,
            "grid_template_columns": null,
            "grid_template_rows": null,
            "height": null,
            "justify_content": null,
            "justify_items": null,
            "left": null,
            "margin": null,
            "max_height": null,
            "max_width": null,
            "min_height": null,
            "min_width": null,
            "object_fit": null,
            "object_position": null,
            "order": null,
            "overflow": null,
            "overflow_x": null,
            "overflow_y": null,
            "padding": null,
            "right": null,
            "top": null,
            "visibility": null,
            "width": null
          }
        },
        "f172710b13e14101b89b791be1bb2004": {
          "model_module": "@jupyter-widgets/controls",
          "model_name": "DescriptionStyleModel",
          "model_module_version": "1.5.0",
          "state": {
            "_model_module": "@jupyter-widgets/controls",
            "_model_module_version": "1.5.0",
            "_model_name": "DescriptionStyleModel",
            "_view_count": null,
            "_view_module": "@jupyter-widgets/base",
            "_view_module_version": "1.2.0",
            "_view_name": "StyleView",
            "description_width": ""
          }
        },
        "ac2f7a232596468b9c424b28bc239ccc": {
          "model_module": "@jupyter-widgets/base",
          "model_name": "LayoutModel",
          "model_module_version": "1.2.0",
          "state": {
            "_model_module": "@jupyter-widgets/base",
            "_model_module_version": "1.2.0",
            "_model_name": "LayoutModel",
            "_view_count": null,
            "_view_module": "@jupyter-widgets/base",
            "_view_module_version": "1.2.0",
            "_view_name": "LayoutView",
            "align_content": null,
            "align_items": null,
            "align_self": null,
            "border": null,
            "bottom": null,
            "display": null,
            "flex": null,
            "flex_flow": null,
            "grid_area": null,
            "grid_auto_columns": null,
            "grid_auto_flow": null,
            "grid_auto_rows": null,
            "grid_column": null,
            "grid_gap": null,
            "grid_row": null,
            "grid_template_areas": null,
            "grid_template_columns": null,
            "grid_template_rows": null,
            "height": null,
            "justify_content": null,
            "justify_items": null,
            "left": null,
            "margin": null,
            "max_height": null,
            "max_width": null,
            "min_height": null,
            "min_width": null,
            "object_fit": null,
            "object_position": null,
            "order": null,
            "overflow": null,
            "overflow_x": null,
            "overflow_y": null,
            "padding": null,
            "right": null,
            "top": null,
            "visibility": null,
            "width": null
          }
        },
        "dd268385bf0e4fc5b0f9a069fdb264f7": {
          "model_module": "@jupyter-widgets/controls",
          "model_name": "ProgressStyleModel",
          "model_module_version": "1.5.0",
          "state": {
            "_model_module": "@jupyter-widgets/controls",
            "_model_module_version": "1.5.0",
            "_model_name": "ProgressStyleModel",
            "_view_count": null,
            "_view_module": "@jupyter-widgets/base",
            "_view_module_version": "1.2.0",
            "_view_name": "StyleView",
            "bar_color": null,
            "description_width": ""
          }
        },
        "b9bf3f59629a4917ac51109eb937c0e2": {
          "model_module": "@jupyter-widgets/base",
          "model_name": "LayoutModel",
          "model_module_version": "1.2.0",
          "state": {
            "_model_module": "@jupyter-widgets/base",
            "_model_module_version": "1.2.0",
            "_model_name": "LayoutModel",
            "_view_count": null,
            "_view_module": "@jupyter-widgets/base",
            "_view_module_version": "1.2.0",
            "_view_name": "LayoutView",
            "align_content": null,
            "align_items": null,
            "align_self": null,
            "border": null,
            "bottom": null,
            "display": null,
            "flex": null,
            "flex_flow": null,
            "grid_area": null,
            "grid_auto_columns": null,
            "grid_auto_flow": null,
            "grid_auto_rows": null,
            "grid_column": null,
            "grid_gap": null,
            "grid_row": null,
            "grid_template_areas": null,
            "grid_template_columns": null,
            "grid_template_rows": null,
            "height": null,
            "justify_content": null,
            "justify_items": null,
            "left": null,
            "margin": null,
            "max_height": null,
            "max_width": null,
            "min_height": null,
            "min_width": null,
            "object_fit": null,
            "object_position": null,
            "order": null,
            "overflow": null,
            "overflow_x": null,
            "overflow_y": null,
            "padding": null,
            "right": null,
            "top": null,
            "visibility": null,
            "width": null
          }
        },
        "f604307197d34f548fc32a70609c5766": {
          "model_module": "@jupyter-widgets/controls",
          "model_name": "DescriptionStyleModel",
          "model_module_version": "1.5.0",
          "state": {
            "_model_module": "@jupyter-widgets/controls",
            "_model_module_version": "1.5.0",
            "_model_name": "DescriptionStyleModel",
            "_view_count": null,
            "_view_module": "@jupyter-widgets/base",
            "_view_module_version": "1.2.0",
            "_view_name": "StyleView",
            "description_width": ""
          }
        },
        "72b0d9256b5d4779a5dd2875ae34e2bf": {
          "model_module": "@jupyter-widgets/controls",
          "model_name": "HBoxModel",
          "model_module_version": "1.5.0",
          "state": {
            "_dom_classes": [],
            "_model_module": "@jupyter-widgets/controls",
            "_model_module_version": "1.5.0",
            "_model_name": "HBoxModel",
            "_view_count": null,
            "_view_module": "@jupyter-widgets/controls",
            "_view_module_version": "1.5.0",
            "_view_name": "HBoxView",
            "box_style": "",
            "children": [
              "IPY_MODEL_8b62abd7c50349bdafde2d4de9cb71a7",
              "IPY_MODEL_01d79ad2e7e943c1a8dd802a5eb79177",
              "IPY_MODEL_ffac12bce7cc41cfa02546187f73a73c"
            ],
            "layout": "IPY_MODEL_3cfc1327ea8f4ee19d945f1528850e9f"
          }
        },
        "8b62abd7c50349bdafde2d4de9cb71a7": {
          "model_module": "@jupyter-widgets/controls",
          "model_name": "HTMLModel",
          "model_module_version": "1.5.0",
          "state": {
            "_dom_classes": [],
            "_model_module": "@jupyter-widgets/controls",
            "_model_module_version": "1.5.0",
            "_model_name": "HTMLModel",
            "_view_count": null,
            "_view_module": "@jupyter-widgets/controls",
            "_view_module_version": "1.5.0",
            "_view_name": "HTMLView",
            "description": "",
            "description_tooltip": null,
            "layout": "IPY_MODEL_6e23dea8b6cf45aa8bf07ce12873237f",
            "placeholder": "​",
            "style": "IPY_MODEL_378a4e53bbb74ab092350a81abe96c23",
            "value": "tokenizer.json: 100%"
          }
        },
        "01d79ad2e7e943c1a8dd802a5eb79177": {
          "model_module": "@jupyter-widgets/controls",
          "model_name": "FloatProgressModel",
          "model_module_version": "1.5.0",
          "state": {
            "_dom_classes": [],
            "_model_module": "@jupyter-widgets/controls",
            "_model_module_version": "1.5.0",
            "_model_name": "FloatProgressModel",
            "_view_count": null,
            "_view_module": "@jupyter-widgets/controls",
            "_view_module_version": "1.5.0",
            "_view_name": "ProgressView",
            "bar_style": "success",
            "description": "",
            "description_tooltip": null,
            "layout": "IPY_MODEL_47307b049d2240159429ed99343c286d",
            "max": 466062,
            "min": 0,
            "orientation": "horizontal",
            "style": "IPY_MODEL_d0546f78ef884f19b25b99efcbd430b9",
            "value": 466062
          }
        },
        "ffac12bce7cc41cfa02546187f73a73c": {
          "model_module": "@jupyter-widgets/controls",
          "model_name": "HTMLModel",
          "model_module_version": "1.5.0",
          "state": {
            "_dom_classes": [],
            "_model_module": "@jupyter-widgets/controls",
            "_model_module_version": "1.5.0",
            "_model_name": "HTMLModel",
            "_view_count": null,
            "_view_module": "@jupyter-widgets/controls",
            "_view_module_version": "1.5.0",
            "_view_name": "HTMLView",
            "description": "",
            "description_tooltip": null,
            "layout": "IPY_MODEL_6cc3505eb873481fa7f25b01f1a6bf4a",
            "placeholder": "​",
            "style": "IPY_MODEL_16b019aa3137461797ae23e3ebfc7291",
            "value": " 466k/466k [00:00&lt;00:00, 7.75MB/s]"
          }
        },
        "3cfc1327ea8f4ee19d945f1528850e9f": {
          "model_module": "@jupyter-widgets/base",
          "model_name": "LayoutModel",
          "model_module_version": "1.2.0",
          "state": {
            "_model_module": "@jupyter-widgets/base",
            "_model_module_version": "1.2.0",
            "_model_name": "LayoutModel",
            "_view_count": null,
            "_view_module": "@jupyter-widgets/base",
            "_view_module_version": "1.2.0",
            "_view_name": "LayoutView",
            "align_content": null,
            "align_items": null,
            "align_self": null,
            "border": null,
            "bottom": null,
            "display": null,
            "flex": null,
            "flex_flow": null,
            "grid_area": null,
            "grid_auto_columns": null,
            "grid_auto_flow": null,
            "grid_auto_rows": null,
            "grid_column": null,
            "grid_gap": null,
            "grid_row": null,
            "grid_template_areas": null,
            "grid_template_columns": null,
            "grid_template_rows": null,
            "height": null,
            "justify_content": null,
            "justify_items": null,
            "left": null,
            "margin": null,
            "max_height": null,
            "max_width": null,
            "min_height": null,
            "min_width": null,
            "object_fit": null,
            "object_position": null,
            "order": null,
            "overflow": null,
            "overflow_x": null,
            "overflow_y": null,
            "padding": null,
            "right": null,
            "top": null,
            "visibility": null,
            "width": null
          }
        },
        "6e23dea8b6cf45aa8bf07ce12873237f": {
          "model_module": "@jupyter-widgets/base",
          "model_name": "LayoutModel",
          "model_module_version": "1.2.0",
          "state": {
            "_model_module": "@jupyter-widgets/base",
            "_model_module_version": "1.2.0",
            "_model_name": "LayoutModel",
            "_view_count": null,
            "_view_module": "@jupyter-widgets/base",
            "_view_module_version": "1.2.0",
            "_view_name": "LayoutView",
            "align_content": null,
            "align_items": null,
            "align_self": null,
            "border": null,
            "bottom": null,
            "display": null,
            "flex": null,
            "flex_flow": null,
            "grid_area": null,
            "grid_auto_columns": null,
            "grid_auto_flow": null,
            "grid_auto_rows": null,
            "grid_column": null,
            "grid_gap": null,
            "grid_row": null,
            "grid_template_areas": null,
            "grid_template_columns": null,
            "grid_template_rows": null,
            "height": null,
            "justify_content": null,
            "justify_items": null,
            "left": null,
            "margin": null,
            "max_height": null,
            "max_width": null,
            "min_height": null,
            "min_width": null,
            "object_fit": null,
            "object_position": null,
            "order": null,
            "overflow": null,
            "overflow_x": null,
            "overflow_y": null,
            "padding": null,
            "right": null,
            "top": null,
            "visibility": null,
            "width": null
          }
        },
        "378a4e53bbb74ab092350a81abe96c23": {
          "model_module": "@jupyter-widgets/controls",
          "model_name": "DescriptionStyleModel",
          "model_module_version": "1.5.0",
          "state": {
            "_model_module": "@jupyter-widgets/controls",
            "_model_module_version": "1.5.0",
            "_model_name": "DescriptionStyleModel",
            "_view_count": null,
            "_view_module": "@jupyter-widgets/base",
            "_view_module_version": "1.2.0",
            "_view_name": "StyleView",
            "description_width": ""
          }
        },
        "47307b049d2240159429ed99343c286d": {
          "model_module": "@jupyter-widgets/base",
          "model_name": "LayoutModel",
          "model_module_version": "1.2.0",
          "state": {
            "_model_module": "@jupyter-widgets/base",
            "_model_module_version": "1.2.0",
            "_model_name": "LayoutModel",
            "_view_count": null,
            "_view_module": "@jupyter-widgets/base",
            "_view_module_version": "1.2.0",
            "_view_name": "LayoutView",
            "align_content": null,
            "align_items": null,
            "align_self": null,
            "border": null,
            "bottom": null,
            "display": null,
            "flex": null,
            "flex_flow": null,
            "grid_area": null,
            "grid_auto_columns": null,
            "grid_auto_flow": null,
            "grid_auto_rows": null,
            "grid_column": null,
            "grid_gap": null,
            "grid_row": null,
            "grid_template_areas": null,
            "grid_template_columns": null,
            "grid_template_rows": null,
            "height": null,
            "justify_content": null,
            "justify_items": null,
            "left": null,
            "margin": null,
            "max_height": null,
            "max_width": null,
            "min_height": null,
            "min_width": null,
            "object_fit": null,
            "object_position": null,
            "order": null,
            "overflow": null,
            "overflow_x": null,
            "overflow_y": null,
            "padding": null,
            "right": null,
            "top": null,
            "visibility": null,
            "width": null
          }
        },
        "d0546f78ef884f19b25b99efcbd430b9": {
          "model_module": "@jupyter-widgets/controls",
          "model_name": "ProgressStyleModel",
          "model_module_version": "1.5.0",
          "state": {
            "_model_module": "@jupyter-widgets/controls",
            "_model_module_version": "1.5.0",
            "_model_name": "ProgressStyleModel",
            "_view_count": null,
            "_view_module": "@jupyter-widgets/base",
            "_view_module_version": "1.2.0",
            "_view_name": "StyleView",
            "bar_color": null,
            "description_width": ""
          }
        },
        "6cc3505eb873481fa7f25b01f1a6bf4a": {
          "model_module": "@jupyter-widgets/base",
          "model_name": "LayoutModel",
          "model_module_version": "1.2.0",
          "state": {
            "_model_module": "@jupyter-widgets/base",
            "_model_module_version": "1.2.0",
            "_model_name": "LayoutModel",
            "_view_count": null,
            "_view_module": "@jupyter-widgets/base",
            "_view_module_version": "1.2.0",
            "_view_name": "LayoutView",
            "align_content": null,
            "align_items": null,
            "align_self": null,
            "border": null,
            "bottom": null,
            "display": null,
            "flex": null,
            "flex_flow": null,
            "grid_area": null,
            "grid_auto_columns": null,
            "grid_auto_flow": null,
            "grid_auto_rows": null,
            "grid_column": null,
            "grid_gap": null,
            "grid_row": null,
            "grid_template_areas": null,
            "grid_template_columns": null,
            "grid_template_rows": null,
            "height": null,
            "justify_content": null,
            "justify_items": null,
            "left": null,
            "margin": null,
            "max_height": null,
            "max_width": null,
            "min_height": null,
            "min_width": null,
            "object_fit": null,
            "object_position": null,
            "order": null,
            "overflow": null,
            "overflow_x": null,
            "overflow_y": null,
            "padding": null,
            "right": null,
            "top": null,
            "visibility": null,
            "width": null
          }
        },
        "16b019aa3137461797ae23e3ebfc7291": {
          "model_module": "@jupyter-widgets/controls",
          "model_name": "DescriptionStyleModel",
          "model_module_version": "1.5.0",
          "state": {
            "_model_module": "@jupyter-widgets/controls",
            "_model_module_version": "1.5.0",
            "_model_name": "DescriptionStyleModel",
            "_view_count": null,
            "_view_module": "@jupyter-widgets/base",
            "_view_module_version": "1.2.0",
            "_view_name": "StyleView",
            "description_width": ""
          }
        },
        "fe56095baa5a4af59c4aac51ef4907c6": {
          "model_module": "@jupyter-widgets/controls",
          "model_name": "HBoxModel",
          "model_module_version": "1.5.0",
          "state": {
            "_dom_classes": [],
            "_model_module": "@jupyter-widgets/controls",
            "_model_module_version": "1.5.0",
            "_model_name": "HBoxModel",
            "_view_count": null,
            "_view_module": "@jupyter-widgets/controls",
            "_view_module_version": "1.5.0",
            "_view_name": "HBoxView",
            "box_style": "",
            "children": [
              "IPY_MODEL_e002f5e4ab624e8892eacd5639fcc21d",
              "IPY_MODEL_859a0c04098f4aceb891c46e3db8aa93",
              "IPY_MODEL_bfaeb25e111240adb4f47a851795f5a7"
            ],
            "layout": "IPY_MODEL_606475461aac4833a074e29a4b505e2e"
          }
        },
        "e002f5e4ab624e8892eacd5639fcc21d": {
          "model_module": "@jupyter-widgets/controls",
          "model_name": "HTMLModel",
          "model_module_version": "1.5.0",
          "state": {
            "_dom_classes": [],
            "_model_module": "@jupyter-widgets/controls",
            "_model_module_version": "1.5.0",
            "_model_name": "HTMLModel",
            "_view_count": null,
            "_view_module": "@jupyter-widgets/controls",
            "_view_module_version": "1.5.0",
            "_view_name": "HTMLView",
            "description": "",
            "description_tooltip": null,
            "layout": "IPY_MODEL_da3da4f3c107475f8714d23d51777a9b",
            "placeholder": "​",
            "style": "IPY_MODEL_16f2736deac446438965225547fbf32d",
            "value": "model.safetensors: 100%"
          }
        },
        "859a0c04098f4aceb891c46e3db8aa93": {
          "model_module": "@jupyter-widgets/controls",
          "model_name": "FloatProgressModel",
          "model_module_version": "1.5.0",
          "state": {
            "_dom_classes": [],
            "_model_module": "@jupyter-widgets/controls",
            "_model_module_version": "1.5.0",
            "_model_name": "FloatProgressModel",
            "_view_count": null,
            "_view_module": "@jupyter-widgets/controls",
            "_view_module_version": "1.5.0",
            "_view_name": "ProgressView",
            "bar_style": "success",
            "description": "",
            "description_tooltip": null,
            "layout": "IPY_MODEL_17d4656a8af340dcb908a285b431bf5a",
            "max": 267954768,
            "min": 0,
            "orientation": "horizontal",
            "style": "IPY_MODEL_c82708f75a674cb59f2069492f1137e1",
            "value": 267954768
          }
        },
        "bfaeb25e111240adb4f47a851795f5a7": {
          "model_module": "@jupyter-widgets/controls",
          "model_name": "HTMLModel",
          "model_module_version": "1.5.0",
          "state": {
            "_dom_classes": [],
            "_model_module": "@jupyter-widgets/controls",
            "_model_module_version": "1.5.0",
            "_model_name": "HTMLModel",
            "_view_count": null,
            "_view_module": "@jupyter-widgets/controls",
            "_view_module_version": "1.5.0",
            "_view_name": "HTMLView",
            "description": "",
            "description_tooltip": null,
            "layout": "IPY_MODEL_2737c4219c6c47919e4b55711993fd3d",
            "placeholder": "​",
            "style": "IPY_MODEL_8ea65f995411495eb44aa3db74be2f9a",
            "value": " 268M/268M [00:01&lt;00:00, 211MB/s]"
          }
        },
        "606475461aac4833a074e29a4b505e2e": {
          "model_module": "@jupyter-widgets/base",
          "model_name": "LayoutModel",
          "model_module_version": "1.2.0",
          "state": {
            "_model_module": "@jupyter-widgets/base",
            "_model_module_version": "1.2.0",
            "_model_name": "LayoutModel",
            "_view_count": null,
            "_view_module": "@jupyter-widgets/base",
            "_view_module_version": "1.2.0",
            "_view_name": "LayoutView",
            "align_content": null,
            "align_items": null,
            "align_self": null,
            "border": null,
            "bottom": null,
            "display": null,
            "flex": null,
            "flex_flow": null,
            "grid_area": null,
            "grid_auto_columns": null,
            "grid_auto_flow": null,
            "grid_auto_rows": null,
            "grid_column": null,
            "grid_gap": null,
            "grid_row": null,
            "grid_template_areas": null,
            "grid_template_columns": null,
            "grid_template_rows": null,
            "height": null,
            "justify_content": null,
            "justify_items": null,
            "left": null,
            "margin": null,
            "max_height": null,
            "max_width": null,
            "min_height": null,
            "min_width": null,
            "object_fit": null,
            "object_position": null,
            "order": null,
            "overflow": null,
            "overflow_x": null,
            "overflow_y": null,
            "padding": null,
            "right": null,
            "top": null,
            "visibility": null,
            "width": null
          }
        },
        "da3da4f3c107475f8714d23d51777a9b": {
          "model_module": "@jupyter-widgets/base",
          "model_name": "LayoutModel",
          "model_module_version": "1.2.0",
          "state": {
            "_model_module": "@jupyter-widgets/base",
            "_model_module_version": "1.2.0",
            "_model_name": "LayoutModel",
            "_view_count": null,
            "_view_module": "@jupyter-widgets/base",
            "_view_module_version": "1.2.0",
            "_view_name": "LayoutView",
            "align_content": null,
            "align_items": null,
            "align_self": null,
            "border": null,
            "bottom": null,
            "display": null,
            "flex": null,
            "flex_flow": null,
            "grid_area": null,
            "grid_auto_columns": null,
            "grid_auto_flow": null,
            "grid_auto_rows": null,
            "grid_column": null,
            "grid_gap": null,
            "grid_row": null,
            "grid_template_areas": null,
            "grid_template_columns": null,
            "grid_template_rows": null,
            "height": null,
            "justify_content": null,
            "justify_items": null,
            "left": null,
            "margin": null,
            "max_height": null,
            "max_width": null,
            "min_height": null,
            "min_width": null,
            "object_fit": null,
            "object_position": null,
            "order": null,
            "overflow": null,
            "overflow_x": null,
            "overflow_y": null,
            "padding": null,
            "right": null,
            "top": null,
            "visibility": null,
            "width": null
          }
        },
        "16f2736deac446438965225547fbf32d": {
          "model_module": "@jupyter-widgets/controls",
          "model_name": "DescriptionStyleModel",
          "model_module_version": "1.5.0",
          "state": {
            "_model_module": "@jupyter-widgets/controls",
            "_model_module_version": "1.5.0",
            "_model_name": "DescriptionStyleModel",
            "_view_count": null,
            "_view_module": "@jupyter-widgets/base",
            "_view_module_version": "1.2.0",
            "_view_name": "StyleView",
            "description_width": ""
          }
        },
        "17d4656a8af340dcb908a285b431bf5a": {
          "model_module": "@jupyter-widgets/base",
          "model_name": "LayoutModel",
          "model_module_version": "1.2.0",
          "state": {
            "_model_module": "@jupyter-widgets/base",
            "_model_module_version": "1.2.0",
            "_model_name": "LayoutModel",
            "_view_count": null,
            "_view_module": "@jupyter-widgets/base",
            "_view_module_version": "1.2.0",
            "_view_name": "LayoutView",
            "align_content": null,
            "align_items": null,
            "align_self": null,
            "border": null,
            "bottom": null,
            "display": null,
            "flex": null,
            "flex_flow": null,
            "grid_area": null,
            "grid_auto_columns": null,
            "grid_auto_flow": null,
            "grid_auto_rows": null,
            "grid_column": null,
            "grid_gap": null,
            "grid_row": null,
            "grid_template_areas": null,
            "grid_template_columns": null,
            "grid_template_rows": null,
            "height": null,
            "justify_content": null,
            "justify_items": null,
            "left": null,
            "margin": null,
            "max_height": null,
            "max_width": null,
            "min_height": null,
            "min_width": null,
            "object_fit": null,
            "object_position": null,
            "order": null,
            "overflow": null,
            "overflow_x": null,
            "overflow_y": null,
            "padding": null,
            "right": null,
            "top": null,
            "visibility": null,
            "width": null
          }
        },
        "c82708f75a674cb59f2069492f1137e1": {
          "model_module": "@jupyter-widgets/controls",
          "model_name": "ProgressStyleModel",
          "model_module_version": "1.5.0",
          "state": {
            "_model_module": "@jupyter-widgets/controls",
            "_model_module_version": "1.5.0",
            "_model_name": "ProgressStyleModel",
            "_view_count": null,
            "_view_module": "@jupyter-widgets/base",
            "_view_module_version": "1.2.0",
            "_view_name": "StyleView",
            "bar_color": null,
            "description_width": ""
          }
        },
        "2737c4219c6c47919e4b55711993fd3d": {
          "model_module": "@jupyter-widgets/base",
          "model_name": "LayoutModel",
          "model_module_version": "1.2.0",
          "state": {
            "_model_module": "@jupyter-widgets/base",
            "_model_module_version": "1.2.0",
            "_model_name": "LayoutModel",
            "_view_count": null,
            "_view_module": "@jupyter-widgets/base",
            "_view_module_version": "1.2.0",
            "_view_name": "LayoutView",
            "align_content": null,
            "align_items": null,
            "align_self": null,
            "border": null,
            "bottom": null,
            "display": null,
            "flex": null,
            "flex_flow": null,
            "grid_area": null,
            "grid_auto_columns": null,
            "grid_auto_flow": null,
            "grid_auto_rows": null,
            "grid_column": null,
            "grid_gap": null,
            "grid_row": null,
            "grid_template_areas": null,
            "grid_template_columns": null,
            "grid_template_rows": null,
            "height": null,
            "justify_content": null,
            "justify_items": null,
            "left": null,
            "margin": null,
            "max_height": null,
            "max_width": null,
            "min_height": null,
            "min_width": null,
            "object_fit": null,
            "object_position": null,
            "order": null,
            "overflow": null,
            "overflow_x": null,
            "overflow_y": null,
            "padding": null,
            "right": null,
            "top": null,
            "visibility": null,
            "width": null
          }
        },
        "8ea65f995411495eb44aa3db74be2f9a": {
          "model_module": "@jupyter-widgets/controls",
          "model_name": "DescriptionStyleModel",
          "model_module_version": "1.5.0",
          "state": {
            "_model_module": "@jupyter-widgets/controls",
            "_model_module_version": "1.5.0",
            "_model_name": "DescriptionStyleModel",
            "_view_count": null,
            "_view_module": "@jupyter-widgets/base",
            "_view_module_version": "1.2.0",
            "_view_name": "StyleView",
            "description_width": ""
          }
        }
      }
    }
  },
  "nbformat": 4,
  "nbformat_minor": 0
}